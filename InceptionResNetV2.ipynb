{
  "nbformat": 4,
  "nbformat_minor": 0,
  "metadata": {
    "kernelspec": {
      "display_name": "Python 3",
      "language": "python",
      "name": "python3"
    },
    "language_info": {
      "codemirror_mode": {
        "name": "ipython",
        "version": 3
      },
      "file_extension": ".py",
      "mimetype": "text/x-python",
      "name": "python",
      "nbconvert_exporter": "python",
      "pygments_lexer": "ipython3",
      "version": "3.8.5"
    },
    "colab": {
      "name": "InceptionResNetV2.ipynb",
      "provenance": [],
      "machine_shape": "hm",
      "include_colab_link": true
    },
    "accelerator": "GPU"
  },
  "cells": [
    {
      "cell_type": "markdown",
      "metadata": {
        "id": "view-in-github",
        "colab_type": "text"
      },
      "source": [
        "<a href=\"https://colab.research.google.com/github/yoo9519-AIdev/Learning/blob/master/InceptionResNetV2.ipynb\" target=\"_parent\"><img src=\"https://colab.research.google.com/assets/colab-badge.svg\" alt=\"Open In Colab\"/></a>"
      ]
    },
    {
      "cell_type": "markdown",
      "metadata": {
        "id": "xuU43hU8e24r"
      },
      "source": [
        "# InceptionResNetV2\n",
        "- ChestX CNN 모델과 같은 데이터셋  \n",
        "(2020.11.09.) 수정"
      ]
    },
    {
      "cell_type": "markdown",
      "metadata": {
        "id": "JJmIsfX7e24v"
      },
      "source": [
        "### 필요모듈호출 및 GPU 확인"
      ]
    },
    {
      "cell_type": "code",
      "metadata": {
        "id": "TpbbInvfe24x"
      },
      "source": [
        "import os\n",
        "import numpy as np\n",
        "import pandas as pd\n",
        "from glob import glob\n",
        "from itertools import chain\n",
        "from sklearn.metrics import roc_curve, auc, roc_auc_score, accuracy_score, average_precision_score\n",
        "from matplotlib import pyplot as plt\n",
        "from sklearn.model_selection import train_test_split\n",
        "from tensorflow.keras.preprocessing.image import ImageDataGenerator\n",
        "from tqdm.notebook import tqdm"
      ],
      "execution_count": 1,
      "outputs": []
    },
    {
      "cell_type": "code",
      "metadata": {
        "id": "qF-iILJoe247",
        "outputId": "c50c1d19-9769-43ca-c527-7b29cfcf6d10",
        "colab": {
          "base_uri": "https://localhost:8080/"
        }
      },
      "source": [
        "import tensorflow as tf\n",
        "print(\"Num GPUs Available: \", len(tf.config.experimental.list_physical_devices('GPU')))\n",
        "print(tf.__version__)"
      ],
      "execution_count": 2,
      "outputs": [
        {
          "output_type": "stream",
          "text": [
            "Num GPUs Available:  1\n",
            "2.3.0\n"
          ],
          "name": "stdout"
        }
      ]
    },
    {
      "cell_type": "code",
      "metadata": {
        "id": "ZuanUQXZiDNq"
      },
      "source": [
        "from google.colab import drive\n",
        "drive.mount('/content/drive')"
      ],
      "execution_count": null,
      "outputs": []
    },
    {
      "cell_type": "markdown",
      "metadata": {
        "id": "abe7Ek2Ne25E"
      },
      "source": [
        "### 경로지정 및 size 조정"
      ]
    },
    {
      "cell_type": "code",
      "metadata": {
        "id": "BiImw9l_e25G"
      },
      "source": [
        "DATA_DIR = '/content/drive/My Drive/분당서울대병원_AI_project/kaggle_chest_xray'\n",
        "# DATA_DIR2 = '../input/chest-xray-pneumonia/'\n",
        "image_size = 224\n",
        "batch_size = 32"
      ],
      "execution_count": 4,
      "outputs": []
    },
    {
      "cell_type": "markdown",
      "metadata": {
        "id": "kypJIvGte25N"
      },
      "source": [
        "### 데이터 구조 확인 및 조정"
      ]
    },
    {
      "cell_type": "code",
      "metadata": {
        "id": "gf6wShI2gMte"
      },
      "source": [
        "df = pd.read_csv(f'/content/drive/My Drive/분당서울대병원_AI_project/kaggle_chest_xray/Data_Entry_2017.csv')\n",
        "data_image_paths = {os.path.basename(x): x for x in tqdm(glob(os.path.join(DATA_DIR, 'images*', '*', '*.png')))}\n",
        "df['path'] = df['Image Index'].map(data_image_paths.get)\n",
        "df['Finding Labels'] = df['Finding Labels'].map(lambda x: x.replace('No Finding', ''))"
      ],
      "execution_count": null,
      "outputs": []
    },
    {
      "cell_type": "code",
      "metadata": {
        "id": "B0oInfdne25d"
      },
      "source": [
        "df['path'] = df['path'].astype(str)\n",
        "path = df['path']\n",
        "path"
      ],
      "execution_count": null,
      "outputs": []
    },
    {
      "cell_type": "code",
      "metadata": {
        "id": "HYBhf3r0e25k"
      },
      "source": [
        "normal_images = glob('/content/drive/My Drive/분당서울대병원_AI_project/kaggle_chest_xray/*.png')\n",
        "\n",
        "normal_data = {'path': normal_images, 'Finding Labels': 'Normal'}\n",
        "df1 = pd.DataFrame(normal_data)\n",
        "\n",
        "df = pd.concat([df,df1], ignore_index=True)\n",
        "df"
      ],
      "execution_count": null,
      "outputs": []
    },
    {
      "cell_type": "markdown",
      "metadata": {
        "id": "1ZZ2JBSFe25s"
      },
      "source": [
        "### Labels 확인 / Labels가 존재하면 1, 아니면 0"
      ]
    },
    {
      "cell_type": "code",
      "metadata": {
        "id": "DbRvy-6Ye25v",
        "outputId": "bcc0a7f9-6af9-4b80-cba7-650980d88e88"
      },
      "source": [
        "labels = np.unique(list(chain(*df['Finding Labels'].map(lambda x: x.split('|')).tolist())))\n",
        "labels = [x for x in labels if len(x) > 0]\n",
        "labels"
      ],
      "execution_count": null,
      "outputs": [
        {
          "output_type": "execute_result",
          "data": {
            "text/plain": [
              "['Atelectasis',\n",
              " 'Cardiomegaly',\n",
              " 'Consolidation',\n",
              " 'Edema',\n",
              " 'Effusion',\n",
              " 'Emphysema',\n",
              " 'Fibrosis',\n",
              " 'Hernia',\n",
              " 'Infiltration',\n",
              " 'Mass',\n",
              " 'Nodule',\n",
              " 'Normal',\n",
              " 'Pleural_Thickening',\n",
              " 'Pneumonia',\n",
              " 'Pneumothorax']"
            ]
          },
          "metadata": {
            "tags": []
          },
          "execution_count": 7
        }
      ]
    },
    {
      "cell_type": "code",
      "metadata": {
        "id": "l7qCwkG7e251"
      },
      "source": [
        "for label in labels:\n",
        "    if len(label) > 1:\n",
        "        df[label] = df['Finding Labels'].map(lambda finding: 1.0 if label in finding else 0.0)"
      ],
      "execution_count": null,
      "outputs": []
    },
    {
      "cell_type": "code",
      "metadata": {
        "id": "DAnZIzjve255",
        "outputId": "70666306-0f98-4f7e-d138-a31d9700758a"
      },
      "source": [
        "df.head()"
      ],
      "execution_count": null,
      "outputs": [
        {
          "output_type": "execute_result",
          "data": {
            "text/html": [
              "<div>\n",
              "<style scoped>\n",
              "    .dataframe tbody tr th:only-of-type {\n",
              "        vertical-align: middle;\n",
              "    }\n",
              "\n",
              "    .dataframe tbody tr th {\n",
              "        vertical-align: top;\n",
              "    }\n",
              "\n",
              "    .dataframe thead th {\n",
              "        text-align: right;\n",
              "    }\n",
              "</style>\n",
              "<table border=\"1\" class=\"dataframe\">\n",
              "  <thead>\n",
              "    <tr style=\"text-align: right;\">\n",
              "      <th></th>\n",
              "      <th>Image Index</th>\n",
              "      <th>Finding Labels</th>\n",
              "      <th>Follow-up #</th>\n",
              "      <th>Patient ID</th>\n",
              "      <th>Patient Age</th>\n",
              "      <th>Patient Gender</th>\n",
              "      <th>View Position</th>\n",
              "      <th>OriginalImage[Width</th>\n",
              "      <th>Height]</th>\n",
              "      <th>OriginalImagePixelSpacing[x</th>\n",
              "      <th>...</th>\n",
              "      <th>Emphysema</th>\n",
              "      <th>Fibrosis</th>\n",
              "      <th>Hernia</th>\n",
              "      <th>Infiltration</th>\n",
              "      <th>Mass</th>\n",
              "      <th>Nodule</th>\n",
              "      <th>Normal</th>\n",
              "      <th>Pleural_Thickening</th>\n",
              "      <th>Pneumonia</th>\n",
              "      <th>Pneumothorax</th>\n",
              "    </tr>\n",
              "  </thead>\n",
              "  <tbody>\n",
              "    <tr>\n",
              "      <th>0</th>\n",
              "      <td>00000001_000.png</td>\n",
              "      <td>Cardiomegaly</td>\n",
              "      <td>0.0</td>\n",
              "      <td>1.0</td>\n",
              "      <td>58.0</td>\n",
              "      <td>M</td>\n",
              "      <td>PA</td>\n",
              "      <td>2682.0</td>\n",
              "      <td>2749.0</td>\n",
              "      <td>0.143</td>\n",
              "      <td>...</td>\n",
              "      <td>0.0</td>\n",
              "      <td>0.0</td>\n",
              "      <td>0.0</td>\n",
              "      <td>0.0</td>\n",
              "      <td>0.0</td>\n",
              "      <td>0.0</td>\n",
              "      <td>0.0</td>\n",
              "      <td>0.0</td>\n",
              "      <td>0.0</td>\n",
              "      <td>0.0</td>\n",
              "    </tr>\n",
              "    <tr>\n",
              "      <th>1</th>\n",
              "      <td>00000001_001.png</td>\n",
              "      <td>Cardiomegaly|Emphysema</td>\n",
              "      <td>1.0</td>\n",
              "      <td>1.0</td>\n",
              "      <td>58.0</td>\n",
              "      <td>M</td>\n",
              "      <td>PA</td>\n",
              "      <td>2894.0</td>\n",
              "      <td>2729.0</td>\n",
              "      <td>0.143</td>\n",
              "      <td>...</td>\n",
              "      <td>1.0</td>\n",
              "      <td>0.0</td>\n",
              "      <td>0.0</td>\n",
              "      <td>0.0</td>\n",
              "      <td>0.0</td>\n",
              "      <td>0.0</td>\n",
              "      <td>0.0</td>\n",
              "      <td>0.0</td>\n",
              "      <td>0.0</td>\n",
              "      <td>0.0</td>\n",
              "    </tr>\n",
              "    <tr>\n",
              "      <th>2</th>\n",
              "      <td>00000001_002.png</td>\n",
              "      <td>Cardiomegaly|Effusion</td>\n",
              "      <td>2.0</td>\n",
              "      <td>1.0</td>\n",
              "      <td>58.0</td>\n",
              "      <td>M</td>\n",
              "      <td>PA</td>\n",
              "      <td>2500.0</td>\n",
              "      <td>2048.0</td>\n",
              "      <td>0.168</td>\n",
              "      <td>...</td>\n",
              "      <td>0.0</td>\n",
              "      <td>0.0</td>\n",
              "      <td>0.0</td>\n",
              "      <td>0.0</td>\n",
              "      <td>0.0</td>\n",
              "      <td>0.0</td>\n",
              "      <td>0.0</td>\n",
              "      <td>0.0</td>\n",
              "      <td>0.0</td>\n",
              "      <td>0.0</td>\n",
              "    </tr>\n",
              "    <tr>\n",
              "      <th>3</th>\n",
              "      <td>00000002_000.png</td>\n",
              "      <td></td>\n",
              "      <td>0.0</td>\n",
              "      <td>2.0</td>\n",
              "      <td>81.0</td>\n",
              "      <td>M</td>\n",
              "      <td>PA</td>\n",
              "      <td>2500.0</td>\n",
              "      <td>2048.0</td>\n",
              "      <td>0.171</td>\n",
              "      <td>...</td>\n",
              "      <td>0.0</td>\n",
              "      <td>0.0</td>\n",
              "      <td>0.0</td>\n",
              "      <td>0.0</td>\n",
              "      <td>0.0</td>\n",
              "      <td>0.0</td>\n",
              "      <td>0.0</td>\n",
              "      <td>0.0</td>\n",
              "      <td>0.0</td>\n",
              "      <td>0.0</td>\n",
              "    </tr>\n",
              "    <tr>\n",
              "      <th>4</th>\n",
              "      <td>00000003_000.png</td>\n",
              "      <td>Hernia</td>\n",
              "      <td>0.0</td>\n",
              "      <td>3.0</td>\n",
              "      <td>81.0</td>\n",
              "      <td>F</td>\n",
              "      <td>PA</td>\n",
              "      <td>2582.0</td>\n",
              "      <td>2991.0</td>\n",
              "      <td>0.143</td>\n",
              "      <td>...</td>\n",
              "      <td>0.0</td>\n",
              "      <td>0.0</td>\n",
              "      <td>1.0</td>\n",
              "      <td>0.0</td>\n",
              "      <td>0.0</td>\n",
              "      <td>0.0</td>\n",
              "      <td>0.0</td>\n",
              "      <td>0.0</td>\n",
              "      <td>0.0</td>\n",
              "      <td>0.0</td>\n",
              "    </tr>\n",
              "  </tbody>\n",
              "</table>\n",
              "<p>5 rows × 28 columns</p>\n",
              "</div>"
            ],
            "text/plain": [
              "        Image Index          Finding Labels  Follow-up #  Patient ID  \\\n",
              "0  00000001_000.png            Cardiomegaly          0.0         1.0   \n",
              "1  00000001_001.png  Cardiomegaly|Emphysema          1.0         1.0   \n",
              "2  00000001_002.png   Cardiomegaly|Effusion          2.0         1.0   \n",
              "3  00000002_000.png                                  0.0         2.0   \n",
              "4  00000003_000.png                  Hernia          0.0         3.0   \n",
              "\n",
              "   Patient Age Patient Gender View Position  OriginalImage[Width  Height]  \\\n",
              "0         58.0              M            PA               2682.0   2749.0   \n",
              "1         58.0              M            PA               2894.0   2729.0   \n",
              "2         58.0              M            PA               2500.0   2048.0   \n",
              "3         81.0              M            PA               2500.0   2048.0   \n",
              "4         81.0              F            PA               2582.0   2991.0   \n",
              "\n",
              "   OriginalImagePixelSpacing[x  ...  Emphysema  Fibrosis Hernia  Infiltration  \\\n",
              "0                        0.143  ...        0.0       0.0    0.0           0.0   \n",
              "1                        0.143  ...        1.0       0.0    0.0           0.0   \n",
              "2                        0.168  ...        0.0       0.0    0.0           0.0   \n",
              "3                        0.171  ...        0.0       0.0    0.0           0.0   \n",
              "4                        0.143  ...        0.0       0.0    1.0           0.0   \n",
              "\n",
              "   Mass  Nodule  Normal  Pleural_Thickening  Pneumonia  Pneumothorax  \n",
              "0   0.0     0.0     0.0                 0.0        0.0           0.0  \n",
              "1   0.0     0.0     0.0                 0.0        0.0           0.0  \n",
              "2   0.0     0.0     0.0                 0.0        0.0           0.0  \n",
              "3   0.0     0.0     0.0                 0.0        0.0           0.0  \n",
              "4   0.0     0.0     0.0                 0.0        0.0           0.0  \n",
              "\n",
              "[5 rows x 28 columns]"
            ]
          },
          "metadata": {
            "tags": []
          },
          "execution_count": 9
        }
      ]
    },
    {
      "cell_type": "markdown",
      "metadata": {
        "id": "9donnihAe259"
      },
      "source": [
        "### 1000번 이상 빈도수 출력"
      ]
    },
    {
      "cell_type": "code",
      "metadata": {
        "id": "WgRYeEiUe25-",
        "outputId": "bc269555-5328-4573-eedd-d206acdec0cd"
      },
      "source": [
        "labels = [label for label in labels if df[label].sum() > 1000]\n",
        "labels"
      ],
      "execution_count": null,
      "outputs": [
        {
          "output_type": "execute_result",
          "data": {
            "text/plain": [
              "['Atelectasis',\n",
              " 'Cardiomegaly',\n",
              " 'Consolidation',\n",
              " 'Edema',\n",
              " 'Effusion',\n",
              " 'Emphysema',\n",
              " 'Fibrosis',\n",
              " 'Infiltration',\n",
              " 'Mass',\n",
              " 'Nodule',\n",
              " 'Normal',\n",
              " 'Pleural_Thickening',\n",
              " 'Pneumonia',\n",
              " 'Pneumothorax']"
            ]
          },
          "metadata": {
            "tags": []
          },
          "execution_count": 10
        }
      ]
    },
    {
      "cell_type": "markdown",
      "metadata": {
        "id": "gEOVMLn-e26D"
      },
      "source": [
        "### flow_from_dataframe 준비 / 실행"
      ]
    },
    {
      "cell_type": "code",
      "metadata": {
        "id": "FU-O-DQDe26E"
      },
      "source": [
        "train_df, valid_df = train_test_split(df, test_size=0.20, random_state=2020, stratify=df['Finding Labels'].map(lambda x: x[:4]))"
      ],
      "execution_count": null,
      "outputs": []
    },
    {
      "cell_type": "code",
      "metadata": {
        "id": "8zXAq8q-e26H",
        "outputId": "1e167c53-aea3-4527-8fa5-646bcb158b93"
      },
      "source": [
        "valid_df"
      ],
      "execution_count": null,
      "outputs": [
        {
          "output_type": "execute_result",
          "data": {
            "text/html": [
              "<div>\n",
              "<style scoped>\n",
              "    .dataframe tbody tr th:only-of-type {\n",
              "        vertical-align: middle;\n",
              "    }\n",
              "\n",
              "    .dataframe tbody tr th {\n",
              "        vertical-align: top;\n",
              "    }\n",
              "\n",
              "    .dataframe thead th {\n",
              "        text-align: right;\n",
              "    }\n",
              "</style>\n",
              "<table border=\"1\" class=\"dataframe\">\n",
              "  <thead>\n",
              "    <tr style=\"text-align: right;\">\n",
              "      <th></th>\n",
              "      <th>Image Index</th>\n",
              "      <th>Finding Labels</th>\n",
              "      <th>Follow-up #</th>\n",
              "      <th>Patient ID</th>\n",
              "      <th>Patient Age</th>\n",
              "      <th>Patient Gender</th>\n",
              "      <th>View Position</th>\n",
              "      <th>OriginalImage[Width</th>\n",
              "      <th>Height]</th>\n",
              "      <th>OriginalImagePixelSpacing[x</th>\n",
              "      <th>...</th>\n",
              "      <th>Emphysema</th>\n",
              "      <th>Fibrosis</th>\n",
              "      <th>Hernia</th>\n",
              "      <th>Infiltration</th>\n",
              "      <th>Mass</th>\n",
              "      <th>Nodule</th>\n",
              "      <th>Normal</th>\n",
              "      <th>Pleural_Thickening</th>\n",
              "      <th>Pneumonia</th>\n",
              "      <th>Pneumothorax</th>\n",
              "    </tr>\n",
              "  </thead>\n",
              "  <tbody>\n",
              "    <tr>\n",
              "      <th>58038</th>\n",
              "      <td>00014361_002.png</td>\n",
              "      <td></td>\n",
              "      <td>2.0</td>\n",
              "      <td>14361.0</td>\n",
              "      <td>37.0</td>\n",
              "      <td>M</td>\n",
              "      <td>PA</td>\n",
              "      <td>2670.0</td>\n",
              "      <td>2991.0</td>\n",
              "      <td>0.143</td>\n",
              "      <td>...</td>\n",
              "      <td>0.0</td>\n",
              "      <td>0.0</td>\n",
              "      <td>0.0</td>\n",
              "      <td>0.0</td>\n",
              "      <td>0.0</td>\n",
              "      <td>0.0</td>\n",
              "      <td>0.0</td>\n",
              "      <td>0.0</td>\n",
              "      <td>0.0</td>\n",
              "      <td>0.0</td>\n",
              "    </tr>\n",
              "    <tr>\n",
              "      <th>81400</th>\n",
              "      <td>00019996_000.png</td>\n",
              "      <td>Infiltration|Nodule</td>\n",
              "      <td>0.0</td>\n",
              "      <td>19996.0</td>\n",
              "      <td>48.0</td>\n",
              "      <td>M</td>\n",
              "      <td>AP</td>\n",
              "      <td>2500.0</td>\n",
              "      <td>2048.0</td>\n",
              "      <td>0.168</td>\n",
              "      <td>...</td>\n",
              "      <td>0.0</td>\n",
              "      <td>0.0</td>\n",
              "      <td>0.0</td>\n",
              "      <td>1.0</td>\n",
              "      <td>0.0</td>\n",
              "      <td>1.0</td>\n",
              "      <td>0.0</td>\n",
              "      <td>0.0</td>\n",
              "      <td>0.0</td>\n",
              "      <td>0.0</td>\n",
              "    </tr>\n",
              "    <tr>\n",
              "      <th>81539</th>\n",
              "      <td>00020043_025.png</td>\n",
              "      <td></td>\n",
              "      <td>25.0</td>\n",
              "      <td>20043.0</td>\n",
              "      <td>45.0</td>\n",
              "      <td>F</td>\n",
              "      <td>PA</td>\n",
              "      <td>2342.0</td>\n",
              "      <td>2991.0</td>\n",
              "      <td>0.143</td>\n",
              "      <td>...</td>\n",
              "      <td>0.0</td>\n",
              "      <td>0.0</td>\n",
              "      <td>0.0</td>\n",
              "      <td>0.0</td>\n",
              "      <td>0.0</td>\n",
              "      <td>0.0</td>\n",
              "      <td>0.0</td>\n",
              "      <td>0.0</td>\n",
              "      <td>0.0</td>\n",
              "      <td>0.0</td>\n",
              "    </tr>\n",
              "    <tr>\n",
              "      <th>50900</th>\n",
              "      <td>00012874_014.png</td>\n",
              "      <td>Effusion</td>\n",
              "      <td>14.0</td>\n",
              "      <td>12874.0</td>\n",
              "      <td>62.0</td>\n",
              "      <td>M</td>\n",
              "      <td>PA</td>\n",
              "      <td>2992.0</td>\n",
              "      <td>2991.0</td>\n",
              "      <td>0.143</td>\n",
              "      <td>...</td>\n",
              "      <td>0.0</td>\n",
              "      <td>0.0</td>\n",
              "      <td>0.0</td>\n",
              "      <td>0.0</td>\n",
              "      <td>0.0</td>\n",
              "      <td>0.0</td>\n",
              "      <td>0.0</td>\n",
              "      <td>0.0</td>\n",
              "      <td>0.0</td>\n",
              "      <td>0.0</td>\n",
              "    </tr>\n",
              "    <tr>\n",
              "      <th>96790</th>\n",
              "      <td>00025517_000.png</td>\n",
              "      <td>Effusion</td>\n",
              "      <td>0.0</td>\n",
              "      <td>25517.0</td>\n",
              "      <td>72.0</td>\n",
              "      <td>M</td>\n",
              "      <td>PA</td>\n",
              "      <td>2992.0</td>\n",
              "      <td>2991.0</td>\n",
              "      <td>0.143</td>\n",
              "      <td>...</td>\n",
              "      <td>0.0</td>\n",
              "      <td>0.0</td>\n",
              "      <td>0.0</td>\n",
              "      <td>0.0</td>\n",
              "      <td>0.0</td>\n",
              "      <td>0.0</td>\n",
              "      <td>0.0</td>\n",
              "      <td>0.0</td>\n",
              "      <td>0.0</td>\n",
              "      <td>0.0</td>\n",
              "    </tr>\n",
              "    <tr>\n",
              "      <th>...</th>\n",
              "      <td>...</td>\n",
              "      <td>...</td>\n",
              "      <td>...</td>\n",
              "      <td>...</td>\n",
              "      <td>...</td>\n",
              "      <td>...</td>\n",
              "      <td>...</td>\n",
              "      <td>...</td>\n",
              "      <td>...</td>\n",
              "      <td>...</td>\n",
              "      <td>...</td>\n",
              "      <td>...</td>\n",
              "      <td>...</td>\n",
              "      <td>...</td>\n",
              "      <td>...</td>\n",
              "      <td>...</td>\n",
              "      <td>...</td>\n",
              "      <td>...</td>\n",
              "      <td>...</td>\n",
              "      <td>...</td>\n",
              "      <td>...</td>\n",
              "    </tr>\n",
              "    <tr>\n",
              "      <th>26770</th>\n",
              "      <td>00007007_014.png</td>\n",
              "      <td>Atelectasis</td>\n",
              "      <td>14.0</td>\n",
              "      <td>7007.0</td>\n",
              "      <td>45.0</td>\n",
              "      <td>F</td>\n",
              "      <td>AP</td>\n",
              "      <td>2500.0</td>\n",
              "      <td>2048.0</td>\n",
              "      <td>0.171</td>\n",
              "      <td>...</td>\n",
              "      <td>0.0</td>\n",
              "      <td>0.0</td>\n",
              "      <td>0.0</td>\n",
              "      <td>0.0</td>\n",
              "      <td>0.0</td>\n",
              "      <td>0.0</td>\n",
              "      <td>0.0</td>\n",
              "      <td>0.0</td>\n",
              "      <td>0.0</td>\n",
              "      <td>0.0</td>\n",
              "    </tr>\n",
              "    <tr>\n",
              "      <th>9027</th>\n",
              "      <td>00002364_002.png</td>\n",
              "      <td></td>\n",
              "      <td>2.0</td>\n",
              "      <td>2364.0</td>\n",
              "      <td>44.0</td>\n",
              "      <td>M</td>\n",
              "      <td>PA</td>\n",
              "      <td>2992.0</td>\n",
              "      <td>2991.0</td>\n",
              "      <td>0.143</td>\n",
              "      <td>...</td>\n",
              "      <td>0.0</td>\n",
              "      <td>0.0</td>\n",
              "      <td>0.0</td>\n",
              "      <td>0.0</td>\n",
              "      <td>0.0</td>\n",
              "      <td>0.0</td>\n",
              "      <td>0.0</td>\n",
              "      <td>0.0</td>\n",
              "      <td>0.0</td>\n",
              "      <td>0.0</td>\n",
              "    </tr>\n",
              "    <tr>\n",
              "      <th>491</th>\n",
              "      <td>00000116_040.png</td>\n",
              "      <td>Cardiomegaly|Consolidation</td>\n",
              "      <td>40.0</td>\n",
              "      <td>116.0</td>\n",
              "      <td>75.0</td>\n",
              "      <td>F</td>\n",
              "      <td>AP</td>\n",
              "      <td>2500.0</td>\n",
              "      <td>2048.0</td>\n",
              "      <td>0.168</td>\n",
              "      <td>...</td>\n",
              "      <td>0.0</td>\n",
              "      <td>0.0</td>\n",
              "      <td>0.0</td>\n",
              "      <td>0.0</td>\n",
              "      <td>0.0</td>\n",
              "      <td>0.0</td>\n",
              "      <td>0.0</td>\n",
              "      <td>0.0</td>\n",
              "      <td>0.0</td>\n",
              "      <td>0.0</td>\n",
              "    </tr>\n",
              "    <tr>\n",
              "      <th>43597</th>\n",
              "      <td>00011237_061.png</td>\n",
              "      <td>Atelectasis|Consolidation</td>\n",
              "      <td>61.0</td>\n",
              "      <td>11237.0</td>\n",
              "      <td>56.0</td>\n",
              "      <td>F</td>\n",
              "      <td>AP</td>\n",
              "      <td>2500.0</td>\n",
              "      <td>2048.0</td>\n",
              "      <td>0.168</td>\n",
              "      <td>...</td>\n",
              "      <td>0.0</td>\n",
              "      <td>0.0</td>\n",
              "      <td>0.0</td>\n",
              "      <td>0.0</td>\n",
              "      <td>0.0</td>\n",
              "      <td>0.0</td>\n",
              "      <td>0.0</td>\n",
              "      <td>0.0</td>\n",
              "      <td>0.0</td>\n",
              "      <td>0.0</td>\n",
              "    </tr>\n",
              "    <tr>\n",
              "      <th>116175</th>\n",
              "      <td>NaN</td>\n",
              "      <td>Normal</td>\n",
              "      <td>NaN</td>\n",
              "      <td>NaN</td>\n",
              "      <td>NaN</td>\n",
              "      <td>NaN</td>\n",
              "      <td>NaN</td>\n",
              "      <td>NaN</td>\n",
              "      <td>NaN</td>\n",
              "      <td>NaN</td>\n",
              "      <td>...</td>\n",
              "      <td>0.0</td>\n",
              "      <td>0.0</td>\n",
              "      <td>0.0</td>\n",
              "      <td>0.0</td>\n",
              "      <td>0.0</td>\n",
              "      <td>0.0</td>\n",
              "      <td>1.0</td>\n",
              "      <td>0.0</td>\n",
              "      <td>0.0</td>\n",
              "      <td>0.0</td>\n",
              "    </tr>\n",
              "  </tbody>\n",
              "</table>\n",
              "<p>28276 rows × 28 columns</p>\n",
              "</div>"
            ],
            "text/plain": [
              "             Image Index              Finding Labels  Follow-up #  Patient ID  \\\n",
              "58038   00014361_002.png                                      2.0     14361.0   \n",
              "81400   00019996_000.png         Infiltration|Nodule          0.0     19996.0   \n",
              "81539   00020043_025.png                                     25.0     20043.0   \n",
              "50900   00012874_014.png                    Effusion         14.0     12874.0   \n",
              "96790   00025517_000.png                    Effusion          0.0     25517.0   \n",
              "...                  ...                         ...          ...         ...   \n",
              "26770   00007007_014.png                 Atelectasis         14.0      7007.0   \n",
              "9027    00002364_002.png                                      2.0      2364.0   \n",
              "491     00000116_040.png  Cardiomegaly|Consolidation         40.0       116.0   \n",
              "43597   00011237_061.png   Atelectasis|Consolidation         61.0     11237.0   \n",
              "116175               NaN                      Normal          NaN         NaN   \n",
              "\n",
              "        Patient Age Patient Gender View Position  OriginalImage[Width  \\\n",
              "58038          37.0              M            PA               2670.0   \n",
              "81400          48.0              M            AP               2500.0   \n",
              "81539          45.0              F            PA               2342.0   \n",
              "50900          62.0              M            PA               2992.0   \n",
              "96790          72.0              M            PA               2992.0   \n",
              "...             ...            ...           ...                  ...   \n",
              "26770          45.0              F            AP               2500.0   \n",
              "9027           44.0              M            PA               2992.0   \n",
              "491            75.0              F            AP               2500.0   \n",
              "43597          56.0              F            AP               2500.0   \n",
              "116175          NaN            NaN           NaN                  NaN   \n",
              "\n",
              "        Height]  OriginalImagePixelSpacing[x  ...  Emphysema  Fibrosis Hernia  \\\n",
              "58038    2991.0                        0.143  ...        0.0       0.0    0.0   \n",
              "81400    2048.0                        0.168  ...        0.0       0.0    0.0   \n",
              "81539    2991.0                        0.143  ...        0.0       0.0    0.0   \n",
              "50900    2991.0                        0.143  ...        0.0       0.0    0.0   \n",
              "96790    2991.0                        0.143  ...        0.0       0.0    0.0   \n",
              "...         ...                          ...  ...        ...       ...    ...   \n",
              "26770    2048.0                        0.171  ...        0.0       0.0    0.0   \n",
              "9027     2991.0                        0.143  ...        0.0       0.0    0.0   \n",
              "491      2048.0                        0.168  ...        0.0       0.0    0.0   \n",
              "43597    2048.0                        0.168  ...        0.0       0.0    0.0   \n",
              "116175      NaN                          NaN  ...        0.0       0.0    0.0   \n",
              "\n",
              "        Infiltration  Mass  Nodule  Normal  Pleural_Thickening  Pneumonia  \\\n",
              "58038            0.0   0.0     0.0     0.0                 0.0        0.0   \n",
              "81400            1.0   0.0     1.0     0.0                 0.0        0.0   \n",
              "81539            0.0   0.0     0.0     0.0                 0.0        0.0   \n",
              "50900            0.0   0.0     0.0     0.0                 0.0        0.0   \n",
              "96790            0.0   0.0     0.0     0.0                 0.0        0.0   \n",
              "...              ...   ...     ...     ...                 ...        ...   \n",
              "26770            0.0   0.0     0.0     0.0                 0.0        0.0   \n",
              "9027             0.0   0.0     0.0     0.0                 0.0        0.0   \n",
              "491              0.0   0.0     0.0     0.0                 0.0        0.0   \n",
              "43597            0.0   0.0     0.0     0.0                 0.0        0.0   \n",
              "116175           0.0   0.0     0.0     1.0                 0.0        0.0   \n",
              "\n",
              "        Pneumothorax  \n",
              "58038            0.0  \n",
              "81400            0.0  \n",
              "81539            0.0  \n",
              "50900            0.0  \n",
              "96790            0.0  \n",
              "...              ...  \n",
              "26770            0.0  \n",
              "9027             0.0  \n",
              "491              0.0  \n",
              "43597            0.0  \n",
              "116175           0.0  \n",
              "\n",
              "[28276 rows x 28 columns]"
            ]
          },
          "metadata": {
            "tags": []
          },
          "execution_count": 12
        }
      ]
    },
    {
      "cell_type": "code",
      "metadata": {
        "id": "rktb88THe26U",
        "outputId": "1eafca7a-1955-4040-a55a-5f5f5156bc30"
      },
      "source": [
        "core_idg = ImageDataGenerator(rescale=1 / 255,\n",
        "                                  samplewise_center=True,\n",
        "                                  samplewise_std_normalization=True,\n",
        "                                  horizontal_flip=True,\n",
        "                                  vertical_flip=False,\n",
        "                                  height_shift_range=0.2,\n",
        "                                  width_shift_range=0.2,\n",
        "                                  rotation_range=10,\n",
        "                                  shear_range=0.1,\n",
        "                                  fill_mode='nearest',\n",
        "                                  zoom_range=0.15)\n",
        "\n",
        "train_gen = core_idg.flow_from_dataframe(dataframe=train_df,\n",
        "                                             directory=None,\n",
        "                                             x_col='path',\n",
        "                                             y_col='Finding Labels',\n",
        "                                             class_mode='categorical',\n",
        "                                             batch_size=batch_size,\n",
        "                                             classes=labels,\n",
        "                                             target_size=(image_size, image_size))\n",
        "\n",
        "test_gen = core_idg.flow_from_dataframe(dataframe=valid_df,\n",
        "                                             directory=None,\n",
        "                                             x_col='path',\n",
        "                                             y_col='Finding Labels',\n",
        "                                             class_mode='categorical',\n",
        "                                             batch_size=batch_size,\n",
        "                                             classes=labels,\n",
        "                                             target_size=(image_size, image_size))\n",
        "\n",
        "test_X, test_Y = next(core_idg.flow_from_dataframe(dataframe=valid_df,\n",
        "                                                       directory=None,\n",
        "                                                       x_col='path',\n",
        "                                                       y_col='Finding Labels',\n",
        "                                                       class_mode='categorical',\n",
        "                                                       batch_size=1024,\n",
        "                                                       classes=labels,\n",
        "                                                       target_size=(image_size, image_size)))"
      ],
      "execution_count": null,
      "outputs": [
        {
          "output_type": "stream",
          "text": [
            "C:\\ProgramData\\Anaconda3\\lib\\site-packages\\keras_preprocessing\\image\\dataframe_iterator.py:279: UserWarning: Found 89696 invalid image filename(s) in x_col=\"path\". These filename(s) will be ignored.\n",
            "  warnings.warn(\n"
          ],
          "name": "stderr"
        },
        {
          "output_type": "stream",
          "text": [
            "Found 23405 validated image filenames belonging to 14 classes.\n"
          ],
          "name": "stdout"
        },
        {
          "output_type": "stream",
          "text": [
            "C:\\ProgramData\\Anaconda3\\lib\\site-packages\\keras_preprocessing\\image\\dataframe_iterator.py:279: UserWarning: Found 22424 invalid image filename(s) in x_col=\"path\". These filename(s) will be ignored.\n",
            "  warnings.warn(\n"
          ],
          "name": "stderr"
        },
        {
          "output_type": "stream",
          "text": [
            "Found 5852 validated image filenames belonging to 14 classes.\n"
          ],
          "name": "stdout"
        },
        {
          "output_type": "stream",
          "text": [
            "C:\\ProgramData\\Anaconda3\\lib\\site-packages\\keras_preprocessing\\image\\dataframe_iterator.py:279: UserWarning: Found 22424 invalid image filename(s) in x_col=\"path\". These filename(s) will be ignored.\n",
            "  warnings.warn(\n"
          ],
          "name": "stderr"
        },
        {
          "output_type": "stream",
          "text": [
            "Found 5852 validated image filenames belonging to 14 classes.\n"
          ],
          "name": "stdout"
        }
      ]
    },
    {
      "cell_type": "markdown",
      "metadata": {
        "id": "O1pUu-mhe26k"
      },
      "source": [
        "### 모델 생성(DenseNet121)\n",
        " - DenseNet121 말고 다른 모델도 사용하면 성능 차이는 얼마일까?\n",
        " - Ex. GoogleNet(Inception) / UNet 등등.."
      ]
    },
    {
      "cell_type": "code",
      "metadata": {
        "id": "1RzaNkbKe26m",
        "outputId": "4a2a6f3e-0dfa-43ff-d936-b462d3c1e413"
      },
      "source": [
        "from tensorflow.keras.applications import DenseNet121\n",
        "\n",
        "dnet = DenseNet121(\n",
        "        input_shape=(image_size, image_size, 3),\n",
        "        weights='imagenet',\n",
        "        include_top=False\n",
        "    )\n",
        "\n",
        "dnet.trainable = True\n",
        "\n",
        "model = tf.keras.Sequential([\n",
        "    dnet,\n",
        "    tf.keras.layers.GlobalAveragePooling2D(),\n",
        "    tf.keras.layers.Dense(len(labels), activation='softmax')])\n",
        "\n",
        "model.compile(\n",
        "    optimizer='adam',\n",
        "    loss = 'categorical_crossentropy',\n",
        "    metrics=['AUC','Precision','Recall'])"
      ],
      "execution_count": null,
      "outputs": [
        {
          "output_type": "stream",
          "text": [
            "Downloading data from https://storage.googleapis.com/tensorflow/keras-applications/densenet/densenet121_weights_tf_dim_ordering_tf_kernels_notop.h5\n",
            "29089792/29084464 [==============================] - 2s 0us/step\n"
          ],
          "name": "stdout"
        }
      ]
    },
    {
      "cell_type": "markdown",
      "metadata": {
        "id": "leYNDAY-e264"
      },
      "source": [
        "### 세부 epochs 및 parameter 조정"
      ]
    },
    {
      "cell_type": "code",
      "metadata": {
        "id": "1jlddcT4e266",
        "outputId": "ab12527b-af7a-4724-f582-ac12f7f6fc8d"
      },
      "source": [
        "LR_START = 0.00001\n",
        "LR_MAX = 0.00005\n",
        "LR_MIN = 0.00001\n",
        "LR_RAMPUP_EPOCHS = 5\n",
        "LR_SUSTAIN_EPOCHS = 0\n",
        "LR_EXP_DECAY = .8\n",
        "\n",
        "def lrfn(epoch):\n",
        "    if epoch < LR_RAMPUP_EPOCHS:\n",
        "        lr = (LR_MAX - LR_START) / LR_RAMPUP_EPOCHS * epoch + LR_START\n",
        "    elif epoch < LR_RAMPUP_EPOCHS + LR_SUSTAIN_EPOCHS:\n",
        "        lr = LR_MAX\n",
        "    else:\n",
        "        lr = (LR_MAX - LR_MIN) * LR_EXP_DECAY**(epoch - LR_RAMPUP_EPOCHS - LR_SUSTAIN_EPOCHS) + LR_MIN\n",
        "    return lr\n",
        "    \n",
        "lr_callback = tf.keras.callbacks.LearningRateScheduler(lrfn, verbose = True)\n",
        "\n",
        "rng = [i for i in range(25)]\n",
        "y = [lrfn(x) for x in rng]\n",
        "plt.plot(rng, y)"
      ],
      "execution_count": null,
      "outputs": [
        {
          "output_type": "execute_result",
          "data": {
            "text/plain": [
              "[<matplotlib.lines.Line2D at 0x218dd176c10>]"
            ]
          },
          "metadata": {
            "tags": []
          },
          "execution_count": 17
        },
        {
          "output_type": "display_data",
          "data": {
            "image/png": "[encoded data removed]",
            "text/plain": [
              "<Figure size 432x288 with 1 Axes>"
            ]
          },
          "metadata": {
            "tags": [],
            "needs_background": "light"
          }
        }
      ]
    },
    {
      "cell_type": "code",
      "metadata": {
        "id": "_phrP3mne27L",
        "outputId": "38aa2ebb-f57e-4c00-ac51-d55eee36e9ee"
      },
      "source": [
        "tf.keras.utils.plot_model(model ,show_shapes=True)"
      ],
      "execution_count": null,
      "outputs": [
        {
          "output_type": "stream",
          "text": [
            "('Failed to import pydot. You must `pip install pydot` and install graphviz (https://graphviz.gitlab.io/download/), ', 'for `pydotprint` to work.')\n"
          ],
          "name": "stdout"
        }
      ]
    },
    {
      "cell_type": "markdown",
      "metadata": {
        "id": "71_rrpVQe27P"
      },
      "source": [
        "### Callbacks 지정 및 학습시작"
      ]
    },
    {
      "cell_type": "code",
      "metadata": {
        "id": "_dgyYNW8e27Q"
      },
      "source": [
        "def get_callbacks(model_name):\n",
        "    callbacks = []\n",
        "    checkpoint = tf.keras.callbacks.ModelCheckpoint(\n",
        "        filepath=f'model.{model_name}.h5',\n",
        "        verbose=1,\n",
        "        save_best_only=True)\n",
        "    \n",
        "    erly = tf.keras.callbacks.EarlyStopping(monitor='val_loss', patience=3) # 3번 허용. 1~2번은 너무 overfitting 가능성..\n",
        "    callbacks.append(checkpoint)\n",
        "    callbacks.append(erly)\n",
        "    callbacks.append(lr_callback)\n",
        "    return callbacks"
      ],
      "execution_count": null,
      "outputs": []
    },
    {
      "cell_type": "markdown",
      "metadata": {
        "id": "cfkTJI4Ke27U"
      },
      "source": [
        "#### 문제 : GPU Colab으로 Run\n",
        " - 용량 문제로 colab은 data_load에서 애를 먹는다(dataset:약11~12만장/43GB).\n",
        " - local에 좋은 GPU가 있었다면..\n",
        " - 근데 Tesla GPU를 써도 학습 속도는 비슷하다?"
      ]
    },
    {
      "cell_type": "code",
      "metadata": {
        "id": "iE7PwHyZe27V",
        "outputId": "e9cc3dd3-30dc-4d63-8724-a4a442a31c50"
      },
      "source": [
        "callbacks = get_callbacks('CustomDenseNet')\n",
        "history = model.fit(train_gen,\n",
        "                   steps_per_epoch = 150, # 너무느리다.. 50이나 100으로 조정\n",
        "                   validation_data = test_gen,\n",
        "                   validation_steps = 70,\n",
        "                   epochs = 20,\n",
        "                   callbacks = callbacks)"
      ],
      "execution_count": null,
      "outputs": [
        {
          "output_type": "stream",
          "text": [
            "\n",
            "Epoch 00001: LearningRateScheduler reducing learning rate to 1e-05.\n",
            "Epoch 1/20\n",
            "150/150 [==============================] - ETA: 0s - loss: 0.8263 - auc: 0.5187 - precision: 0.0792 - recall: 0.5479 - accuracy: 0.0000e+00 \n",
            "Epoch 00001: val_loss improved from inf to 1.23483, saving model to model.CustomDenseNet.h5\n",
            "150/150 [==============================] - 2580s 17s/step - loss: 0.8263 - auc: 0.5187 - precision: 0.0792 - recall: 0.5479 - accuracy: 0.0000e+00 - val_loss: 1.2348 - val_auc: 0.0910 - val_precision: 0.0036 - val_recall: 0.0317 - val_accuracy: 0.0000e+00\n",
            "\n",
            "Epoch 00002: LearningRateScheduler reducing learning rate to 1.8000000000000004e-05.\n",
            "Epoch 2/20\n",
            "150/150 [==============================] - ETA: 0s - loss: 0.3231 - auc: 0.9866 - precision: 0.5147 - recall: 0.9765 - accuracy: 0.0000e+00 \n",
            "Epoch 00002: val_loss improved from 1.23483 to 0.62390, saving model to model.CustomDenseNet.h5\n",
            "150/150 [==============================] - 2574s 17s/step - loss: 0.3231 - auc: 0.9866 - precision: 0.5147 - recall: 0.9765 - accuracy: 0.0000e+00 - val_loss: 0.6239 - val_auc: 0.7308 - val_precision: 0.1300 - val_recall: 0.7437 - val_accuracy: 0.0000e+00\n",
            "\n",
            "Epoch 00003: LearningRateScheduler reducing learning rate to 2.6000000000000002e-05.\n",
            "Epoch 3/20\n",
            "150/150 [==============================] - ETA: 0s - loss: 0.1208 - auc: 1.0000 - precision: 0.9981 - recall: 1.0000 - accuracy: 0.0000e+00 \n",
            "Epoch 00003: val_loss improved from 0.62390 to 0.11090, saving model to model.CustomDenseNet.h5\n",
            "150/150 [==============================] - 2589s 17s/step - loss: 0.1208 - auc: 1.0000 - precision: 0.9981 - recall: 1.0000 - accuracy: 0.0000e+00 - val_loss: 0.1109 - val_auc: 1.0000 - val_precision: 1.0000 - val_recall: 1.0000 - val_accuracy: 0.0000e+00\n",
            "\n",
            "Epoch 00004: LearningRateScheduler reducing learning rate to 3.4000000000000007e-05.\n",
            "Epoch 4/20\n",
            "150/150 [==============================] - ETA: 0s - loss: 0.0601 - auc: 1.0000 - precision: 1.0000 - recall: 1.0000 - accuracy: 0.0000e+00 \n",
            "Epoch 00004: val_loss improved from 0.11090 to 0.04617, saving model to model.CustomDenseNet.h5\n",
            "150/150 [==============================] - 2689s 18s/step - loss: 0.0601 - auc: 1.0000 - precision: 1.0000 - recall: 1.0000 - accuracy: 0.0000e+00 - val_loss: 0.0462 - val_auc: 1.0000 - val_precision: 1.0000 - val_recall: 1.0000 - val_accuracy: 0.0000e+00\n",
            "\n",
            "Epoch 00005: LearningRateScheduler reducing learning rate to 4.2000000000000004e-05.\n",
            "Epoch 5/20\n",
            "150/150 [==============================] - ETA: 0s - loss: 0.0339 - auc: 1.0000 - precision: 1.0000 - recall: 1.0000 - accuracy: 0.0000e+00 \n",
            "Epoch 00005: val_loss improved from 0.04617 to 0.02597, saving model to model.CustomDenseNet.h5\n",
            "150/150 [==============================] - 2557s 17s/step - loss: 0.0339 - auc: 1.0000 - precision: 1.0000 - recall: 1.0000 - accuracy: 0.0000e+00 - val_loss: 0.0260 - val_auc: 1.0000 - val_precision: 1.0000 - val_recall: 1.0000 - val_accuracy: 0.0000e+00\n",
            "\n",
            "Epoch 00006: LearningRateScheduler reducing learning rate to 5e-05.\n",
            "Epoch 6/20\n",
            "150/150 [==============================] - ETA: 0s - loss: 0.0206 - auc: 1.0000 - precision: 1.0000 - recall: 1.0000 - accuracy: 0.0000e+00 \n",
            "Epoch 00006: val_loss improved from 0.02597 to 0.01569, saving model to model.CustomDenseNet.h5\n",
            "150/150 [==============================] - 2492s 17s/step - loss: 0.0206 - auc: 1.0000 - precision: 1.0000 - recall: 1.0000 - accuracy: 0.0000e+00 - val_loss: 0.0157 - val_auc: 1.0000 - val_precision: 1.0000 - val_recall: 1.0000 - val_accuracy: 0.0000e+00\n",
            "\n",
            "Epoch 00007: LearningRateScheduler reducing learning rate to 4.2000000000000004e-05.\n",
            "Epoch 7/20\n",
            " 10/150 [=>............................] - ETA: 32:33 - loss: 0.0161 - auc: 1.0000 - precision: 1.0000 - recall: 1.0000 - accuracy: 0.0000e+00"
          ],
          "name": "stdout"
        }
      ]
    },
    {
      "cell_type": "markdown",
      "metadata": {
        "id": "k275QFD2e27c"
      },
      "source": [
        "### 마무리 / 확인"
      ]
    },
    {
      "cell_type": "code",
      "metadata": {
        "id": "01saeDIfe27d"
      },
      "source": [
        "y_pred = model.predict(test_x)"
      ],
      "execution_count": null,
      "outputs": []
    },
    {
      "cell_type": "code",
      "metadata": {
        "id": "u-Fm09j_e27l"
      },
      "source": [
        "for label, p_count, t_count in zip(labels,\n",
        "                                     100 * np.mean(y_pred, 0),\n",
        "                                     100 * np.mean(test_Y, 0)):\n",
        "    print('%s: actual: %2.2f%%, predicted: %2.2f%%' % (label, t_count, p_count))"
      ],
      "execution_count": null,
      "outputs": []
    },
    {
      "cell_type": "code",
      "metadata": {
        "id": "HQuRo0a2e27s"
      },
      "source": [
        "fig, c_ax = plt.subplots(1, 1, figsize=(9, 9))\n",
        "\n",
        "for (idx, c_label) in enumerate(labels):\n",
        "    fpr, tpr, thresholds = roc_curve(test_Y[:, idx].astype(int), y_pred[:, idx])\n",
        "    c_ax.plot(fpr, tpr, label='%s (AUC:%0.2f)' % (c_label, auc(fpr, tpr)))\n",
        "c_ax.legend()\n",
        "c_ax.set_xlabel('False Positive Rate')\n",
        "c_ax.set_ylabel('True Positive Rate')\n",
        "fig.savefig('trained_net.png')"
      ],
      "execution_count": null,
      "outputs": []
    },
    {
      "cell_type": "code",
      "metadata": {
        "id": "jh3ighfte275"
      },
      "source": [
        "print('ROC auc score: {:.3f}'.format(roc_auc_score(test_Y.astype(int), y_pred)))"
      ],
      "execution_count": null,
      "outputs": []
    }
  ]
}