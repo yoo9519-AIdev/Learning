{
  "nbformat": 4,
  "nbformat_minor": 0,
  "metadata": {
    "colab": {
      "name": "Video_receiver.ipynb",
      "provenance": [],
      "collapsed_sections": [],
      "machine_shape": "hm",
      "mount_file_id": "1fuQX_puZd_UDkwXmpBu72_Ol8dXQac4v",
      "authorship_tag": "ABX9TyMTfYOzs6Z3hKdZR3/X2h29",
      "include_colab_link": true
    },
    "kernelspec": {
      "name": "python3",
      "display_name": "Python 3"
    }
  },
  "cells": [
    {
      "cell_type": "markdown",
      "metadata": {
        "id": "view-in-github",
        "colab_type": "text"
      },
      "source": [
        "<a href=\"https://colab.research.google.com/github/yoo9519-AIdev/Learning/blob/master/Video_receiver(2).ipynb\" target=\"_parent\"><img src=\"https://colab.research.google.com/assets/colab-badge.svg\" alt=\"Open In Colab\"/></a>"
      ]
    },
    {
      "cell_type": "code",
      "metadata": {
        "id": "tDh1X016oOPk",
        "colab_type": "code",
        "colab": {
          "base_uri": "https://localhost:8080/",
          "height": 32
        },
        "outputId": "083ca6e0-89d0-4c45-e6d8-aee231b461ca"
      },
      "source": [
        "!git clone https://github.com/ultralytics/yolov5\n",
        "!pip install -qr yolov5/requirements.txt\n",
        "%cd yolov5\n",
        "\n",
        "import torch\n",
        "from IPython.display import Image, clear_output\n",
        "from utils.google_utils import gdrive_download\n",
        "\n",
        "clear_output()\n",
        "print('Setup complete. Using torch %s %s' % (torch.__version__, torch.cuda.get_device_properties(0) if torch.cuda.is_available() else 'CPU'))"
      ],
      "execution_count": 3,
      "outputs": [
        {
          "output_type": "stream",
          "text": [
            "Setup complete. Using torch 1.6.0+cu101 CPU\n"
          ],
          "name": "stdout"
        }
      ]
    },
    {
      "cell_type": "code",
      "metadata": {
        "id": "bO3W9NyKAM70",
        "colab_type": "code",
        "colab": {
          "base_uri": "https://localhost:8080/",
          "height": 197
        },
        "outputId": "80ee7602-b7f9-403e-c05f-beae1c644142"
      },
      "source": [
        "pip install cvlib"
      ],
      "execution_count": 4,
      "outputs": [
        {
          "output_type": "stream",
          "text": [
            "Requirement already satisfied: cvlib in /usr/local/lib/python3.6/dist-packages (0.2.5)\n",
            "Requirement already satisfied: imageio in /usr/local/lib/python3.6/dist-packages (from cvlib) (2.4.1)\n",
            "Requirement already satisfied: imutils in /usr/local/lib/python3.6/dist-packages (from cvlib) (0.5.3)\n",
            "Requirement already satisfied: pillow in /usr/local/lib/python3.6/dist-packages (from cvlib) (7.0.0)\n",
            "Requirement already satisfied: progressbar in /usr/local/lib/python3.6/dist-packages (from cvlib) (2.5)\n",
            "Requirement already satisfied: numpy in /usr/local/lib/python3.6/dist-packages (from cvlib) (1.18.5)\n",
            "Requirement already satisfied: requests in /usr/local/lib/python3.6/dist-packages (from cvlib) (2.23.0)\n",
            "Requirement already satisfied: certifi>=2017.4.17 in /usr/local/lib/python3.6/dist-packages (from requests->cvlib) (2020.6.20)\n",
            "Requirement already satisfied: urllib3!=1.25.0,!=1.25.1,<1.26,>=1.21.1 in /usr/local/lib/python3.6/dist-packages (from requests->cvlib) (1.24.3)\n",
            "Requirement already satisfied: idna<3,>=2.5 in /usr/local/lib/python3.6/dist-packages (from requests->cvlib) (2.10)\n",
            "Requirement already satisfied: chardet<4,>=3.0.2 in /usr/local/lib/python3.6/dist-packages (from requests->cvlib) (3.0.4)\n"
          ],
          "name": "stdout"
        }
      ]
    },
    {
      "cell_type": "code",
      "metadata": {
        "id": "Vzb1o0bG_FlI",
        "colab_type": "code",
        "colab": {}
      },
      "source": [
        "import cvlib as cv\n",
        "from cvlib.object_detection import draw_bbox\n",
        "import cv2"
      ],
      "execution_count": 5,
      "outputs": []
    },
    {
      "cell_type": "code",
      "metadata": {
        "id": "EO4r0SYs_tzV",
        "colab_type": "code",
        "colab": {
          "base_uri": "https://localhost:8080/",
          "height": 32
        },
        "outputId": "4a13e88c-1a8e-475b-c4cb-70680739c2c6"
      },
      "source": [
        "webcam = cv2.VideoCapture(0)\n",
        "\n",
        "if not webcam.isOpened():\n",
        "    print(\"could not open webcam\")\n",
        "    # exit()\n",
        "\n",
        "while webcam.isOpened():\n",
        "    status, frame = webcam.read()\n",
        "\n",
        "    if not status:\n",
        "        break\n",
        "\n",
        "    bbox, label, conf = cv.detect_common_objects(frame)\n",
        "    print(bbox, label, conf)\n",
        "\n",
        "    out = draw_bbox(frame, bbox, label, conf, write_conf=True)\n",
        "\n",
        "    cv2.imshow(\"Real-time object detection\", out)\n",
        "\n",
        "    if cv2.waitKey(1) & OxFF == ord('q'):\n",
        "        break\n",
        "\n",
        "webcam.release()\n",
        "cv2.destroyAllWindows()"
      ],
      "execution_count": 8,
      "outputs": [
        {
          "output_type": "stream",
          "text": [
            "could not open webcam\n"
          ],
          "name": "stdout"
        }
      ]
    },
    {
      "cell_type": "code",
      "metadata": {
        "id": "BDqA3NEWL0UW",
        "colab_type": "code",
        "colab": {}
      },
      "source": [
        ""
      ],
      "execution_count": null,
      "outputs": []
    }
  ]
}