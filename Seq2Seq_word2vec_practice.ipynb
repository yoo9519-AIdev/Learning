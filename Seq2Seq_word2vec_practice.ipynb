{
  "nbformat": 4,
  "nbformat_minor": 0,
  "metadata": {
    "colab": {
      "name": "Seq2Seq_word2vec.ipynb",
      "provenance": [],
      "machine_shape": "hm",
      "mount_file_id": "1B_idbpghZ59PWIRDILi0Yy-SnHD7r4mA",
      "authorship_tag": "ABX9TyNscEJZS/FvK35ctFjUpLG/",
      "include_colab_link": true
    },
    "kernelspec": {
      "name": "python3",
      "display_name": "Python 3"
    },
    "accelerator": "GPU"
  },
  "cells": [
    {
      "cell_type": "markdown",
      "metadata": {
        "id": "view-in-github",
        "colab_type": "text"
      },
      "source": [
        "<a href=\"https://colab.research.google.com/github/yoo9519-AIdev/Learning/blob/master/Seq2Seq_word2vec_practice.ipynb\" target=\"_parent\"><img src=\"https://colab.research.google.com/assets/colab-badge.svg\" alt=\"Open In Colab\"/></a>"
      ]
    },
    {
      "cell_type": "code",
      "metadata": {
        "id": "ByDSEkhoH8Va",
        "colab_type": "code",
        "colab": {}
      },
      "source": [
        "import numpy as np\n",
        "import re\n",
        "import shutil\n",
        "import tensorflow as tf\n",
        "from tensorflow.keras.preprocessing.text import Tokenizer\n",
        "from tensorflow.keras.preprocessing.sequence import pad_sequences\n",
        "import pandas as pd\n",
        "import os\n",
        "import unicodedata\n",
        "import urllib3\n",
        "import zipfile"
      ],
      "execution_count": 1,
      "outputs": []
    },
    {
      "cell_type": "code",
      "metadata": {
        "id": "J1DRxQr5IEz8",
        "colab_type": "code",
        "colab": {}
      },
      "source": [
        "http = urllib3.PoolManager()\n",
        "url ='http://www.manythings.org/anki/fra-eng.zip'\n",
        "filename = 'fra-eng.zip'\n",
        "path = os.getcwd()\n",
        "zipfilename = os.path.join(path, filename)\n",
        "with http.request('GET', url, preload_content=False) as r, open(zipfilename, 'wb') as out_file:       \n",
        "    shutil.copyfileobj(r, out_file)\n",
        "\n",
        "with zipfile.ZipFile(zipfilename, 'r') as zip_ref:\n",
        "    zip_ref.extractall(path)"
      ],
      "execution_count": 2,
      "outputs": []
    },
    {
      "cell_type": "code",
      "metadata": {
        "id": "gkCgtMidfLwN",
        "colab_type": "code",
        "colab": {}
      },
      "source": [
        "num_samples = 33000"
      ],
      "execution_count": 3,
      "outputs": []
    },
    {
      "cell_type": "code",
      "metadata": {
        "id": "Uq4wfx92I9vB",
        "colab_type": "code",
        "colab": {}
      },
      "source": [
        "def unicode_to_ascii(s):\n",
        "  return ''.join(c for c in unicodedata.normalize('NFD', s)\n",
        "      if unicodedata.category(c) != 'Mn')\n",
        "  \n",
        "def preprocess_sentence(sent):\n",
        "    # 위에서 구현한 함수를 내부적으로 호출\n",
        "    sent = unicode_to_ascii(sent.lower())\n",
        "\n",
        "    # 단어와 구두점 사이에 공백을 만듭니다.\n",
        "    # Ex) \"he is a boy.\" => \"he is a boy .\"\n",
        "    sent = re.sub(r\"([?.!,¿])\", r\" \\1\", sent)\n",
        "\n",
        "    # (a-z, A-Z, \".\", \"?\", \"!\", \",\") 이들을 제외하고는 전부 공백으로 변환합니다.\n",
        "    sent = re.sub(r\"[^a-zA-Z!.?]+\", r\" \", sent)\n",
        "\n",
        "    sent = re.sub(r\"\\s+\", \" \", sent)\n",
        "    return sent"
      ],
      "execution_count": 4,
      "outputs": []
    },
    {
      "cell_type": "code",
      "metadata": {
        "id": "37yQFz5sYEQM",
        "colab_type": "code",
        "colab": {
          "base_uri": "https://localhost:8080/",
          "height": 49
        },
        "outputId": "5c078f5d-5b00-4664-ad93-2095bf4bd37e"
      },
      "source": [
        "# 전처리 테스트\n",
        "en_sent = u\"Have you had dinner?\"\n",
        "fr_sent = u\"Avez-vous déjà diné?\"\n",
        "print(preprocess_sentence(en_sent))\n",
        "print(preprocess_sentence(fr_sent).encode('utf-8'))"
      ],
      "execution_count": 5,
      "outputs": [
        {
          "output_type": "stream",
          "text": [
            "have you had dinner ?\n",
            "b'avez vous deja dine ?'\n"
          ],
          "name": "stdout"
        }
      ]
    },
    {
      "cell_type": "code",
      "metadata": {
        "id": "Fk2nDSueaK9N",
        "colab_type": "code",
        "colab": {}
      },
      "source": [
        "def load_preprocessed_data():\n",
        "    encoder_input, decoder_input, decoder_target = [], [], []\n",
        "\n",
        "    with open(\"fra.txt\", \"r\") as lines:\n",
        "        for i, line in enumerate(lines):\n",
        "\n",
        "            # source 데이터와 target 데이터 분리\n",
        "            src_line, tar_line, _ = line.strip().split('\\t')\n",
        "\n",
        "            # source 데이터 전처리\n",
        "            src_line_input = [w for w in preprocess_sentence(src_line).split()]\n",
        "\n",
        "            # target 데이터 전처리\n",
        "            tar_line = preprocess_sentence(tar_line)\n",
        "            tar_line_input = [w for w in (\"<sos> \" + tar_line).split()]\n",
        "            tar_line_target = [w for w in (tar_line + \" <eos>\").split()]\n",
        "\n",
        "            encoder_input.append(src_line_input)\n",
        "            decoder_input.append(tar_line_input)\n",
        "            decoder_target.append(tar_line_target)\n",
        "\n",
        "            if i == num_samples - 1:\n",
        "                break\n",
        "\n",
        "    return encoder_input, decoder_input, decoder_target"
      ],
      "execution_count": 6,
      "outputs": []
    },
    {
      "cell_type": "code",
      "metadata": {
        "id": "9iqwAHp_fn4h",
        "colab_type": "code",
        "colab": {
          "base_uri": "https://localhost:8080/",
          "height": 65
        },
        "outputId": "728dbcac-330f-4d35-95ef-532a01e348c8"
      },
      "source": [
        "sents_en_in, sents_fra_in, sents_fra_out = load_preprocessed_data()\n",
        "print(sents_en_in[:5])\n",
        "print(sents_fra_in[:5])\n",
        "print(sents_fra_out[:5])"
      ],
      "execution_count": 7,
      "outputs": [
        {
          "output_type": "stream",
          "text": [
            "[['go', '.'], ['hi', '.'], ['hi', '.'], ['run', '!'], ['run', '!']]\n",
            "[['<sos>', 'va', '!'], ['<sos>', 'salut', '!'], ['<sos>', 'salut', '.'], ['<sos>', 'cours', '!'], ['<sos>', 'courez', '!']]\n",
            "[['va', '!', '<eos>'], ['salut', '!', '<eos>'], ['salut', '.', '<eos>'], ['cours', '!', '<eos>'], ['courez', '!', '<eos>']]\n"
          ],
          "name": "stdout"
        }
      ]
    },
    {
      "cell_type": "code",
      "metadata": {
        "id": "8o5FrL9ChjKq",
        "colab_type": "code",
        "colab": {}
      },
      "source": [
        "tokenizer_en = Tokenizer(filters=\"\", lower=False)\n",
        "tokenizer_en.fit_on_texts(sents_en_in)\n",
        "encoder_input = tokenizer_en.texts_to_sequences(sents_en_in)\n",
        "\n",
        "tokenizer_fra = Tokenizer(filters=\"\", lower=False)\n",
        "tokenizer_fra.fit_on_texts(sents_fra_in)\n",
        "tokenizer_fra.fit_on_texts(sents_fra_out)\n",
        "decoder_input = tokenizer_fra.texts_to_sequences(sents_fra_in)\n",
        "decoder_target = tokenizer_fra.texts_to_sequences(sents_fra_out)"
      ],
      "execution_count": 8,
      "outputs": []
    },
    {
      "cell_type": "code",
      "metadata": {
        "id": "83LKiY_Ii5Pv",
        "colab_type": "code",
        "colab": {}
      },
      "source": [
        "encoder_input = pad_sequences(encoder_input, padding=\"post\")\n",
        "decoder_input = pad_sequences(decoder_input, padding=\"post\")\n",
        "decoder_target = pad_sequences(decoder_target, padding=\"post\")"
      ],
      "execution_count": 9,
      "outputs": []
    },
    {
      "cell_type": "code",
      "metadata": {
        "id": "o7uNyASVhsZp",
        "colab_type": "code",
        "colab": {
          "base_uri": "https://localhost:8080/",
          "height": 32
        },
        "outputId": "eed417c7-427d-465f-ff49-8aca3e70aef2"
      },
      "source": [
        "src_vocab_size = len(tokenizer_en.word_index) + 1\n",
        "tar_vocab_size = len(tokenizer_fra.word_index) + 1\n",
        "print(\"영어 단어 집합의 크기 : {:d}, 프랑스어 단어 집합의 크기 : {:d}\".format(src_vocab_size, tar_vocab_size))"
      ],
      "execution_count": 10,
      "outputs": [
        {
          "output_type": "stream",
          "text": [
            "영어 단어 집합의 크기 : 4647, 프랑스어 단어 집합의 크기 : 8022\n"
          ],
          "name": "stdout"
        }
      ]
    },
    {
      "cell_type": "code",
      "metadata": {
        "id": "OZAJslCFdfS2",
        "colab_type": "code",
        "colab": {}
      },
      "source": [
        "src_to_index = tokenizer_en.word_index\n",
        "index_to_src = tokenizer_en.index_word # 훈련 후 결과 비교할 때 사용\n",
        "\n",
        "tar_to_index = tokenizer_fra.word_index # 훈련 후 예측 과정에서 사용\n",
        "index_to_tar = tokenizer_fra.index_word # 훈련 후 결과 비교할 때 사용"
      ],
      "execution_count": 11,
      "outputs": []
    },
    {
      "cell_type": "code",
      "metadata": {
        "id": "EOvWdq1vnCMy",
        "colab_type": "code",
        "colab": {
          "base_uri": "https://localhost:8080/",
          "height": 32
        },
        "outputId": "ec1d9f10-439c-444f-de5e-305c0efd96e9"
      },
      "source": [
        "indices = np.arange(encoder_input.shape[0])\n",
        "np.random.shuffle(indices)\n",
        "print(indices)"
      ],
      "execution_count": 12,
      "outputs": [
        {
          "output_type": "stream",
          "text": [
            "[  714   489 32594 ...  2435 28956 23672]\n"
          ],
          "name": "stdout"
        }
      ]
    },
    {
      "cell_type": "code",
      "metadata": {
        "id": "9rpH9N98o-ou",
        "colab_type": "code",
        "colab": {}
      },
      "source": [
        "encoder_input = encoder_input[indices]\n",
        "decoder_input = decoder_input[indices]\n",
        "decoder_target = decoder_target[indices]"
      ],
      "execution_count": 13,
      "outputs": []
    },
    {
      "cell_type": "code",
      "metadata": {
        "id": "-6n7gE_QpAng",
        "colab_type": "code",
        "colab": {
          "base_uri": "https://localhost:8080/",
          "height": 32
        },
        "outputId": "b5df2b3c-4cce-4e7a-9c2c-c2304fdd3d6d"
      },
      "source": [
        "n_of_val = int(33000*0.1)\n",
        "print(n_of_val)"
      ],
      "execution_count": 14,
      "outputs": [
        {
          "output_type": "stream",
          "text": [
            "3300\n"
          ],
          "name": "stdout"
        }
      ]
    },
    {
      "cell_type": "code",
      "metadata": {
        "id": "bFkR4qp6pE5x",
        "colab_type": "code",
        "colab": {}
      },
      "source": [
        "encoder_input_train = encoder_input[:-n_of_val]\n",
        "decoder_input_train = decoder_input[:-n_of_val]\n",
        "decoder_target_train = decoder_target[:-n_of_val]\n",
        "\n",
        "encoder_input_test = encoder_input[-n_of_val:]\n",
        "decoder_input_test = decoder_input[-n_of_val:]\n",
        "decoder_target_test = decoder_target[-n_of_val:]"
      ],
      "execution_count": 15,
      "outputs": []
    },
    {
      "cell_type": "code",
      "metadata": {
        "id": "fvGJlT9_pGrV",
        "colab_type": "code",
        "colab": {
          "base_uri": "https://localhost:8080/",
          "height": 115
        },
        "outputId": "43212c47-d987-4e56-ccf5-068cbd72571c"
      },
      "source": [
        "print(encoder_input_train.shape)\n",
        "print(decoder_input_train.shape)\n",
        "print(decoder_target_train.shape)\n",
        "print(encoder_input_test.shape)\n",
        "print(decoder_input_test.shape)\n",
        "print(decoder_target_test.shape)"
      ],
      "execution_count": 16,
      "outputs": [
        {
          "output_type": "stream",
          "text": [
            "(29700, 8)\n",
            "(29700, 16)\n",
            "(29700, 16)\n",
            "(3300, 8)\n",
            "(3300, 16)\n",
            "(3300, 16)\n"
          ],
          "name": "stdout"
        }
      ]
    },
    {
      "cell_type": "markdown",
      "metadata": {
        "id": "aZJN4xQ4pIsO",
        "colab_type": "text"
      },
      "source": [
        "## 기계 번역기 만들기"
      ]
    },
    {
      "cell_type": "code",
      "metadata": {
        "id": "uPJ7AE72pNem",
        "colab_type": "code",
        "colab": {}
      },
      "source": [
        "from tensorflow.keras.layers import Input, LSTM, Embedding, Dense, Masking\n",
        "from tensorflow.keras.models import Model"
      ],
      "execution_count": 17,
      "outputs": []
    },
    {
      "cell_type": "code",
      "metadata": {
        "id": "4GDAG8xnpO0X",
        "colab_type": "code",
        "colab": {}
      },
      "source": [
        "latent_dim = 50"
      ],
      "execution_count": 18,
      "outputs": []
    },
    {
      "cell_type": "code",
      "metadata": {
        "id": "-TLOmHf_pQX5",
        "colab_type": "code",
        "colab": {}
      },
      "source": [
        "# 인코더\n",
        "encoder_inputs = Input(shape=(None,))\n",
        "enc_emb =  Embedding(src_vocab_size, latent_dim)(encoder_inputs) # 임베딩 층\n",
        "enc_masking = Masking(mask_value=0.0)(enc_emb) # 패딩 0은 연산에서 제외\n",
        "encoder_lstm = LSTM(latent_dim, return_state=True) # 상태값 리턴을 위해 return_state는 True\n",
        "encoder_outputs, state_h, state_c = encoder_lstm(enc_masking) # 은닉 상태와 셀 상태를 리턴\n",
        "encoder_states = [state_h, state_c] # 인코더의 은닉 상태와 셀 상태를 저장"
      ],
      "execution_count": 19,
      "outputs": []
    },
    {
      "cell_type": "code",
      "metadata": {
        "id": "rztayxKcpSXG",
        "colab_type": "code",
        "colab": {}
      },
      "source": [
        "# 디코더\n",
        "decoder_inputs = Input(shape=(None,))\n",
        "dec_emb_layer = Embedding(tar_vocab_size, latent_dim) # 임베딩 층\n",
        "dec_emb = dec_emb_layer(decoder_inputs) # 패딩 0은 연산에서 제외\n",
        "dec_masking = Masking(mask_value=0.0)(dec_emb)\n",
        "\n",
        "# 상태값 리턴을 위해 return_state는 True, 모든 시점에 대해서 단어를 예측하기 위해 return_sequences는 True\n",
        "decoder_lstm = LSTM(latent_dim, return_sequences=True, return_state=True) \n",
        "\n",
        "# 인코더의 은닉 상태를 초기 은닉 상태(initial_state)로 사용\n",
        "decoder_outputs, _, _ = decoder_lstm(dec_masking,\n",
        "                                     initial_state=encoder_states)\n",
        "\n",
        "# 모든 시점의 결과에 대해서 소프트맥스 함수를 사용한 출력층을 통해 단어 예측\n",
        "decoder_dense = Dense(tar_vocab_size, activation='softmax')\n",
        "decoder_outputs = decoder_dense(decoder_outputs)"
      ],
      "execution_count": 20,
      "outputs": []
    },
    {
      "cell_type": "code",
      "metadata": {
        "id": "PLYt3uHOpVfj",
        "colab_type": "code",
        "colab": {}
      },
      "source": [
        "model = Model([encoder_inputs, decoder_inputs], decoder_outputs)"
      ],
      "execution_count": 21,
      "outputs": []
    },
    {
      "cell_type": "code",
      "metadata": {
        "id": "ujRa9sMbpYP7",
        "colab_type": "code",
        "colab": {}
      },
      "source": [
        "model.compile(optimizer='rmsprop', loss='sparse_categorical_crossentropy', metrics=['acc'])"
      ],
      "execution_count": 22,
      "outputs": []
    },
    {
      "cell_type": "code",
      "metadata": {
        "id": "i0YWJm29paXY",
        "colab_type": "code",
        "colab": {
          "base_uri": "https://localhost:8080/",
          "height": 477
        },
        "outputId": "83e70652-544d-462a-e9d0-19b2791f3098"
      },
      "source": [
        "model.summary()"
      ],
      "execution_count": 23,
      "outputs": [
        {
          "output_type": "stream",
          "text": [
            "Model: \"functional_1\"\n",
            "__________________________________________________________________________________________________\n",
            "Layer (type)                    Output Shape         Param #     Connected to                     \n",
            "==================================================================================================\n",
            "input_1 (InputLayer)            [(None, None)]       0                                            \n",
            "__________________________________________________________________________________________________\n",
            "input_2 (InputLayer)            [(None, None)]       0                                            \n",
            "__________________________________________________________________________________________________\n",
            "embedding (Embedding)           (None, None, 50)     232350      input_1[0][0]                    \n",
            "__________________________________________________________________________________________________\n",
            "embedding_1 (Embedding)         (None, None, 50)     401100      input_2[0][0]                    \n",
            "__________________________________________________________________________________________________\n",
            "masking (Masking)               (None, None, 50)     0           embedding[0][0]                  \n",
            "__________________________________________________________________________________________________\n",
            "masking_1 (Masking)             (None, None, 50)     0           embedding_1[0][0]                \n",
            "__________________________________________________________________________________________________\n",
            "lstm (LSTM)                     [(None, 50), (None,  20200       masking[0][0]                    \n",
            "__________________________________________________________________________________________________\n",
            "lstm_1 (LSTM)                   [(None, None, 50), ( 20200       masking_1[0][0]                  \n",
            "                                                                 lstm[0][1]                       \n",
            "                                                                 lstm[0][2]                       \n",
            "__________________________________________________________________________________________________\n",
            "dense (Dense)                   (None, None, 8022)   409122      lstm_1[0][0]                     \n",
            "==================================================================================================\n",
            "Total params: 1,082,972\n",
            "Trainable params: 1,082,972\n",
            "Non-trainable params: 0\n",
            "__________________________________________________________________________________________________\n"
          ],
          "name": "stdout"
        }
      ]
    },
    {
      "cell_type": "code",
      "metadata": {
        "id": "geebHum6pb1j",
        "colab_type": "code",
        "colab": {
          "base_uri": "https://localhost:8080/",
          "height": 1000
        },
        "outputId": "97360fd1-f7ba-4b67-d25a-03dd6b84ac42"
      },
      "source": [
        "model.fit(x = [encoder_input_train, decoder_input_train], y = decoder_target_train, \\\n",
        "          validation_data = ([encoder_input_test, decoder_input_test], decoder_target_test),\n",
        "          batch_size = 128, epochs = 50)"
      ],
      "execution_count": 24,
      "outputs": [
        {
          "output_type": "stream",
          "text": [
            "Epoch 1/50\n",
            "233/233 [==============================] - 12s 52ms/step - loss: 3.1823 - acc: 0.6064 - val_loss: 1.9062 - val_acc: 0.6786\n",
            "Epoch 2/50\n",
            "233/233 [==============================] - 10s 43ms/step - loss: 1.7487 - acc: 0.7237 - val_loss: 1.6375 - val_acc: 0.7445\n",
            "Epoch 3/50\n",
            "233/233 [==============================] - 10s 42ms/step - loss: 1.5629 - acc: 0.7451 - val_loss: 1.5260 - val_acc: 0.7541\n",
            "Epoch 4/50\n",
            "233/233 [==============================] - 10s 42ms/step - loss: 1.4627 - acc: 0.7605 - val_loss: 1.4268 - val_acc: 0.7739\n",
            "Epoch 5/50\n",
            "233/233 [==============================] - 10s 42ms/step - loss: 1.3714 - acc: 0.7782 - val_loss: 1.3570 - val_acc: 0.7839\n",
            "Epoch 6/50\n",
            "233/233 [==============================] - 10s 42ms/step - loss: 1.2985 - acc: 0.7891 - val_loss: 1.3082 - val_acc: 0.7956\n",
            "Epoch 7/50\n",
            "233/233 [==============================] - 10s 42ms/step - loss: 1.2439 - acc: 0.7979 - val_loss: 1.2511 - val_acc: 0.8015\n",
            "Epoch 8/50\n",
            "233/233 [==============================] - 10s 42ms/step - loss: 1.1991 - acc: 0.8040 - val_loss: 1.2153 - val_acc: 0.8042\n",
            "Epoch 9/50\n",
            "233/233 [==============================] - 10s 42ms/step - loss: 1.1584 - acc: 0.8098 - val_loss: 1.1854 - val_acc: 0.8115\n",
            "Epoch 10/50\n",
            "233/233 [==============================] - 10s 42ms/step - loss: 1.1211 - acc: 0.8151 - val_loss: 1.1608 - val_acc: 0.8159\n",
            "Epoch 11/50\n",
            "233/233 [==============================] - 10s 42ms/step - loss: 1.0884 - acc: 0.8197 - val_loss: 1.1532 - val_acc: 0.8171\n",
            "Epoch 12/50\n",
            "233/233 [==============================] - 10s 42ms/step - loss: 1.0590 - acc: 0.8241 - val_loss: 1.1173 - val_acc: 0.8195\n",
            "Epoch 13/50\n",
            "233/233 [==============================] - 10s 42ms/step - loss: 1.0317 - acc: 0.8275 - val_loss: 1.0905 - val_acc: 0.8250\n",
            "Epoch 14/50\n",
            "233/233 [==============================] - 10s 42ms/step - loss: 1.0067 - acc: 0.8307 - val_loss: 1.0721 - val_acc: 0.8257\n",
            "Epoch 15/50\n",
            "233/233 [==============================] - 10s 42ms/step - loss: 0.9834 - acc: 0.8337 - val_loss: 1.0592 - val_acc: 0.8288\n",
            "Epoch 16/50\n",
            "233/233 [==============================] - 10s 42ms/step - loss: 0.9616 - acc: 0.8364 - val_loss: 1.0477 - val_acc: 0.8290\n",
            "Epoch 17/50\n",
            "233/233 [==============================] - 10s 42ms/step - loss: 0.9407 - acc: 0.8390 - val_loss: 1.0164 - val_acc: 0.8338\n",
            "Epoch 18/50\n",
            "233/233 [==============================] - 10s 42ms/step - loss: 0.9209 - acc: 0.8415 - val_loss: 1.0153 - val_acc: 0.8335\n",
            "Epoch 19/50\n",
            "233/233 [==============================] - 10s 42ms/step - loss: 0.9030 - acc: 0.8437 - val_loss: 0.9982 - val_acc: 0.8363\n",
            "Epoch 20/50\n",
            "233/233 [==============================] - 10s 42ms/step - loss: 0.8865 - acc: 0.8461 - val_loss: 0.9995 - val_acc: 0.8358\n",
            "Epoch 21/50\n",
            "233/233 [==============================] - 10s 42ms/step - loss: 0.8709 - acc: 0.8481 - val_loss: 0.9893 - val_acc: 0.8379\n",
            "Epoch 22/50\n",
            "233/233 [==============================] - 10s 42ms/step - loss: 0.8563 - acc: 0.8501 - val_loss: 0.9749 - val_acc: 0.8395\n",
            "Epoch 23/50\n",
            "233/233 [==============================] - 10s 42ms/step - loss: 0.8424 - acc: 0.8521 - val_loss: 0.9650 - val_acc: 0.8406\n",
            "Epoch 24/50\n",
            "233/233 [==============================] - 10s 42ms/step - loss: 0.8298 - acc: 0.8540 - val_loss: 0.9632 - val_acc: 0.8401\n",
            "Epoch 25/50\n",
            "233/233 [==============================] - 10s 42ms/step - loss: 0.8180 - acc: 0.8557 - val_loss: 0.9413 - val_acc: 0.8435\n",
            "Epoch 26/50\n",
            "233/233 [==============================] - 10s 42ms/step - loss: 0.8064 - acc: 0.8575 - val_loss: 0.9373 - val_acc: 0.8456\n",
            "Epoch 27/50\n",
            "233/233 [==============================] - 10s 42ms/step - loss: 0.7958 - acc: 0.8589 - val_loss: 0.9248 - val_acc: 0.8462\n",
            "Epoch 28/50\n",
            "233/233 [==============================] - 10s 42ms/step - loss: 0.7861 - acc: 0.8607 - val_loss: 0.9397 - val_acc: 0.8434\n",
            "Epoch 29/50\n",
            "233/233 [==============================] - 10s 42ms/step - loss: 0.7768 - acc: 0.8623 - val_loss: 0.9243 - val_acc: 0.8470\n",
            "Epoch 30/50\n",
            "233/233 [==============================] - 10s 41ms/step - loss: 0.7681 - acc: 0.8640 - val_loss: 0.9230 - val_acc: 0.8470\n",
            "Epoch 31/50\n",
            "233/233 [==============================] - 10s 41ms/step - loss: 0.7596 - acc: 0.8654 - val_loss: 0.9056 - val_acc: 0.8501\n",
            "Epoch 32/50\n",
            "233/233 [==============================] - 10s 42ms/step - loss: 0.7511 - acc: 0.8671 - val_loss: 0.9112 - val_acc: 0.8494\n",
            "Epoch 33/50\n",
            "233/233 [==============================] - 10s 43ms/step - loss: 0.7430 - acc: 0.8684 - val_loss: 0.9086 - val_acc: 0.8507\n",
            "Epoch 34/50\n",
            "233/233 [==============================] - 10s 42ms/step - loss: 0.7354 - acc: 0.8697 - val_loss: 0.9010 - val_acc: 0.8505\n",
            "Epoch 35/50\n",
            "233/233 [==============================] - 10s 42ms/step - loss: 0.7285 - acc: 0.8712 - val_loss: 0.9024 - val_acc: 0.8509\n",
            "Epoch 36/50\n",
            "233/233 [==============================] - 10s 42ms/step - loss: 0.7215 - acc: 0.8726 - val_loss: 0.8810 - val_acc: 0.8546\n",
            "Epoch 37/50\n",
            "233/233 [==============================] - 10s 42ms/step - loss: 0.7150 - acc: 0.8739 - val_loss: 0.9085 - val_acc: 0.8513\n",
            "Epoch 38/50\n",
            "233/233 [==============================] - 10s 42ms/step - loss: 0.7090 - acc: 0.8755 - val_loss: 0.8905 - val_acc: 0.8542\n",
            "Epoch 39/50\n",
            "233/233 [==============================] - 10s 41ms/step - loss: 0.7029 - acc: 0.8766 - val_loss: 0.8836 - val_acc: 0.8549\n",
            "Epoch 40/50\n",
            "233/233 [==============================] - 10s 42ms/step - loss: 0.6972 - acc: 0.8780 - val_loss: 0.8832 - val_acc: 0.8548\n",
            "Epoch 41/50\n",
            "233/233 [==============================] - 10s 42ms/step - loss: 0.6915 - acc: 0.8792 - val_loss: 0.8860 - val_acc: 0.8548\n",
            "Epoch 42/50\n",
            "233/233 [==============================] - 10s 41ms/step - loss: 0.6858 - acc: 0.8800 - val_loss: 0.8884 - val_acc: 0.8546\n",
            "Epoch 43/50\n",
            "233/233 [==============================] - 10s 41ms/step - loss: 0.6800 - acc: 0.8812 - val_loss: 0.8733 - val_acc: 0.8570\n",
            "Epoch 44/50\n",
            "233/233 [==============================] - 10s 41ms/step - loss: 0.6739 - acc: 0.8824 - val_loss: 0.8705 - val_acc: 0.8587\n",
            "Epoch 45/50\n",
            "233/233 [==============================] - 10s 41ms/step - loss: 0.6679 - acc: 0.8832 - val_loss: 0.8672 - val_acc: 0.8579\n",
            "Epoch 46/50\n",
            "233/233 [==============================] - 10s 41ms/step - loss: 0.6610 - acc: 0.8846 - val_loss: 0.8614 - val_acc: 0.8595\n",
            "Epoch 47/50\n",
            "233/233 [==============================] - 10s 41ms/step - loss: 0.6537 - acc: 0.8855 - val_loss: 0.8614 - val_acc: 0.8590\n",
            "Epoch 48/50\n",
            "233/233 [==============================] - 10s 42ms/step - loss: 0.6471 - acc: 0.8864 - val_loss: 0.8580 - val_acc: 0.8595\n",
            "Epoch 49/50\n",
            "233/233 [==============================] - 10s 41ms/step - loss: 0.6413 - acc: 0.8876 - val_loss: 0.8557 - val_acc: 0.8591\n",
            "Epoch 50/50\n",
            "233/233 [==============================] - 10s 41ms/step - loss: 0.6358 - acc: 0.8885 - val_loss: 0.8559 - val_acc: 0.8593\n"
          ],
          "name": "stdout"
        },
        {
          "output_type": "execute_result",
          "data": {
            "text/plain": [
              "<tensorflow.python.keras.callbacks.History at 0x7fb157b8ce80>"
            ]
          },
          "metadata": {
            "tags": []
          },
          "execution_count": 24
        }
      ]
    },
    {
      "cell_type": "code",
      "metadata": {
        "id": "Oi63yrzWpd1n",
        "colab_type": "code",
        "colab": {}
      },
      "source": [
        "encoder_model = Model(encoder_inputs, encoder_states)\n",
        "\n",
        "decoder_state_input_h = Input(shape=(latent_dim,))\n",
        "decoder_state_input_c = Input(shape=(latent_dim,))\n",
        "decoder_states_inputs = [decoder_state_input_h, decoder_state_input_c]\n",
        "\n",
        "# 훈련 때 사용했던 임베딩 층을 재사용\n",
        "dec_emb2= dec_emb_layer(decoder_inputs)\n",
        "\n",
        "# 다음 단어 예측을 위해 이전 시점의 상태를 현 시점의 초기 상태로 사용\n",
        "decoder_outputs2, state_h2, state_c2 = decoder_lstm(dec_emb2, initial_state=decoder_states_inputs)\n",
        "decoder_states2 = [state_h2, state_c2]\n",
        "\n",
        "# 모든 시점에 대해서 단어 예측\n",
        "decoder_outputs2 = decoder_dense(decoder_outputs2)\n",
        "\n",
        "decoder_model = Model(\n",
        "    [decoder_inputs] + decoder_states_inputs,\n",
        "    [decoder_outputs2] + decoder_states2)"
      ],
      "execution_count": 25,
      "outputs": []
    },
    {
      "cell_type": "code",
      "metadata": {
        "id": "vlPlyu8PtaQx",
        "colab_type": "code",
        "colab": {}
      },
      "source": [
        "def decode_sequence(input_seq):\n",
        "    # 입력으로부터 인코더의 상태를 얻음\n",
        "    states_value = encoder_model.predict(input_seq)\n",
        "\n",
        "    # <SOS>에 해당하는 정수 생성\n",
        "    target_seq = np.zeros((1,1))\n",
        "    target_seq[0, 0] = tar_to_index['<sos>']\n",
        "\n",
        "    stop_condition = False\n",
        "    decoded_sentence = ''\n",
        "\n",
        "    # stop_condition이 True가 될 때까지 루프 반복\n",
        "    # 구현의 간소화를 위해서 이 함수는 배치 크기를 1로 가정합니다.\n",
        "    while not stop_condition:\n",
        "        # 이점 시점의 상태 states_value를 현 시점의 초기 상태로 사용\n",
        "        output_tokens, h, c = decoder_model.predict([target_seq] + states_value)\n",
        "\n",
        "        # 예측 결과를 단어로 변환\n",
        "        sampled_token_index = np.argmax(output_tokens[0, -1, :])\n",
        "        sampled_char = index_to_tar[sampled_token_index]\n",
        "\n",
        "         # 현재 시점의 예측 단어를 예측 문장에 추가\n",
        "        decoded_sentence += ' '+sampled_char\n",
        "\n",
        "        # <eos>에 도달하거나 정해진 길이를 넘으면 중단.\n",
        "        if (sampled_char == '<eos>' or\n",
        "           len(decoded_sentence) > 50):\n",
        "            stop_condition = True\n",
        "\n",
        "        # 현재 시점의 예측 결과를 다음 시점의 입력으로 사용하기 위해 저장\n",
        "        target_seq = np.zeros((1,1))\n",
        "        target_seq[0, 0] = sampled_token_index\n",
        "\n",
        "        # 현재 시점의 상태를 다음 시점의 상태로 사용하기 위해 저장\n",
        "        states_value = [h, c]\n",
        "\n",
        "    return decoded_sentence"
      ],
      "execution_count": 26,
      "outputs": []
    },
    {
      "cell_type": "code",
      "metadata": {
        "id": "CElMpvpKuuJK",
        "colab_type": "code",
        "colab": {}
      },
      "source": [
        "# 원문의 정수 시퀀스를 텍스트 시퀀스로 변환\n",
        "def seq2src(input_seq):\n",
        "    temp=''\n",
        "    for i in input_seq:\n",
        "        if(i!=0):\n",
        "            temp = temp + index_to_src[i]+' '\n",
        "    return temp\n",
        "\n",
        "# 번역문의 정수 시퀀스를 텍스트 시퀀스로 변환\n",
        "def seq2tar(input_seq):\n",
        "    temp=''\n",
        "    for i in input_seq:\n",
        "        if((i!=0 and i!=tar_to_index['<sos>']) and i!=tar_to_index['<eos>']):\n",
        "            temp = temp + index_to_tar[i] + ' '\n",
        "    return temp"
      ],
      "execution_count": 27,
      "outputs": []
    },
    {
      "cell_type": "code",
      "metadata": {
        "id": "iq-ODN3GuwaE",
        "colab_type": "code",
        "colab": {
          "base_uri": "https://localhost:8080/",
          "height": 428
        },
        "outputId": "1f5cb500-02eb-440c-ee89-322d9acae4e5"
      },
      "source": [
        "for seq_index in [3,50,100,300,1001]:\n",
        "  input_seq = encoder_input_train[seq_index: seq_index + 1]\n",
        "  decoded_sentence = decode_sequence(input_seq)\n",
        "\n",
        "  print(\"원문 : \",seq2src(encoder_input_train[seq_index]))\n",
        "  print(\"번역문 :\",seq2tar(decoder_input_train[seq_index]))\n",
        "  print(\"예측문 :\",decoded_sentence[:-5])\n",
        "  print(\"\\n\")"
      ],
      "execution_count": 28,
      "outputs": [
        {
          "output_type": "stream",
          "text": [
            "원문 :  you know i can t . \n",
            "번역문 : tu sais que je ne peux pas . \n",
            "예측문 :  je ne peux pas vous le monde . \n",
            "\n",
            "\n",
            "원문 :  i sat at the bar . \n",
            "번역문 : je me suis assis au bar . \n",
            "예측문 :  je me suis assis au travail . \n",
            "\n",
            "\n",
            "원문 :  don t run here . \n",
            "번역문 : ne cours pas ici . \n",
            "예측문 :  ne vous air pas ! \n",
            "\n",
            "\n",
            "원문 :  everyone agrees . \n",
            "번역문 : tout le monde est d accord . \n",
            "예측문 :  tout le monde est un coup d accord . \n",
            "\n",
            "\n",
            "원문 :  i love to write . \n",
            "번역문 : j aime ecrire . \n",
            "예측문 :  j adore le vie . \n",
            "\n",
            "\n"
          ],
          "name": "stdout"
        }
      ]
    },
    {
      "cell_type": "code",
      "metadata": {
        "id": "pDur5q7juyI2",
        "colab_type": "code",
        "colab": {
          "base_uri": "https://localhost:8080/",
          "height": 428
        },
        "outputId": "2a9aef42-b611-4bbe-9b0c-bef876ce3bd1"
      },
      "source": [
        "for seq_index in [3,50,100,300,1001]:\n",
        "  input_seq = encoder_input_test[seq_index: seq_index + 1]\n",
        "  decoded_sentence = decode_sequence(input_seq)\n",
        "\n",
        "  print(\"원문 : \",seq2src(encoder_input_test[seq_index]))\n",
        "  print(\"번역문 :\",seq2tar(decoder_input_test[seq_index]))\n",
        "  print(\"예측문 :\",decoded_sentence[:-5])\n",
        "  print(\"\\n\")"
      ],
      "execution_count": 29,
      "outputs": [
        {
          "output_type": "stream",
          "text": [
            "원문 :  he is not available . \n",
            "번역문 : il n est pas disponible . \n",
            "예측문 :  il n est pas fort . \n",
            "\n",
            "\n",
            "원문 :  this drives me nuts . \n",
            "번역문 : ca me rend dingue . \n",
            "예측문 :  ca me rend beaucoup . \n",
            "\n",
            "\n",
            "원문 :  this is too small . \n",
            "번역문 : c est trop petit . \n",
            "예측문 :  c est trop grand . \n",
            "\n",
            "\n",
            "원문 :  i cleared the table . \n",
            "번역문 : je debarrassai la table . \n",
            "예측문 :  j ai la maison . \n",
            "\n",
            "\n",
            "원문 :  the air is damp . \n",
            "번역문 : l air est humide . \n",
            "예측문 :  l air ete en . \n",
            "\n",
            "\n"
          ],
          "name": "stdout"
        }
      ]
    },
    {
      "cell_type": "code",
      "metadata": {
        "id": "bh28U3T-u1Ns",
        "colab_type": "code",
        "colab": {}
      },
      "source": [
        ""
      ],
      "execution_count": null,
      "outputs": []
    }
  ]
}