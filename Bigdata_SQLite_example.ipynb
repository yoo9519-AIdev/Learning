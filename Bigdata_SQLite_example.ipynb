{
  "nbformat": 4,
  "nbformat_minor": 0,
  "metadata": {
    "colab": {
      "name": "Bigdata_SQLite_example.ipynb",
      "provenance": [],
      "collapsed_sections": [],
      "authorship_tag": "ABX9TyM6UtxBnfXPUxwu/l1ttxSv",
      "include_colab_link": true
    },
    "kernelspec": {
      "name": "python3",
      "display_name": "Python 3"
    }
  },
  "cells": [
    {
      "cell_type": "markdown",
      "metadata": {
        "id": "view-in-github",
        "colab_type": "text"
      },
      "source": [
        "<a href=\"https://colab.research.google.com/github/yoo9519-AIdev/Learning/blob/master/Bigdata_SQLite_example.ipynb\" target=\"_parent\"><img src=\"https://colab.research.google.com/assets/colab-badge.svg\" alt=\"Open In Colab\"/></a>"
      ]
    },
    {
      "cell_type": "code",
      "metadata": {
        "id": "5ekdUeEjjOR3"
      },
      "source": [
        "import sqlite3"
      ],
      "execution_count": 1,
      "outputs": []
    },
    {
      "cell_type": "code",
      "metadata": {
        "id": "iLI4ZVezjUjh"
      },
      "source": [
        "dbpath = 'test.sqlite'\n",
        "conn = sqlite3.connect(dbpath)\n",
        "\n",
        "cur = conn.cursor() # table 생성 후 데이터 입력\n",
        "\n",
        "cur.executescript('DROP TABLE IF EXISTS items;') # items 테이블이 이미 있으면 제거하기\n",
        "\n",
        "cur.executescript(\"\"\"\n",
        "CREATE TABLE items(\n",
        "    item_id INTEGER PRIMARY KEY,\n",
        "    name TEXT UNIQUE,\n",
        "    price INTEGER\n",
        ");\n",
        "\"\"\")\n",
        "\n",
        "# 데이터 넣기\n",
        "cur.executescript('INSERT INTO items(name, price) VALUES(\"APPLE\", 800);')\n",
        "cur.executescript('INSERT INTO items(name, price) VALUES(\"ORANGE\", 900);')\n",
        "cur.executescript('INSERT INTO items(name, price) VALUES(\"Banana\", 860);')\n",
        "\n",
        "conn.commit() # 위 조작을 데이터베이스에 반영하기"
      ],
      "execution_count": 4,
      "outputs": []
    },
    {
      "cell_type": "code",
      "metadata": {
        "id": "g28KqBChkU65",
        "outputId": "2672f82a-9346-4167-a474-0c91de30af27",
        "colab": {
          "base_uri": "https://localhost:8080/",
          "height": 65
        }
      },
      "source": [
        "# 데이터 출력하기\n",
        "cur = conn.cursor()\n",
        "cur.execute(\"SELECT item_id, name, price FROM items\")\n",
        "item_list = cur.fetchall()\n",
        "\n",
        "# 출력\n",
        "for it in item_list:\n",
        "    print(it)"
      ],
      "execution_count": 5,
      "outputs": [
        {
          "output_type": "stream",
          "text": [
            "(1, 'APPLE', 800)\n",
            "(2, 'ORANGE', 900)\n",
            "(3, 'Banana', 860)\n"
          ],
          "name": "stdout"
        }
      ]
    },
    {
      "cell_type": "code",
      "metadata": {
        "id": "3ljAJ0Vtkro5"
      },
      "source": [
        ""
      ],
      "execution_count": null,
      "outputs": []
    }
  ]
}