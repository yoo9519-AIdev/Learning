{
  "nbformat": 4,
  "nbformat_minor": 0,
  "metadata": {
    "colab": {
      "name": "Seq2Seq_Paper_news.ipynb",
      "provenance": [],
      "collapsed_sections": [],
      "mount_file_id": "1vzmLpeU80h9z0E17CDPnSO433OTRs62o",
      "authorship_tag": "ABX9TyMmJg5xMOCn36izEbef9Uje",
      "include_colab_link": true
    },
    "kernelspec": {
      "name": "python3",
      "display_name": "Python 3"
    }
  },
  "cells": [
    {
      "cell_type": "markdown",
      "metadata": {
        "id": "view-in-github",
        "colab_type": "text"
      },
      "source": [
        "<a href=\"https://colab.research.google.com/github/yoo9519-AIdev/Learning/blob/master/Seq2Seq_Paper_news.ipynb\" target=\"_parent\"><img src=\"https://colab.research.google.com/assets/colab-badge.svg\" alt=\"Open In Colab\"/></a>"
      ]
    },
    {
      "cell_type": "code",
      "metadata": {
        "id": "jbhFyvhLxkQi",
        "colab_type": "code",
        "colab": {}
      },
      "source": [
        "import numpy as np\n",
        "import re\n",
        "import shutil\n",
        "import tensorflow as tf\n",
        "from tensorflow.keras.preprocessing.text import Tokenizer\n",
        "from tensorflow.keras.preprocessing.sequence import pad_sequences\n",
        "import pandas as pd\n",
        "import os\n",
        "import unicodedata\n",
        "import urllib3\n",
        "import zipfile"
      ],
      "execution_count": 1,
      "outputs": []
    },
    {
      "cell_type": "code",
      "metadata": {
        "id": "5nslRFSGxsVL",
        "colab_type": "code",
        "colab": {
          "base_uri": "https://localhost:8080/",
          "height": 592
        },
        "outputId": "3b0ce0b6-b7a6-4de1-df51-54d7fa5d741f"
      },
      "source": [
        "text = pd.read_excel('/content/drive/My Drive/AI NLP 알고리즘 포트폴리오/Seq2Seq/3_문어체_뉴스(1)_200226.xlsx')\n",
        "text"
      ],
      "execution_count": 2,
      "outputs": [
        {
          "output_type": "execute_result",
          "data": {
            "text/html": [
              "<div>\n",
              "<style scoped>\n",
              "    .dataframe tbody tr th:only-of-type {\n",
              "        vertical-align: middle;\n",
              "    }\n",
              "\n",
              "    .dataframe tbody tr th {\n",
              "        vertical-align: top;\n",
              "    }\n",
              "\n",
              "    .dataframe thead th {\n",
              "        text-align: right;\n",
              "    }\n",
              "</style>\n",
              "<table border=\"1\" class=\"dataframe\">\n",
              "  <thead>\n",
              "    <tr style=\"text-align: right;\">\n",
              "      <th></th>\n",
              "      <th>ID</th>\n",
              "      <th>날짜</th>\n",
              "      <th>자동분류1</th>\n",
              "      <th>자동분류2</th>\n",
              "      <th>자동분류3</th>\n",
              "      <th>URL</th>\n",
              "      <th>언론사</th>\n",
              "      <th>원문</th>\n",
              "      <th>번역문</th>\n",
              "    </tr>\n",
              "  </thead>\n",
              "  <tbody>\n",
              "    <tr>\n",
              "      <th>0</th>\n",
              "      <td>20961563</td>\n",
              "      <td>2018-10-01 00:00:00</td>\n",
              "      <td>경제,국제경제</td>\n",
              "      <td>IT_과학,IT_과학일반</td>\n",
              "      <td>문화,문화일반</td>\n",
              "      <td>http://www.sedaily.com/NewsView/1S5QRSR5T2</td>\n",
              "      <td>서울경제</td>\n",
              "      <td>스키너가 말한 보상은 대부분 눈으로 볼 수 있는 현물이다.</td>\n",
              "      <td>Skinner's reward is mostly eye-watering.</td>\n",
              "    </tr>\n",
              "    <tr>\n",
              "      <th>1</th>\n",
              "      <td>20930897</td>\n",
              "      <td>2018-09-14 00:00:00</td>\n",
              "      <td>IT_과학,IT_과학일반</td>\n",
              "      <td>NaN</td>\n",
              "      <td>NaN</td>\n",
              "      <td>http://www.sedaily.com/NewsView/1S4MSFM0IH</td>\n",
              "      <td>서울경제</td>\n",
              "      <td>심지어 어떤 문제가 발생할 건지도 어느 정도 예측이 가능하다.</td>\n",
              "      <td>Even some problems can be predicted.</td>\n",
              "    </tr>\n",
              "    <tr>\n",
              "      <th>2</th>\n",
              "      <td>20307875</td>\n",
              "      <td>2019-04-19 00:00:00</td>\n",
              "      <td>IT_과학,과학</td>\n",
              "      <td>NaN</td>\n",
              "      <td>NaN</td>\n",
              "      <td>http://news.kmib.co.kr/article/view.asp?arcid=...</td>\n",
              "      <td>국민일보</td>\n",
              "      <td>오직 하나님만이 그 이유를 제대로 알 수 있을 겁니다.</td>\n",
              "      <td>Only God will exactly know why.</td>\n",
              "    </tr>\n",
              "    <tr>\n",
              "      <th>3</th>\n",
              "      <td>20314977</td>\n",
              "      <td>2019-04-27 00:00:00</td>\n",
              "      <td>국제,중국</td>\n",
              "      <td>경제,국제경제</td>\n",
              "      <td>NaN</td>\n",
              "      <td>http://news.kmib.co.kr/article/view.asp?arcid=...</td>\n",
              "      <td>국민일보</td>\n",
              "      <td>중국의 논쟁을 보며 간과해선 안 될 게 기업들의 고충이다.</td>\n",
              "      <td>Businesses should not overlook China's dispute.</td>\n",
              "    </tr>\n",
              "    <tr>\n",
              "      <th>4</th>\n",
              "      <td>20268904</td>\n",
              "      <td>2019-03-13 00:00:00</td>\n",
              "      <td>문화,방송_연예</td>\n",
              "      <td>사회,미디어</td>\n",
              "      <td>NaN</td>\n",
              "      <td>http://news.kmib.co.kr/article/view.asp?arcid=...</td>\n",
              "      <td>국민일보</td>\n",
              "      <td>박자가 느린 노래는 오랜 시간이 지나 뜨는 경우가 있다.</td>\n",
              "      <td>Slow-beating songs often float over time.</td>\n",
              "    </tr>\n",
              "    <tr>\n",
              "      <th>...</th>\n",
              "      <td>...</td>\n",
              "      <td>...</td>\n",
              "      <td>...</td>\n",
              "      <td>...</td>\n",
              "      <td>...</td>\n",
              "      <td>...</td>\n",
              "      <td>...</td>\n",
              "      <td>...</td>\n",
              "      <td>...</td>\n",
              "    </tr>\n",
              "    <tr>\n",
              "      <th>200006</th>\n",
              "      <td>2469942</td>\n",
              "      <td>20181022</td>\n",
              "      <td>사회,노동_복지</td>\n",
              "      <td>사회,사건_사고</td>\n",
              "      <td>사회,미디어</td>\n",
              "      <td>http://www.hani.co.kr/arti/opinion/because/866...</td>\n",
              "      <td>한겨레</td>\n",
              "      <td>당시에는 경찰의 금지통보로 청와대 근처 집회가 불가능하던 시절이라 과연 경찰이 막지...</td>\n",
              "      <td>At the time, it was a period when it was impos...</td>\n",
              "    </tr>\n",
              "    <tr>\n",
              "      <th>200007</th>\n",
              "      <td>2462113</td>\n",
              "      <td>20181019</td>\n",
              "      <td>사회,사건_사고</td>\n",
              "      <td>정치,정치일반</td>\n",
              "      <td>사회,노동_복지</td>\n",
              "      <td>http://www.hani.co.kr/arti/society/society_gen...</td>\n",
              "      <td>한겨레</td>\n",
              "      <td>양승태 대법원과 박근혜 청와대의 대표적 재판거래 의혹 사건으로 꼽히는 전국교직원노동...</td>\n",
              "      <td>The testimony of a Blue House official at the ...</td>\n",
              "    </tr>\n",
              "    <tr>\n",
              "      <th>200008</th>\n",
              "      <td>2463985</td>\n",
              "      <td>20181019</td>\n",
              "      <td>경제,산업_기업</td>\n",
              "      <td>사회,사회일반</td>\n",
              "      <td>NaN</td>\n",
              "      <td>http://www.hani.co.kr/arti/society/society_gen...</td>\n",
              "      <td>한겨레</td>\n",
              "      <td>윤석열 서울중앙지검장이 19일 국정감사에 출석해 ‘적폐수사 1호’로 꼽히는 한국항공...</td>\n",
              "      <td>Seoul Central District Prosecutor's Office Chi...</td>\n",
              "    </tr>\n",
              "    <tr>\n",
              "      <th>200009</th>\n",
              "      <td>2463107</td>\n",
              "      <td>20181019</td>\n",
              "      <td>사회,사건_사고</td>\n",
              "      <td>국제,유럽_EU</td>\n",
              "      <td>NaN</td>\n",
              "      <td>http://www.hani.co.kr/arti/society/society_gen...</td>\n",
              "      <td>한겨레</td>\n",
              "      <td>대법원에 재상고된 지 5년이 넘도록 재판이 지연되면서 양승태 대법원장 시절 대표적인...</td>\n",
              "      <td>The date of the ruling of the second appeal re...</td>\n",
              "    </tr>\n",
              "    <tr>\n",
              "      <th>200010</th>\n",
              "      <td>2463530</td>\n",
              "      <td>20181019</td>\n",
              "      <td>사회,사건_사고</td>\n",
              "      <td>NaN</td>\n",
              "      <td>NaN</td>\n",
              "      <td>http://www.hani.co.kr/arti/opinion/editorial/8...</td>\n",
              "      <td>한겨레</td>\n",
              "      <td>‘양승태 대법원'은 민사소송규칙까지 고쳐 외교부가 대법원에 의견서를 제출할 수 있게...</td>\n",
              "      <td>It was also revealed through documents from th...</td>\n",
              "    </tr>\n",
              "  </tbody>\n",
              "</table>\n",
              "<p>200011 rows × 9 columns</p>\n",
              "</div>"
            ],
            "text/plain": [
              "              ID  ...                                                번역문\n",
              "0       20961563  ...           Skinner's reward is mostly eye-watering.\n",
              "1       20930897  ...               Even some problems can be predicted.\n",
              "2       20307875  ...                    Only God will exactly know why.\n",
              "3       20314977  ...    Businesses should not overlook China's dispute.\n",
              "4       20268904  ...          Slow-beating songs often float over time.\n",
              "...          ...  ...                                                ...\n",
              "200006   2469942  ...  At the time, it was a period when it was impos...\n",
              "200007   2462113  ...  The testimony of a Blue House official at the ...\n",
              "200008   2463985  ...  Seoul Central District Prosecutor's Office Chi...\n",
              "200009   2463107  ...  The date of the ruling of the second appeal re...\n",
              "200010   2463530  ...  It was also revealed through documents from th...\n",
              "\n",
              "[200011 rows x 9 columns]"
            ]
          },
          "metadata": {
            "tags": []
          },
          "execution_count": 2
        }
      ]
    },
    {
      "cell_type": "code",
      "metadata": {
        "id": "rGGADAdix9XA",
        "colab_type": "code",
        "colab": {}
      },
      "source": [
        "text = text[:10000]\n",
        "text = text[['원문', '번역문']]"
      ],
      "execution_count": 3,
      "outputs": []
    },
    {
      "cell_type": "code",
      "metadata": {
        "id": "xH1kjU21yPzc",
        "colab_type": "code",
        "colab": {}
      },
      "source": [
        "ko = text['원문']\n",
        "eng = text['번역문']"
      ],
      "execution_count": 4,
      "outputs": []
    },
    {
      "cell_type": "code",
      "metadata": {
        "id": "lmU7EmWL0Gnt",
        "colab_type": "code",
        "colab": {}
      },
      "source": [
        "# eng = eng.apply(lambda x : '<sos> '+ x + ' <eos>')"
      ],
      "execution_count": 5,
      "outputs": []
    },
    {
      "cell_type": "code",
      "metadata": {
        "id": "ZwIhtj2SzH7J",
        "colab_type": "code",
        "colab": {
          "base_uri": "https://localhost:8080/",
          "height": 34
        },
        "outputId": "eb5dad24-ecb1-4093-9397-26859ebea94d"
      },
      "source": [
        "eng[0] # eg = eng[i]"
      ],
      "execution_count": 6,
      "outputs": [
        {
          "output_type": "execute_result",
          "data": {
            "application/vnd.google.colaboratory.intrinsic+json": {
              "type": "string"
            },
            "text/plain": [
              "\"Skinner's reward is mostly eye-watering.\""
            ]
          },
          "metadata": {
            "tags": []
          },
          "execution_count": 6
        }
      ]
    },
    {
      "cell_type": "code",
      "metadata": {
        "id": "DJxB0tnRy0Sz",
        "colab_type": "code",
        "colab": {
          "base_uri": "https://localhost:8080/",
          "height": 34
        },
        "outputId": "03a9ac9e-243b-47a0-864b-338c528e8e08"
      },
      "source": [
        "ko[0] # k = ko[i]"
      ],
      "execution_count": 7,
      "outputs": [
        {
          "output_type": "execute_result",
          "data": {
            "application/vnd.google.colaboratory.intrinsic+json": {
              "type": "string"
            },
            "text/plain": [
              "'스키너가 말한 보상은 대부분 눈으로 볼 수 있는 현물이다.'"
            ]
          },
          "metadata": {
            "tags": []
          },
          "execution_count": 7
        }
      ]
    },
    {
      "cell_type": "code",
      "metadata": {
        "id": "2hKal99eyWoR",
        "colab_type": "code",
        "colab": {}
      },
      "source": [
        "encoder_input = [k.split() for k in ko] # 단어 단위로 encoder_input에 담는다.\n",
        "decoder_input = [['<sos> '] + eg.split() for eg in eng]\n",
        "decoder_target = [eg.split() + [' <eos>'] for eg in eng]"
      ],
      "execution_count": 12,
      "outputs": []
    },
    {
      "cell_type": "code",
      "metadata": {
        "id": "yzDzAkBo26tf",
        "colab_type": "code",
        "colab": {
          "base_uri": "https://localhost:8080/",
          "height": 32
        },
        "outputId": "962a7417-c848-40ed-cfec-8f24ded57e62"
      },
      "source": [
        "encoder_input[0]"
      ],
      "execution_count": 13,
      "outputs": [
        {
          "output_type": "execute_result",
          "data": {
            "text/plain": [
              "['스키너가', '말한', '보상은', '대부분', '눈으로', '볼', '수', '있는', '현물이다.']"
            ]
          },
          "metadata": {
            "tags": []
          },
          "execution_count": 13
        }
      ]
    },
    {
      "cell_type": "code",
      "metadata": {
        "id": "FFqq7nR_2VpV",
        "colab_type": "code",
        "colab": {
          "base_uri": "https://localhost:8080/",
          "height": 32
        },
        "outputId": "a732b80b-d0b0-4e88-a46f-8831bfe08436"
      },
      "source": [
        "decoder_input[0]"
      ],
      "execution_count": 14,
      "outputs": [
        {
          "output_type": "execute_result",
          "data": {
            "text/plain": [
              "['<sos> ', \"Skinner's\", 'reward', 'is', 'mostly', 'eye-watering.']"
            ]
          },
          "metadata": {
            "tags": []
          },
          "execution_count": 14
        }
      ]
    },
    {
      "cell_type": "code",
      "metadata": {
        "id": "kH8nfIUC4asY",
        "colab_type": "code",
        "colab": {
          "base_uri": "https://localhost:8080/",
          "height": 32
        },
        "outputId": "8d495272-a444-403d-d594-791200540ab6"
      },
      "source": [
        "decoder_target[0]"
      ],
      "execution_count": 15,
      "outputs": [
        {
          "output_type": "execute_result",
          "data": {
            "text/plain": [
              "[\"Skinner's\", 'reward', 'is', 'mostly', 'eye-watering.', ' <eos>']"
            ]
          },
          "metadata": {
            "tags": []
          },
          "execution_count": 15
        }
      ]
    },
    {
      "cell_type": "code",
      "metadata": {
        "id": "K3u_FJQ1EDaE",
        "colab_type": "code",
        "colab": {}
      },
      "source": [
        "# pd_decoder_input = pd.DataFrame(decoder_input)\n",
        "# pd_decoder_input = pd_decoder_input.apply(lambda x: '<sos> ' + x)\n",
        "# pd_decoder_input"
      ],
      "execution_count": 16,
      "outputs": []
    },
    {
      "cell_type": "code",
      "metadata": {
        "id": "h-AIeZaLhfcu",
        "colab_type": "code",
        "colab": {
          "base_uri": "https://localhost:8080/",
          "height": 98
        },
        "outputId": "bef8af0d-7d4e-4876-db40-6b14067f1fb9"
      },
      "source": [
        "decoder_input[:5]"
      ],
      "execution_count": 17,
      "outputs": [
        {
          "output_type": "execute_result",
          "data": {
            "text/plain": [
              "[['<sos> ', \"Skinner's\", 'reward', 'is', 'mostly', 'eye-watering.'],\n",
              " ['<sos> ', 'Even', 'some', 'problems', 'can', 'be', 'predicted.'],\n",
              " ['<sos> ', 'Only', 'God', 'will', 'exactly', 'know', 'why.'],\n",
              " ['<sos> ', 'Businesses', 'should', 'not', 'overlook', \"China's\", 'dispute.'],\n",
              " ['<sos> ', 'Slow-beating', 'songs', 'often', 'float', 'over', 'time.']]"
            ]
          },
          "metadata": {
            "tags": []
          },
          "execution_count": 17
        }
      ]
    },
    {
      "cell_type": "code",
      "metadata": {
        "id": "dNU8-HlChiId",
        "colab_type": "code",
        "colab": {
          "base_uri": "https://localhost:8080/",
          "height": 98
        },
        "outputId": "b8e2e37b-8a2a-4fee-f0d3-b19bd0c65e9b"
      },
      "source": [
        "decoder_target[:5]"
      ],
      "execution_count": 18,
      "outputs": [
        {
          "output_type": "execute_result",
          "data": {
            "text/plain": [
              "[[\"Skinner's\", 'reward', 'is', 'mostly', 'eye-watering.', ' <eos>'],\n",
              " ['Even', 'some', 'problems', 'can', 'be', 'predicted.', ' <eos>'],\n",
              " ['Only', 'God', 'will', 'exactly', 'know', 'why.', ' <eos>'],\n",
              " ['Businesses', 'should', 'not', 'overlook', \"China's\", 'dispute.', ' <eos>'],\n",
              " ['Slow-beating', 'songs', 'often', 'float', 'over', 'time.', ' <eos>']]"
            ]
          },
          "metadata": {
            "tags": []
          },
          "execution_count": 18
        }
      ]
    },
    {
      "cell_type": "code",
      "metadata": {
        "id": "am671v841rST",
        "colab_type": "code",
        "colab": {}
      },
      "source": [
        "# 케라스 토크나이저를 통해 단어집합을 생성하고, 텍스트 시퀀스를 정수 시퀀스로 변환하는 정수 인코딩 과정을 거친다.\n",
        "\n",
        "tokenizer_ko = Tokenizer(filters=\"\", lower=False)\n",
        "tokenizer_ko.fit_on_texts(encoder_input)\n",
        "encoder_input_ = tokenizer_ko.texts_to_sequences(encoder_input)\n",
        "\n",
        "tokenizer_eng = Tokenizer(filters=\"\", lower=False)\n",
        "tokenizer_eng.fit_on_texts(decoder_input)\n",
        "tokenizer_eng.fit_on_texts(decoder_input)\n",
        "decoder_input_ = tokenizer_eng.texts_to_sequences(decoder_input)\n",
        "decoder_target_ = tokenizer_eng.texts_to_sequences(decoder_target)"
      ],
      "execution_count": 20,
      "outputs": []
    },
    {
      "cell_type": "code",
      "metadata": {
        "id": "MZXB6YVgiTJo",
        "colab_type": "code",
        "colab": {}
      },
      "source": [
        "encoder_input_ = pad_sequences(encoder_input_, padding=\"post\")\n",
        "decoder_input_ = pad_sequences(decoder_input_, padding=\"post\")\n",
        "decoder_target_ = pad_sequences(decoder_target_, padding=\"post\")"
      ],
      "execution_count": 22,
      "outputs": []
    },
    {
      "cell_type": "code",
      "metadata": {
        "id": "iz3pYZJ-pPrp",
        "colab_type": "code",
        "colab": {
          "base_uri": "https://localhost:8080/",
          "height": 32
        },
        "outputId": "af8d517c-30ba-4676-c44f-a958976c20d0"
      },
      "source": [
        "decoder_target_ = pad_sequences(decoder_target_, padding='post')\n",
        "decoder_target_.shape"
      ],
      "execution_count": 66,
      "outputs": [
        {
          "output_type": "execute_result",
          "data": {
            "text/plain": [
              "(10000, 15)"
            ]
          },
          "metadata": {
            "tags": []
          },
          "execution_count": 66
        }
      ]
    },
    {
      "cell_type": "code",
      "metadata": {
        "id": "CjVNSlxpilAZ",
        "colab_type": "code",
        "colab": {
          "base_uri": "https://localhost:8080/",
          "height": 32
        },
        "outputId": "9de865a4-b736-478a-9a90-932ccdfe9e0f"
      },
      "source": [
        "encoder_input_.shape, decoder_input_.shape, decoder_target_.shape"
      ],
      "execution_count": 25,
      "outputs": [
        {
          "output_type": "execute_result",
          "data": {
            "text/plain": [
              "((10000, 25), (10000, 16), (10000, 15))"
            ]
          },
          "metadata": {
            "tags": []
          },
          "execution_count": 25
        }
      ]
    },
    {
      "cell_type": "code",
      "metadata": {
        "id": "3y5iYPLZixjo",
        "colab_type": "code",
        "colab": {
          "base_uri": "https://localhost:8080/",
          "height": 32
        },
        "outputId": "b030567e-248a-4621-f2ce-a06de2e9ffe8"
      },
      "source": [
        "ko_vocab_size = len(tokenizer_ko.word_index) + 1\n",
        "eng_vocab_size = len(tokenizer_eng.word_index) + 1\n",
        "print(\"한국어 단어 집합의 크기 : {:d}, 영어 단어 집합의 크기 : {:d}\".format(ko_vocab_size, eng_vocab_size))"
      ],
      "execution_count": 26,
      "outputs": [
        {
          "output_type": "stream",
          "text": [
            "한국어 단어 집합의 크기 : 38652, 영어 단어 집합의 크기 : 22163\n"
          ],
          "name": "stdout"
        }
      ]
    },
    {
      "cell_type": "code",
      "metadata": {
        "id": "bfOPF-bujFjC",
        "colab_type": "code",
        "colab": {}
      },
      "source": [
        "ko_to_index = tokenizer_ko.word_index\n",
        "index_to_ko = tokenizer_ko.index_word # 훈련 후 결과 비교할 때 사용\n",
        "\n",
        "eng_to_index = tokenizer_eng.word_index # 훈련 후 예측 과정에서 사용\n",
        "index_to_eng = tokenizer_eng.index_word # 훈련 후 결과 비교할 때 사용"
      ],
      "execution_count": 27,
      "outputs": []
    },
    {
      "cell_type": "code",
      "metadata": {
        "id": "SZCChQjUjQ7O",
        "colab_type": "code",
        "colab": {
          "base_uri": "https://localhost:8080/",
          "height": 32
        },
        "outputId": "cb374fe5-c9aa-4897-f3cd-217b8ba70963"
      },
      "source": [
        "indices = np.arange(encoder_input_.shape[0])\n",
        "np.random.shuffle(indices)\n",
        "print(indices)"
      ],
      "execution_count": 28,
      "outputs": [
        {
          "output_type": "stream",
          "text": [
            "[9682 8802 7344 ... 2588 6816  436]\n"
          ],
          "name": "stdout"
        }
      ]
    },
    {
      "cell_type": "code",
      "metadata": {
        "id": "5uVDua6gjU-N",
        "colab_type": "code",
        "colab": {}
      },
      "source": [
        "encoder_input_ = encoder_input_[indices]\n",
        "decoder_input_ = decoder_input_[indices]\n",
        "decoder_target_ = decoder_target_[indices]"
      ],
      "execution_count": 29,
      "outputs": []
    },
    {
      "cell_type": "code",
      "metadata": {
        "id": "qb_xVSH-japC",
        "colab_type": "code",
        "colab": {
          "base_uri": "https://localhost:8080/",
          "height": 32
        },
        "outputId": "08b4e335-76c6-4c76-ffc4-f4cc737461ad"
      },
      "source": [
        "# 훈련 데이터 분리\n",
        "\n",
        "n_of_val = int(33000*0.1)\n",
        "print(n_of_val)"
      ],
      "execution_count": 30,
      "outputs": [
        {
          "output_type": "stream",
          "text": [
            "3300\n"
          ],
          "name": "stdout"
        }
      ]
    },
    {
      "cell_type": "code",
      "metadata": {
        "id": "7pSxCapxjgIJ",
        "colab_type": "code",
        "colab": {}
      },
      "source": [
        "encoder_input_train = encoder_input_[:-n_of_val]\n",
        "decoder_input_train = decoder_input_[:-n_of_val]\n",
        "decoder_target_train = decoder_target_[:-n_of_val]\n",
        "\n",
        "encoder_input_test = encoder_input_[-n_of_val:]\n",
        "decoder_input_test = decoder_input_[-n_of_val:]\n",
        "decoder_target_test = decoder_target_[-n_of_val:]"
      ],
      "execution_count": 31,
      "outputs": []
    },
    {
      "cell_type": "code",
      "metadata": {
        "id": "0c3x7M7YjlRr",
        "colab_type": "code",
        "colab": {
          "base_uri": "https://localhost:8080/",
          "height": 115
        },
        "outputId": "ed677927-bb9a-4f85-bb83-371d80b2da7f"
      },
      "source": [
        "print(encoder_input_train.shape)\n",
        "print(decoder_input_train.shape)\n",
        "print(decoder_target_train.shape)\n",
        "print(encoder_input_test.shape)\n",
        "print(decoder_input_test.shape)\n",
        "print(decoder_target_test.shape)\n",
        "\n",
        "# 차원 25, 16, 16로 조정"
      ],
      "execution_count": 32,
      "outputs": [
        {
          "output_type": "stream",
          "text": [
            "(6700, 25)\n",
            "(6700, 16)\n",
            "(6700, 15)\n",
            "(3300, 25)\n",
            "(3300, 16)\n",
            "(3300, 15)\n"
          ],
          "name": "stdout"
        }
      ]
    },
    {
      "cell_type": "code",
      "metadata": {
        "id": "Q6s2ewm0rXVO",
        "colab_type": "code",
        "colab": {
          "base_uri": "https://localhost:8080/",
          "height": 115
        },
        "outputId": "923f1192-993b-407e-8ecb-9dfc3caf3d4e"
      },
      "source": [
        "a_zero = np.zeros((6700, 1))\n",
        "b_zero = np.zeros((3300, 1))\n",
        "\n",
        "decoder_target_train = np.append(decoder_target_train, a_zero, axis=1)\n",
        "decoder_target_test = np.append(decoder_target_test, b_zero, axis=1)\n",
        "\n",
        "print(encoder_input_train.shape)\n",
        "print(decoder_input_train.shape)\n",
        "print(decoder_target_train.shape)\n",
        "print(encoder_input_test.shape)\n",
        "print(decoder_input_test.shape)\n",
        "print(decoder_target_test.shape)"
      ],
      "execution_count": 79,
      "outputs": [
        {
          "output_type": "stream",
          "text": [
            "(6700, 25)\n",
            "(6700, 16)\n",
            "(6700, 16)\n",
            "(3300, 25)\n",
            "(3300, 16)\n",
            "(3300, 16)\n"
          ],
          "name": "stdout"
        }
      ]
    },
    {
      "cell_type": "code",
      "metadata": {
        "id": "D7RTNGVVsJrM",
        "colab_type": "code",
        "colab": {}
      },
      "source": [
        "# a_zero = np.zeros((6700, 1))\n",
        "# b_zero = np.zeros((3300, 1))\n",
        "\n",
        "# np.append(decoder_target_train, a_zero, axis=1)\n",
        "# np.append(decoder_target_test, b_zero, axis=1)\n",
        "\n",
        "# print(decoder_target_train.shape)\n",
        "# print(decoder_target_test.shape)"
      ],
      "execution_count": 80,
      "outputs": []
    },
    {
      "cell_type": "markdown",
      "metadata": {
        "id": "nxKhIQwvpZFP",
        "colab_type": "text"
      },
      "source": [
        "numpy 배열 확인 및 조정(연습)"
      ]
    },
    {
      "cell_type": "code",
      "metadata": {
        "id": "yNdnq_Fak_Nb",
        "colab_type": "code",
        "colab": {
          "base_uri": "https://localhost:8080/",
          "height": 131
        },
        "outputId": "4bb514ec-8c5e-4dce-a10e-abbef17c830e"
      },
      "source": [
        "decoder_input_test"
      ],
      "execution_count": 42,
      "outputs": [
        {
          "output_type": "execute_result",
          "data": {
            "text/plain": [
              "array([[    1,  4250,  5478, ...,   655,  1574,     0],\n",
              "       [    1,     9, 19192, ...,     8,   242,     0],\n",
              "       [    1,   134,   172, ...,     0,     0,     0],\n",
              "       ...,\n",
              "       [    1,  3796,   440, ...,     0,     0,     0],\n",
              "       [    1,   140,    19, ..., 17794,     0,     0],\n",
              "       [    1,  5845,   788, ...,     0,     0,     0]], dtype=int32)"
            ]
          },
          "metadata": {
            "tags": []
          },
          "execution_count": 42
        }
      ]
    },
    {
      "cell_type": "code",
      "metadata": {
        "id": "G45lqL5dnt7A",
        "colab_type": "code",
        "colab": {
          "base_uri": "https://localhost:8080/",
          "height": 49
        },
        "outputId": "2286b2c4-fe83-4d95-83a5-2cdca3860e49"
      },
      "source": [
        "testnp = np.arange(1, 21)\n",
        "testnp"
      ],
      "execution_count": 55,
      "outputs": [
        {
          "output_type": "execute_result",
          "data": {
            "text/plain": [
              "array([ 1,  2,  3,  4,  5,  6,  7,  8,  9, 10, 11, 12, 13, 14, 15, 16, 17,\n",
              "       18, 19, 20])"
            ]
          },
          "metadata": {
            "tags": []
          },
          "execution_count": 55
        }
      ]
    },
    {
      "cell_type": "code",
      "metadata": {
        "id": "DFoMov06n8IU",
        "colab_type": "code",
        "colab": {
          "base_uri": "https://localhost:8080/"
        },
        "outputId": "b25ddeb1-51fd-4d0b-ab2c-b865f381fc20"
      },
      "source": [
        "testnp2 = testnp.reshape(5, 4)\n",
        "testnp2.shape"
      ],
      "execution_count": 77,
      "outputs": [
        {
          "output_type": "execute_result",
          "data": {
            "text/plain": [
              "(5, 4)"
            ]
          },
          "metadata": {
            "tags": []
          },
          "execution_count": 77
        }
      ]
    },
    {
      "cell_type": "code",
      "metadata": {
        "id": "bLLjgElmpBL_",
        "colab_type": "code",
        "colab": {
          "base_uri": "https://localhost:8080/",
          "height": 32
        },
        "outputId": "2f84d141-0694-41b2-dff7-00ba5d624f16"
      },
      "source": [
        "testnp2.shape"
      ],
      "execution_count": 78,
      "outputs": [
        {
          "output_type": "execute_result",
          "data": {
            "text/plain": [
              "(5, 4)"
            ]
          },
          "metadata": {
            "tags": []
          },
          "execution_count": 78
        }
      ]
    },
    {
      "cell_type": "code",
      "metadata": {
        "id": "JW1AchyBoMYO",
        "colab_type": "code",
        "colab": {
          "base_uri": "https://localhost:8080/",
          "height": 98
        },
        "outputId": "11231798-cba4-4757-bf0d-81de2e1ca768"
      },
      "source": [
        "a = np.zeros((5, 1))\n",
        "np.append(testnp2, a, axis=1)\n",
        "\n",
        "# 이런식으로 decoder_target_test / train을 수동으로 zeros패딩 시켜주자."
      ],
      "execution_count": 71,
      "outputs": [
        {
          "output_type": "execute_result",
          "data": {
            "text/plain": [
              "array([[ 1.,  2.,  3.,  4.,  0.],\n",
              "       [ 5.,  6.,  7.,  8.,  0.],\n",
              "       [ 9., 10., 11., 12.,  0.],\n",
              "       [13., 14., 15., 16.,  0.],\n",
              "       [17., 18., 19., 20.,  0.]])"
            ]
          },
          "metadata": {
            "tags": []
          },
          "execution_count": 71
        }
      ]
    },
    {
      "cell_type": "markdown",
      "metadata": {
        "id": "XhdLOknRjn4G",
        "colab_type": "text"
      },
      "source": [
        "## Seq2Seq 기계 번역기 만들기"
      ]
    },
    {
      "cell_type": "code",
      "metadata": {
        "id": "ZRLkreDJjs1s",
        "colab_type": "code",
        "colab": {}
      },
      "source": [
        "from tensorflow.keras.layers import Input, LSTM, Embedding, Dense, Masking\n",
        "from tensorflow.keras.models import Model"
      ],
      "execution_count": 33,
      "outputs": []
    },
    {
      "cell_type": "code",
      "metadata": {
        "id": "d8Y-RwAdjyGe",
        "colab_type": "code",
        "colab": {}
      },
      "source": [
        "latent_dim = 50"
      ],
      "execution_count": 34,
      "outputs": []
    },
    {
      "cell_type": "code",
      "metadata": {
        "id": "d9kiTI-fjzyQ",
        "colab_type": "code",
        "colab": {}
      },
      "source": [
        "# 인코더\n",
        "\n",
        "encoder_inputs = Input(shape=(None,))\n",
        "enc_emb =  Embedding(ko_vocab_size, latent_dim)(encoder_inputs) # 임베딩 층\n",
        "enc_masking = Masking(mask_value=0.0)(enc_emb) # 패딩 0은 연산에서 제외\n",
        "encoder_lstm = LSTM(latent_dim, return_state=True) # 상태값 리턴을 위해 return_state는 True\n",
        "encoder_outputs, state_h, state_c = encoder_lstm(enc_masking) # 은닉 상태와 셀 상태를 리턴\n",
        "encoder_states = [state_h, state_c] # 인코더의 은닉 상태와 셀 상태를 저장"
      ],
      "execution_count": 35,
      "outputs": []
    },
    {
      "cell_type": "code",
      "metadata": {
        "id": "EhmBI_zokAcl",
        "colab_type": "code",
        "colab": {}
      },
      "source": [
        "# 디코더\n",
        "\n",
        "decoder_inputs = Input(shape=(None,))\n",
        "dec_emb_layer = Embedding(eng_vocab_size, latent_dim) # 임베딩 층\n",
        "dec_emb = dec_emb_layer(decoder_inputs) # 패딩 0은 연산에서 제외\n",
        "dec_masking = Masking(mask_value=0.0)(dec_emb)\n",
        "\n",
        "# 상태값 리턴을 위해 return_state는 True, 모든 시점에 대해서 단어를 예측하기 위해 return_sequences는 True\n",
        "decoder_lstm = LSTM(latent_dim, return_sequences=True, return_state=True) \n",
        "\n",
        "# 인코더의 은닉 상태를 초기 은닉 상태(initial_state)로 사용\n",
        "decoder_outputs, _, _ = decoder_lstm(dec_masking,\n",
        "                                     initial_state=encoder_states)\n",
        "\n",
        "# 모든 시점의 결과에 대해서 소프트맥스 함수를 사용한 출력층을 통해 단어 예측\n",
        "decoder_dense = Dense(eng_vocab_size, activation='softmax')\n",
        "decoder_outputs = decoder_dense(decoder_outputs)"
      ],
      "execution_count": 36,
      "outputs": []
    },
    {
      "cell_type": "code",
      "metadata": {
        "id": "HyubdfWQkMFh",
        "colab_type": "code",
        "colab": {}
      },
      "source": [
        "model = Model([encoder_inputs, decoder_inputs], decoder_outputs)"
      ],
      "execution_count": 37,
      "outputs": []
    },
    {
      "cell_type": "code",
      "metadata": {
        "id": "nYrU-Sy_kO-c",
        "colab_type": "code",
        "colab": {}
      },
      "source": [
        "model.compile(optimizer='rmsprop', loss='sparse_categorical_crossentropy', metrics=['acc'])"
      ],
      "execution_count": 38,
      "outputs": []
    },
    {
      "cell_type": "code",
      "metadata": {
        "id": "MxEoP8UJkTK4",
        "colab_type": "code",
        "colab": {
          "base_uri": "https://localhost:8080/",
          "height": 477
        },
        "outputId": "4f4bbac9-2937-48b5-c36c-1d16a1ed657f"
      },
      "source": [
        "model.summary()"
      ],
      "execution_count": 39,
      "outputs": [
        {
          "output_type": "stream",
          "text": [
            "Model: \"functional_1\"\n",
            "__________________________________________________________________________________________________\n",
            "Layer (type)                    Output Shape         Param #     Connected to                     \n",
            "==================================================================================================\n",
            "input_1 (InputLayer)            [(None, None)]       0                                            \n",
            "__________________________________________________________________________________________________\n",
            "input_2 (InputLayer)            [(None, None)]       0                                            \n",
            "__________________________________________________________________________________________________\n",
            "embedding (Embedding)           (None, None, 50)     1932600     input_1[0][0]                    \n",
            "__________________________________________________________________________________________________\n",
            "embedding_1 (Embedding)         (None, None, 50)     1108150     input_2[0][0]                    \n",
            "__________________________________________________________________________________________________\n",
            "masking (Masking)               (None, None, 50)     0           embedding[0][0]                  \n",
            "__________________________________________________________________________________________________\n",
            "masking_1 (Masking)             (None, None, 50)     0           embedding_1[0][0]                \n",
            "__________________________________________________________________________________________________\n",
            "lstm (LSTM)                     [(None, 50), (None,  20200       masking[0][0]                    \n",
            "__________________________________________________________________________________________________\n",
            "lstm_1 (LSTM)                   [(None, None, 50), ( 20200       masking_1[0][0]                  \n",
            "                                                                 lstm[0][1]                       \n",
            "                                                                 lstm[0][2]                       \n",
            "__________________________________________________________________________________________________\n",
            "dense (Dense)                   (None, None, 22163)  1130313     lstm_1[0][0]                     \n",
            "==================================================================================================\n",
            "Total params: 4,211,463\n",
            "Trainable params: 4,211,463\n",
            "Non-trainable params: 0\n",
            "__________________________________________________________________________________________________\n"
          ],
          "name": "stdout"
        }
      ]
    },
    {
      "cell_type": "code",
      "metadata": {
        "id": "d36-vEqnkU18",
        "colab_type": "code",
        "colab": {
          "base_uri": "https://localhost:8080/",
          "height": 331
        },
        "outputId": "5bada1a7-bca7-4705-ad7e-b2a1d6a9a2c8"
      },
      "source": [
        "model.fit(x = [encoder_input_train, decoder_input_train], y = decoder_target_train, validation_data = ([encoder_input_test, decoder_input_test], \n",
        "                                                                                                       decoder_target_test), batch_size = 128, epochs = 10)"
      ],
      "execution_count": 96,
      "outputs": [
        {
          "output_type": "stream",
          "text": [
            "Epoch 1/10\n"
          ],
          "name": "stdout"
        },
        {
          "output_type": "error",
          "ename": "TypeError",
          "evalue": "ignored",
          "traceback": [
            "\u001b[0;31m---------------------------------------------------------------------------\u001b[0m",
            "\u001b[0;31mTypeError\u001b[0m                                 Traceback (most recent call last)",
            "\u001b[0;32m<ipython-input-96-b837b2abb211>\u001b[0m in \u001b[0;36m<module>\u001b[0;34m()\u001b[0m\n\u001b[1;32m      1\u001b[0m model.fit(x = [encoder_input_train, decoder_input_train], y = decoder_target_train, validation_data = ([encoder_input_test, decoder_input_test], \n\u001b[0;32m----> 2\u001b[0;31m                                                                                                        decoder_target_test), batch_size = 128, epochs = 10)\n\u001b[0m",
            "\u001b[0;32m/usr/local/lib/python3.6/dist-packages/tensorflow/python/keras/engine/training.py\u001b[0m in \u001b[0;36m_method_wrapper\u001b[0;34m(self, *args, **kwargs)\u001b[0m\n\u001b[1;32m    106\u001b[0m   \u001b[0;32mdef\u001b[0m \u001b[0m_method_wrapper\u001b[0m\u001b[0;34m(\u001b[0m\u001b[0mself\u001b[0m\u001b[0;34m,\u001b[0m \u001b[0;34m*\u001b[0m\u001b[0margs\u001b[0m\u001b[0;34m,\u001b[0m \u001b[0;34m**\u001b[0m\u001b[0mkwargs\u001b[0m\u001b[0;34m)\u001b[0m\u001b[0;34m:\u001b[0m\u001b[0;34m\u001b[0m\u001b[0;34m\u001b[0m\u001b[0m\n\u001b[1;32m    107\u001b[0m     \u001b[0;32mif\u001b[0m \u001b[0;32mnot\u001b[0m \u001b[0mself\u001b[0m\u001b[0;34m.\u001b[0m\u001b[0m_in_multi_worker_mode\u001b[0m\u001b[0;34m(\u001b[0m\u001b[0;34m)\u001b[0m\u001b[0;34m:\u001b[0m  \u001b[0;31m# pylint: disable=protected-access\u001b[0m\u001b[0;34m\u001b[0m\u001b[0;34m\u001b[0m\u001b[0m\n\u001b[0;32m--> 108\u001b[0;31m       \u001b[0;32mreturn\u001b[0m \u001b[0mmethod\u001b[0m\u001b[0;34m(\u001b[0m\u001b[0mself\u001b[0m\u001b[0;34m,\u001b[0m \u001b[0;34m*\u001b[0m\u001b[0margs\u001b[0m\u001b[0;34m,\u001b[0m \u001b[0;34m**\u001b[0m\u001b[0mkwargs\u001b[0m\u001b[0;34m)\u001b[0m\u001b[0;34m\u001b[0m\u001b[0;34m\u001b[0m\u001b[0m\n\u001b[0m\u001b[1;32m    109\u001b[0m \u001b[0;34m\u001b[0m\u001b[0m\n\u001b[1;32m    110\u001b[0m     \u001b[0;31m# Running inside `run_distribute_coordinator` already.\u001b[0m\u001b[0;34m\u001b[0m\u001b[0;34m\u001b[0m\u001b[0;34m\u001b[0m\u001b[0m\n",
            "\u001b[0;32m/usr/local/lib/python3.6/dist-packages/tensorflow/python/keras/engine/training.py\u001b[0m in \u001b[0;36mfit\u001b[0;34m(self, x, y, batch_size, epochs, verbose, callbacks, validation_split, validation_data, shuffle, class_weight, sample_weight, initial_epoch, steps_per_epoch, validation_steps, validation_batch_size, validation_freq, max_queue_size, workers, use_multiprocessing)\u001b[0m\n\u001b[1;32m   1096\u001b[0m                 batch_size=batch_size):\n\u001b[1;32m   1097\u001b[0m               \u001b[0mcallbacks\u001b[0m\u001b[0;34m.\u001b[0m\u001b[0mon_train_batch_begin\u001b[0m\u001b[0;34m(\u001b[0m\u001b[0mstep\u001b[0m\u001b[0;34m)\u001b[0m\u001b[0;34m\u001b[0m\u001b[0;34m\u001b[0m\u001b[0m\n\u001b[0;32m-> 1098\u001b[0;31m               \u001b[0mtmp_logs\u001b[0m \u001b[0;34m=\u001b[0m \u001b[0mtrain_function\u001b[0m\u001b[0;34m(\u001b[0m\u001b[0miterator\u001b[0m\u001b[0;34m)\u001b[0m\u001b[0;34m\u001b[0m\u001b[0;34m\u001b[0m\u001b[0m\n\u001b[0m\u001b[1;32m   1099\u001b[0m               \u001b[0;32mif\u001b[0m \u001b[0mdata_handler\u001b[0m\u001b[0;34m.\u001b[0m\u001b[0mshould_sync\u001b[0m\u001b[0;34m:\u001b[0m\u001b[0;34m\u001b[0m\u001b[0;34m\u001b[0m\u001b[0m\n\u001b[1;32m   1100\u001b[0m                 \u001b[0mcontext\u001b[0m\u001b[0;34m.\u001b[0m\u001b[0masync_wait\u001b[0m\u001b[0;34m(\u001b[0m\u001b[0;34m)\u001b[0m\u001b[0;34m\u001b[0m\u001b[0;34m\u001b[0m\u001b[0m\n",
            "\u001b[0;32m/usr/local/lib/python3.6/dist-packages/tensorflow/python/eager/def_function.py\u001b[0m in \u001b[0;36m__call__\u001b[0;34m(self, *args, **kwds)\u001b[0m\n\u001b[1;32m    778\u001b[0m       \u001b[0;32melse\u001b[0m\u001b[0;34m:\u001b[0m\u001b[0;34m\u001b[0m\u001b[0;34m\u001b[0m\u001b[0m\n\u001b[1;32m    779\u001b[0m         \u001b[0mcompiler\u001b[0m \u001b[0;34m=\u001b[0m \u001b[0;34m\"nonXla\"\u001b[0m\u001b[0;34m\u001b[0m\u001b[0;34m\u001b[0m\u001b[0m\n\u001b[0;32m--> 780\u001b[0;31m         \u001b[0mresult\u001b[0m \u001b[0;34m=\u001b[0m \u001b[0mself\u001b[0m\u001b[0;34m.\u001b[0m\u001b[0m_call\u001b[0m\u001b[0;34m(\u001b[0m\u001b[0;34m*\u001b[0m\u001b[0margs\u001b[0m\u001b[0;34m,\u001b[0m \u001b[0;34m**\u001b[0m\u001b[0mkwds\u001b[0m\u001b[0;34m)\u001b[0m\u001b[0;34m\u001b[0m\u001b[0;34m\u001b[0m\u001b[0m\n\u001b[0m\u001b[1;32m    781\u001b[0m \u001b[0;34m\u001b[0m\u001b[0m\n\u001b[1;32m    782\u001b[0m       \u001b[0mnew_tracing_count\u001b[0m \u001b[0;34m=\u001b[0m \u001b[0mself\u001b[0m\u001b[0;34m.\u001b[0m\u001b[0m_get_tracing_count\u001b[0m\u001b[0;34m(\u001b[0m\u001b[0;34m)\u001b[0m\u001b[0;34m\u001b[0m\u001b[0;34m\u001b[0m\u001b[0m\n",
            "\u001b[0;32m/usr/local/lib/python3.6/dist-packages/tensorflow/python/eager/def_function.py\u001b[0m in \u001b[0;36m_call\u001b[0;34m(self, *args, **kwds)\u001b[0m\n\u001b[1;32m    805\u001b[0m       \u001b[0;31m# In this case we have created variables on the first call, so we run the\u001b[0m\u001b[0;34m\u001b[0m\u001b[0;34m\u001b[0m\u001b[0;34m\u001b[0m\u001b[0m\n\u001b[1;32m    806\u001b[0m       \u001b[0;31m# defunned version which is guaranteed to never create variables.\u001b[0m\u001b[0;34m\u001b[0m\u001b[0;34m\u001b[0m\u001b[0;34m\u001b[0m\u001b[0m\n\u001b[0;32m--> 807\u001b[0;31m       \u001b[0;32mreturn\u001b[0m \u001b[0mself\u001b[0m\u001b[0;34m.\u001b[0m\u001b[0m_stateless_fn\u001b[0m\u001b[0;34m(\u001b[0m\u001b[0;34m*\u001b[0m\u001b[0margs\u001b[0m\u001b[0;34m,\u001b[0m \u001b[0;34m**\u001b[0m\u001b[0mkwds\u001b[0m\u001b[0;34m)\u001b[0m  \u001b[0;31m# pylint: disable=not-callable\u001b[0m\u001b[0;34m\u001b[0m\u001b[0;34m\u001b[0m\u001b[0m\n\u001b[0m\u001b[1;32m    808\u001b[0m     \u001b[0;32melif\u001b[0m \u001b[0mself\u001b[0m\u001b[0;34m.\u001b[0m\u001b[0m_stateful_fn\u001b[0m \u001b[0;32mis\u001b[0m \u001b[0;32mnot\u001b[0m \u001b[0;32mNone\u001b[0m\u001b[0;34m:\u001b[0m\u001b[0;34m\u001b[0m\u001b[0;34m\u001b[0m\u001b[0m\n\u001b[1;32m    809\u001b[0m       \u001b[0;31m# Release the lock early so that multiple threads can perform the call\u001b[0m\u001b[0;34m\u001b[0m\u001b[0;34m\u001b[0m\u001b[0;34m\u001b[0m\u001b[0m\n",
            "\u001b[0;31mTypeError\u001b[0m: 'NoneType' object is not callable"
          ]
        }
      ]
    },
    {
      "cell_type": "code",
      "metadata": {
        "id": "p1_In4uKtxB4",
        "colab_type": "code",
        "colab": {}
      },
      "source": [
        "for decoder in decoder_target_test:\n",
        "    if decoder is None:\n",
        "        print(NoneNone)"
      ],
      "execution_count": 103,
      "outputs": []
    },
    {
      "cell_type": "code",
      "metadata": {
        "id": "f6rkkhqD0v71",
        "colab_type": "code",
        "colab": {}
      },
      "source": [
        ""
      ],
      "execution_count": null,
      "outputs": []
    }
  ]
}