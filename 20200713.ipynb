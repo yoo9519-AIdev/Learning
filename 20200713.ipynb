{
  "nbformat": 4,
  "nbformat_minor": 0,
  "metadata": {
    "kernelspec": {
      "display_name": "Python 3.6.10 64-bit ('nlp': conda)",
      "language": "python",
      "name": "python361064bitnlpconda9bdf83a4355d4b1c9baaaeafb84ea1b2"
    },
    "language_info": {
      "codemirror_mode": {
        "name": "ipython",
        "version": 3
      },
      "file_extension": ".py",
      "mimetype": "text/x-python",
      "name": "python",
      "nbconvert_exporter": "python",
      "pygments_lexer": "ipython3",
      "version": "3.6.10"
    },
    "colab": {
      "name": "20200713.ipynb",
      "provenance": [],
      "include_colab_link": true
    }
  },
  "cells": [
    {
      "cell_type": "markdown",
      "metadata": {
        "id": "view-in-github",
        "colab_type": "text"
      },
      "source": [
        "<a href=\"https://colab.research.google.com/github/yoo9519-AIdev/Learning/blob/master/20200713.ipynb\" target=\"_parent\"><img src=\"https://colab.research.google.com/assets/colab-badge.svg\" alt=\"Open In Colab\"/></a>"
      ]
    },
    {
      "cell_type": "markdown",
      "metadata": {
        "id": "lPfifE9l0gx1",
        "colab_type": "text"
      },
      "source": [
        "둘 사이간의 어떤 유사도를 알고싶을 때\n",
        " - 유클리디안 거리, 코사인 유사도 함수 활용\n",
        " - 자카드 유사도 : 집합을 통해서 토큰화\n",
        " - 사과와 원숭이의 유사도를 코사인 유사도, 유클리디안 거리를 활용해서 구분하자"
      ]
    },
    {
      "cell_type": "code",
      "metadata": {
        "id": "8xlVMrrG0gx2",
        "colab_type": "code",
        "colab": {}
      },
      "source": [
        "word_embedding_dic = {'사과': [1.0, 0.5],\n",
        "                     '바나나': [0.9, 1.2],\n",
        "                     '원숭이': [0.5, 1.0]\n",
        "                     }"
      ],
      "execution_count": null,
      "outputs": []
    },
    {
      "cell_type": "code",
      "metadata": {
        "id": "u0K4xTO-0gx7",
        "colab_type": "code",
        "colab": {},
        "outputId": "1af73c22-b1ad-4a5e-c7bd-2cb4b7f3aa9f"
      },
      "source": [
        "import numpy as np\n",
        "def euclidean_dist(x, y):\n",
        "    x = np.array(x)\n",
        "    y = np.array(y)\n",
        "\n",
        "    return np.sqrt(np.sum(x-y)**2)\n",
        "\n",
        "euclidean_dist(word_embedding_dic['사과'], word_embedding_dic['바나나'])"
      ],
      "execution_count": null,
      "outputs": [
        {
          "output_type": "execute_result",
          "data": {
            "text/plain": [
              "0.6"
            ]
          },
          "metadata": {
            "tags": []
          },
          "execution_count": 242
        }
      ]
    },
    {
      "cell_type": "code",
      "metadata": {
        "id": "rC-B3oB_0gyA",
        "colab_type": "code",
        "colab": {}
      },
      "source": [
        "def cosine_similarity(x, y):\n",
        "    nominator = np.dot(x, y)\n",
        "    denominator = np.linalg.norm(x) * np.linalg.norm(y)\n",
        "    \n",
        "    return nominator/denominator"
      ],
      "execution_count": null,
      "outputs": []
    },
    {
      "cell_type": "markdown",
      "metadata": {
        "id": "O0xWbTmz0gyE",
        "colab_type": "text"
      },
      "source": [
        "token_s1 = s1.split()  \n",
        " ex) 대부분 원숭이는 바나나를 좋아합니다.  \n",
        "token_s2 = s2.split()  \n",
        " ex) 코주부 원숭이는 바나나를 싫어합니다.  \n",
        " \n",
        "union = set(token_s1).union ~"
      ]
    },
    {
      "cell_type": "markdown",
      "metadata": {
        "id": "n0tY1jZ10gyF",
        "colab_type": "text"
      },
      "source": [
        "문서의 표현\n",
        " - bow 생성 방법\n",
        "  - 각 토큰에 고유 인덱스 부여\n",
        "  - 각 인덱스 위치에 토큰 등장 횟수를 기록\n",
        " - 한계 : 단어의 순서를 고려하지 않음"
      ]
    },
    {
      "cell_type": "code",
      "metadata": {
        "id": "aek1yHXk0gyG",
        "colab_type": "code",
        "colab": {},
        "outputId": "916077fa-0820-449e-b6d2-b931607af1fc"
      },
      "source": [
        "pip install kss"
      ],
      "execution_count": null,
      "outputs": [
        {
          "output_type": "stream",
          "text": [
            "Requirement already satisfied: kss in /opt/anaconda3/envs/nlp/lib/python3.6/site-packages (1.3.1)\n",
            "Note: you may need to restart the kernel to use updated packages.\n"
          ],
          "name": "stdout"
        }
      ]
    },
    {
      "cell_type": "code",
      "metadata": {
        "id": "TQgjfajS0gyL",
        "colab_type": "code",
        "colab": {}
      },
      "source": [
        "import pandas as pd\n",
        "docs = '오늘 커피를 마셨어. 오늘 아메리카노를 마셨어. 오늘 마셨어 마셨어. 커피 커피 마셨어.'"
      ],
      "execution_count": null,
      "outputs": []
    },
    {
      "cell_type": "code",
      "metadata": {
        "id": "FQ2zs_vD0gyO",
        "colab_type": "code",
        "colab": {},
        "outputId": "2abcf634-84bc-4a56-e2df-33708f739b73"
      },
      "source": [
        "import kss\n",
        "print(kss.split_sentences(docs))"
      ],
      "execution_count": null,
      "outputs": [
        {
          "output_type": "stream",
          "text": [
            "['오늘 커피를 마셨어.', '오늘 아메리카노를 마셨어.', '오늘 마셨어 마셨어.', '커피 커피 마셨어.']\n"
          ],
          "name": "stdout"
        }
      ]
    },
    {
      "cell_type": "markdown",
      "metadata": {
        "id": "XHU3VMr90gyT",
        "colab_type": "text"
      },
      "source": [
        "Bow 생성방법으로 default 설정해서 해결해보기"
      ]
    },
    {
      "cell_type": "code",
      "metadata": {
        "id": "xwYAc7ub0gyU",
        "colab_type": "code",
        "colab": {}
      },
      "source": [
        "docs = ['오늘 동물원에서 원숭이를 봤어',\n",
        "        '오늘 동물원에서 코끼리를 봤어 봤어',\n",
        "        '동물원에서 원숭이에게 바나나를 줬어 바나나를']"
      ],
      "execution_count": null,
      "outputs": []
    },
    {
      "cell_type": "code",
      "metadata": {
        "id": "Q5xFGsXz0gyX",
        "colab_type": "code",
        "colab": {},
        "outputId": "cb586dfb-3465-48f7-c59e-e1db7f858036"
      },
      "source": [
        "word_list = []\n",
        "for doc in docs:\n",
        "    word_list.extend(doc.split())\n",
        "    \n",
        "word_list"
      ],
      "execution_count": null,
      "outputs": [
        {
          "output_type": "execute_result",
          "data": {
            "text/plain": [
              "['오늘',\n",
              " '동물원에서',\n",
              " '원숭이를',\n",
              " '봤어',\n",
              " '오늘',\n",
              " '동물원에서',\n",
              " '코끼리를',\n",
              " '봤어',\n",
              " '봤어',\n",
              " '동물원에서',\n",
              " '원숭이에게',\n",
              " '바나나를',\n",
              " '줬어',\n",
              " '바나나를']"
            ]
          },
          "metadata": {
            "tags": []
          },
          "execution_count": 248
        }
      ]
    },
    {
      "cell_type": "code",
      "metadata": {
        "id": "iNYNufzi0gya",
        "colab_type": "code",
        "colab": {}
      },
      "source": [
        "from sklearn.feature_extraction.text import CountVectorizer"
      ],
      "execution_count": null,
      "outputs": []
    },
    {
      "cell_type": "code",
      "metadata": {
        "id": "mGFjaA-m0gyd",
        "colab_type": "code",
        "colab": {},
        "outputId": "e2487122-0d6a-4ff3-e8eb-12224e788c96"
      },
      "source": [
        "docs"
      ],
      "execution_count": null,
      "outputs": [
        {
          "output_type": "execute_result",
          "data": {
            "text/plain": [
              "['오늘 동물원에서 원숭이를 봤어', '오늘 동물원에서 코끼리를 봤어 봤어', '동물원에서 원숭이에게 바나나를 줬어 바나나를']"
            ]
          },
          "metadata": {
            "tags": []
          },
          "execution_count": 250
        }
      ]
    },
    {
      "cell_type": "code",
      "metadata": {
        "id": "scUVQGKC0gyf",
        "colab_type": "code",
        "colab": {},
        "outputId": "f851c463-fde8-43ae-93df-9515a907507c"
      },
      "source": [
        "vector = CountVectorizer()\n",
        "print(vector.fit_transform(docs).toarray())\n",
        "print(vector.vocabulary_)"
      ],
      "execution_count": null,
      "outputs": [
        {
          "output_type": "stream",
          "text": [
            "[[1 0 1 1 1 0 0 0]\n",
            " [1 0 2 1 0 0 0 1]\n",
            " [1 2 0 0 0 1 1 0]]\n",
            "{'오늘': 3, '동물원에서': 0, '원숭이를': 4, '봤어': 2, '코끼리를': 7, '원숭이에게': 5, '바나나를': 1, '줬어': 6}\n"
          ],
          "name": "stdout"
        }
      ]
    },
    {
      "cell_type": "markdown",
      "metadata": {
        "id": "u6qUMTnJ0gyj",
        "colab_type": "text"
      },
      "source": [
        "복습내용\n",
        " - Tokenization\n",
        " - Bow\n",
        " - CounterVectorizer\n",
        " - 코사인, 유클리드 벡터\n",
        " - OneHotEncoding"
      ]
    },
    {
      "cell_type": "code",
      "metadata": {
        "id": "qDTTxjXr0gyj",
        "colab_type": "code",
        "colab": {}
      },
      "source": [
        "word_ls = ['원숭이', '바나나', '사과', '사과']"
      ],
      "execution_count": null,
      "outputs": []
    },
    {
      "cell_type": "code",
      "metadata": {
        "id": "WGL4vKha0gym",
        "colab_type": "code",
        "colab": {}
      },
      "source": [
        "word_dict = {} # {원숭이:0, 바나나:1, 사과:2}"
      ],
      "execution_count": null,
      "outputs": []
    },
    {
      "cell_type": "code",
      "metadata": {
        "id": "w-Muk3zl0gyp",
        "colab_type": "code",
        "colab": {},
        "outputId": "8cd3d757-d4f6-4901-a343-196e7ae77ccb"
      },
      "source": [
        "# 이 방법도 있고\n",
        "index = 0\n",
        "for word in word_ls:\n",
        "    if word not in word_dict.keys():\n",
        "        word_dict[word] = index\n",
        "        index += 1\n",
        "    \n",
        "word_dict"
      ],
      "execution_count": null,
      "outputs": [
        {
          "output_type": "execute_result",
          "data": {
            "text/plain": [
              "{'원숭이': 0, '바나나': 1, '사과': 2}"
            ]
          },
          "metadata": {
            "tags": []
          },
          "execution_count": 254
        }
      ]
    },
    {
      "cell_type": "code",
      "metadata": {
        "id": "7ph63uaX0gyr",
        "colab_type": "code",
        "colab": {},
        "outputId": "4016d12f-a5e1-4716-c48c-057235abbec6"
      },
      "source": [
        "# 이 방법도 있다.\n",
        "from collections import defaultdict # 알아서 생성할 때, 값을 주게 된다.\n",
        "\n",
        "word2index = defaultdict(lambda:len(word2index))\n",
        "for word in word_ls:\n",
        "    word2index[word]\n",
        "    \n",
        "word2index"
      ],
      "execution_count": null,
      "outputs": [
        {
          "output_type": "execute_result",
          "data": {
            "text/plain": [
              "defaultdict(<function __main__.<lambda>()>, {'원숭이': 0, '바나나': 1, '사과': 2})"
            ]
          },
          "metadata": {
            "tags": []
          },
          "execution_count": 255
        }
      ]
    },
    {
      "cell_type": "code",
      "metadata": {
        "id": "zp-0fzVZ0gyt",
        "colab_type": "code",
        "colab": {},
        "outputId": "0e94a5d0-731b-4282-ec90-e2cf949421ae"
      },
      "source": [
        "# 이 방법도 있다.\n",
        "vector = CountVectorizer()\n",
        "print(vector.fit_transform(word_ls).toarray())\n",
        "print(vector.vocabulary_)"
      ],
      "execution_count": null,
      "outputs": [
        {
          "output_type": "stream",
          "text": [
            "[[0 0 1]\n",
            " [1 0 0]\n",
            " [0 1 0]\n",
            " [0 1 0]]\n",
            "{'원숭이': 2, '바나나': 0, '사과': 1}\n"
          ],
          "name": "stdout"
        }
      ]
    },
    {
      "cell_type": "code",
      "metadata": {
        "id": "HkZTzLvz0gyu",
        "colab_type": "code",
        "colab": {},
        "outputId": "1be49654-a8b1-407a-956f-fcf7882f7bf7"
      },
      "source": [
        "unique_word_size = len(word2index)\n",
        "one_hot_vectors = np.zeros((len(word_ls), unique_word_size))\n",
        "one_hot_vectors"
      ],
      "execution_count": null,
      "outputs": [
        {
          "output_type": "execute_result",
          "data": {
            "text/plain": [
              "array([[0., 0., 0.],\n",
              "       [0., 0., 0.],\n",
              "       [0., 0., 0.],\n",
              "       [0., 0., 0.]])"
            ]
          },
          "metadata": {
            "tags": []
          },
          "execution_count": 257
        }
      ]
    },
    {
      "cell_type": "code",
      "metadata": {
        "id": "lv6R2TJ60gyw",
        "colab_type": "code",
        "colab": {}
      },
      "source": [
        "text = \"Don't be fooled by the dark sounding name, Mr. Jone's Orphanage is as cheery as cheery goes for a pastry shop.\""
      ],
      "execution_count": null,
      "outputs": []
    },
    {
      "cell_type": "code",
      "metadata": {
        "id": "NCQCxSkC0gyz",
        "colab_type": "code",
        "colab": {},
        "outputId": "bad145ce-8204-428a-e6dc-f8b360186918"
      },
      "source": [
        "import nltk\n",
        "nltk.download('punkt')"
      ],
      "execution_count": null,
      "outputs": [
        {
          "output_type": "stream",
          "text": [
            "[nltk_data] Downloading package punkt to /Users/yoo/nltk_data...\n",
            "[nltk_data]   Package punkt is already up-to-date!\n"
          ],
          "name": "stderr"
        },
        {
          "output_type": "execute_result",
          "data": {
            "text/plain": [
              "True"
            ]
          },
          "metadata": {
            "tags": []
          },
          "execution_count": 259
        }
      ]
    },
    {
      "cell_type": "code",
      "metadata": {
        "id": "Eahkz8mt0gy1",
        "colab_type": "code",
        "colab": {},
        "outputId": "8a6f33b7-0141-4a56-e134-130689f5f878"
      },
      "source": [
        "from nltk.tokenize import word_tokenize\n",
        "print(word_tokenize(text))"
      ],
      "execution_count": null,
      "outputs": [
        {
          "output_type": "stream",
          "text": [
            "['Do', \"n't\", 'be', 'fooled', 'by', 'the', 'dark', 'sounding', 'name', ',', 'Mr.', 'Jone', \"'s\", 'Orphanage', 'is', 'as', 'cheery', 'as', 'cheery', 'goes', 'for', 'a', 'pastry', 'shop', '.']\n"
          ],
          "name": "stdout"
        }
      ]
    },
    {
      "cell_type": "code",
      "metadata": {
        "id": "TdHsA0sI0gy3",
        "colab_type": "code",
        "colab": {}
      },
      "source": [
        "texts = ['오늘 동물원에서 원숭이를 봤어',\n",
        "        '오늘 동물원에서 코끼리를 봤어 봤어',\n",
        "        '동물원에서 원숭이에게 바나나를 줬어 바나나를']"
      ],
      "execution_count": null,
      "outputs": []
    },
    {
      "cell_type": "code",
      "metadata": {
        "id": "WFSGU-ku0gy4",
        "colab_type": "code",
        "colab": {},
        "outputId": "e27183ba-c2b4-486c-8d9e-2189569baf8e"
      },
      "source": [
        "open = []\n",
        "for text in texts:\n",
        "    open.extend(text.split())\n",
        "    \n",
        "open"
      ],
      "execution_count": null,
      "outputs": [
        {
          "output_type": "execute_result",
          "data": {
            "text/plain": [
              "['오늘',\n",
              " '동물원에서',\n",
              " '원숭이를',\n",
              " '봤어',\n",
              " '오늘',\n",
              " '동물원에서',\n",
              " '코끼리를',\n",
              " '봤어',\n",
              " '봤어',\n",
              " '동물원에서',\n",
              " '원숭이에게',\n",
              " '바나나를',\n",
              " '줬어',\n",
              " '바나나를']"
            ]
          },
          "metadata": {
            "tags": []
          },
          "execution_count": 262
        }
      ]
    },
    {
      "cell_type": "code",
      "metadata": {
        "id": "5IBrNKVC0gy6",
        "colab_type": "code",
        "colab": {},
        "outputId": "4e41e293-fc98-47f7-888e-dc1fb469a725"
      },
      "source": [
        "open = list(set(open))\n",
        "open"
      ],
      "execution_count": null,
      "outputs": [
        {
          "output_type": "execute_result",
          "data": {
            "text/plain": [
              "['줬어', '봤어', '코끼리를', '원숭이에게', '바나나를', '오늘', '동물원에서', '원숭이를']"
            ]
          },
          "metadata": {
            "tags": []
          },
          "execution_count": 263
        }
      ]
    },
    {
      "cell_type": "code",
      "metadata": {
        "id": "5j7tJHwe0gy8",
        "colab_type": "code",
        "colab": {},
        "outputId": "3c74a6df-d8d0-44d8-d49b-eaf0f0988036"
      },
      "source": [
        "for i in enumerate(open):\n",
        "    print(i)"
      ],
      "execution_count": null,
      "outputs": [
        {
          "output_type": "stream",
          "text": [
            "(0, '줬어')\n",
            "(1, '봤어')\n",
            "(2, '코끼리를')\n",
            "(3, '원숭이에게')\n",
            "(4, '바나나를')\n",
            "(5, '오늘')\n",
            "(6, '동물원에서')\n",
            "(7, '원숭이를')\n"
          ],
          "name": "stdout"
        }
      ]
    },
    {
      "cell_type": "code",
      "metadata": {
        "id": "j2Evz1gN0gy-",
        "colab_type": "code",
        "colab": {},
        "outputId": "0a5f7dc6-558b-4c66-ec1b-f7fc70c3ca95"
      },
      "source": [
        "ls =np.array([i for i in enumerate(open)])\n",
        "ls"
      ],
      "execution_count": null,
      "outputs": [
        {
          "output_type": "execute_result",
          "data": {
            "text/plain": [
              "array([['0', '줬어'],\n",
              "       ['1', '봤어'],\n",
              "       ['2', '코끼리를'],\n",
              "       ['3', '원숭이에게'],\n",
              "       ['4', '바나나를'],\n",
              "       ['5', '오늘'],\n",
              "       ['6', '동물원에서'],\n",
              "       ['7', '원숭이를']], dtype='<U21')"
            ]
          },
          "metadata": {
            "tags": []
          },
          "execution_count": 265
        }
      ]
    },
    {
      "cell_type": "code",
      "metadata": {
        "id": "z4IHFzyS0gy_",
        "colab_type": "code",
        "colab": {},
        "outputId": "44367ec5-6831-43f6-b817-7b9205fee2de"
      },
      "source": [
        "open."
      ],
      "execution_count": null,
      "outputs": [
        {
          "output_type": "error",
          "ename": "SyntaxError",
          "evalue": "invalid syntax (<ipython-input-266-e15e95c957a7>, line 1)",
          "traceback": [
            "\u001b[0;36m  File \u001b[0;32m\"<ipython-input-266-e15e95c957a7>\"\u001b[0;36m, line \u001b[0;32m1\u001b[0m\n\u001b[0;31m    open.\u001b[0m\n\u001b[0m         ^\u001b[0m\n\u001b[0;31mSyntaxError\u001b[0m\u001b[0;31m:\u001b[0m invalid syntax\n"
          ]
        }
      ]
    },
    {
      "cell_type": "code",
      "metadata": {
        "id": "UOjbIrQY0gzB",
        "colab_type": "code",
        "colab": {},
        "outputId": "f0b22638-6f00-4ea3-cacb-5ebc59c57159"
      },
      "source": [
        "# 이 방법도 있다.\n",
        "vector = CountVectorizer()\n",
        "print(vector.fit_transform(open).toarray())\n",
        "print(vector.vocabulary_)"
      ],
      "execution_count": null,
      "outputs": [
        {
          "output_type": "stream",
          "text": [
            "[[0 0 0 0 0 0 1 0]\n",
            " [0 0 1 0 0 0 0 0]\n",
            " [0 0 0 0 0 0 0 1]\n",
            " [0 0 0 0 0 1 0 0]\n",
            " [0 1 0 0 0 0 0 0]\n",
            " [0 0 0 1 0 0 0 0]\n",
            " [1 0 0 0 0 0 0 0]\n",
            " [0 0 0 0 1 0 0 0]]\n",
            "{'줬어': 6, '봤어': 2, '코끼리를': 7, '원숭이에게': 5, '바나나를': 1, '오늘': 3, '동물원에서': 0, '원숭이를': 4}\n"
          ],
          "name": "stdout"
        }
      ]
    },
    {
      "cell_type": "code",
      "metadata": {
        "id": "AqypSQRQ0gzD",
        "colab_type": "code",
        "colab": {},
        "outputId": "f2b353c8-658f-43be-d844-2f530acd3851"
      },
      "source": [
        "lss = vector.fit_transform(open).toarray()\n",
        "print(vector.vocabulary_)\n",
        "print(lss)"
      ],
      "execution_count": null,
      "outputs": [
        {
          "output_type": "stream",
          "text": [
            "{'줬어': 6, '봤어': 2, '코끼리를': 7, '원숭이에게': 5, '바나나를': 1, '오늘': 3, '동물원에서': 0, '원숭이를': 4}\n",
            "[[0 0 0 0 0 0 1 0]\n",
            " [0 0 1 0 0 0 0 0]\n",
            " [0 0 0 0 0 0 0 1]\n",
            " [0 0 0 0 0 1 0 0]\n",
            " [0 1 0 0 0 0 0 0]\n",
            " [0 0 0 1 0 0 0 0]\n",
            " [1 0 0 0 0 0 0 0]\n",
            " [0 0 0 0 1 0 0 0]]\n"
          ],
          "name": "stdout"
        }
      ]
    },
    {
      "cell_type": "code",
      "metadata": {
        "id": "UssnqwwU0gzE",
        "colab_type": "code",
        "colab": {},
        "outputId": "b5025487-0cea-4bc8-8371-f3030afb98ad"
      },
      "source": [
        "for i, v in enumerate(open):\n",
        "    print(\"index : {}, value : {}\".format(i, v))"
      ],
      "execution_count": null,
      "outputs": [
        {
          "output_type": "stream",
          "text": [
            "index : 0, value : 줬어\n",
            "index : 1, value : 봤어\n",
            "index : 2, value : 코끼리를\n",
            "index : 3, value : 원숭이에게\n",
            "index : 4, value : 바나나를\n",
            "index : 5, value : 오늘\n",
            "index : 6, value : 동물원에서\n",
            "index : 7, value : 원숭이를\n"
          ],
          "name": "stdout"
        }
      ]
    },
    {
      "cell_type": "code",
      "metadata": {
        "id": "TNhpqdZY0gzG",
        "colab_type": "code",
        "colab": {},
        "outputId": "f354bbab-a373-4801-a281-bdd61268e5b4"
      },
      "source": [
        "from nltk.tokenize import TreebankWordTokenizer\n",
        "tokenizer = TreebankWordTokenizer()\n",
        "\n",
        "text = \"Starting a home-based restaurant may be an ideal. it doesn't have a food chain or restaurant of their own.\"\n",
        "print(tokenizer.tokenize(text))"
      ],
      "execution_count": null,
      "outputs": [
        {
          "output_type": "stream",
          "text": [
            "['Starting', 'a', 'home-based', 'restaurant', 'may', 'be', 'an', 'ideal.', 'it', 'does', \"n't\", 'have', 'a', 'food', 'chain', 'or', 'restaurant', 'of', 'their', 'own', '.']\n"
          ],
          "name": "stdout"
        }
      ]
    },
    {
      "cell_type": "code",
      "metadata": {
        "id": "X_QiqMyS0gzI",
        "colab_type": "code",
        "colab": {},
        "outputId": "165f6882-c3d6-4cd1-89a6-3e30a1fa19fc"
      },
      "source": [
        "from nltk.tokenize import sent_tokenize\n",
        "print(sent_tokenize(text))"
      ],
      "execution_count": null,
      "outputs": [
        {
          "output_type": "stream",
          "text": [
            "['Starting a home-based restaurant may be an ideal.', \"it doesn't have a food chain or restaurant of their own.\"]\n"
          ],
          "name": "stdout"
        }
      ]
    },
    {
      "cell_type": "code",
      "metadata": {
        "id": "G1VGajgu0gzJ",
        "colab_type": "code",
        "colab": {},
        "outputId": "4d27f855-bef0-4a84-bc20-0b0c9b0c2e57"
      },
      "source": [
        "text2 = \"I am actively looking for Ph.D. students. and you are a Ph.D student.\"\n",
        "print(sent_tokenize(text2)) # 온점으로 구분하지는 않는다."
      ],
      "execution_count": null,
      "outputs": [
        {
          "output_type": "stream",
          "text": [
            "['I am actively looking for Ph.D. students.', 'and you are a Ph.D student.']\n"
          ],
          "name": "stdout"
        }
      ]
    },
    {
      "cell_type": "code",
      "metadata": {
        "id": "TlfJXqrS0gzL",
        "colab_type": "code",
        "colab": {}
      },
      "source": [
        "import kss"
      ],
      "execution_count": null,
      "outputs": []
    },
    {
      "cell_type": "code",
      "metadata": {
        "id": "mBbfJrol0gzM",
        "colab_type": "code",
        "colab": {},
        "outputId": "84b30445-1e9a-439c-f35d-46458597d9f5"
      },
      "source": [
        "text3 = '딥 러닝 자연어 처리가 재미있기는 합니다. 그런데 문제는 영어보다 한국어로 할 때 너무 어려워요. 농담아니에요. 이제 해보면 알걸요?'\n",
        "print(kss.split_sentences(text3)) # 정상적으로 분리된다."
      ],
      "execution_count": null,
      "outputs": [
        {
          "output_type": "stream",
          "text": [
            "['딥 러닝 자연어 처리가 재미있기는 합니다.', '그런데 문제는 영어보다 한국어로 할 때 너무 어려워요.', '농담아니에요.', '이제 해보면 알걸요?']\n"
          ],
          "name": "stdout"
        }
      ]
    },
    {
      "cell_type": "code",
      "metadata": {
        "id": "rJgsOWxV0gzO",
        "colab_type": "code",
        "colab": {},
        "outputId": "1b8d081d-8909-497e-84ef-35bcea488168"
      },
      "source": [
        "from nltk.tokenize import word_tokenize\n",
        "text = \"I am actively looking for Ph.D. students. and you are a Ph.D. student.\"\n",
        "print(word_tokenize(text))"
      ],
      "execution_count": null,
      "outputs": [
        {
          "output_type": "stream",
          "text": [
            "['I', 'am', 'actively', 'looking', 'for', 'Ph.D.', 'students', '.', 'and', 'you', 'are', 'a', 'Ph.D.', 'student', '.']\n"
          ],
          "name": "stdout"
        }
      ]
    },
    {
      "cell_type": "code",
      "metadata": {
        "id": "V89tqD840gzP",
        "colab_type": "code",
        "colab": {},
        "outputId": "1db90986-142b-484e-8352-09aa6c7e69a9"
      },
      "source": [
        "import nltk\n",
        "nltk.download('averaged_perceptron_tagger')"
      ],
      "execution_count": null,
      "outputs": [
        {
          "output_type": "stream",
          "text": [
            "[nltk_data] Downloading package averaged_perceptron_tagger to\n",
            "[nltk_data]     /Users/yoo/nltk_data...\n",
            "[nltk_data] Error downloading 'averaged_perceptron_tagger' from\n",
            "[nltk_data]     <https://raw.githubusercontent.com/nltk/nltk_data/gh-p\n",
            "[nltk_data]     ages/packages/taggers/averaged_perceptron_tagger.zip>:\n",
            "[nltk_data]     HTTP Error 500: Internal Server Error\n"
          ],
          "name": "stderr"
        },
        {
          "output_type": "execute_result",
          "data": {
            "text/plain": [
              "False"
            ]
          },
          "metadata": {
            "tags": []
          },
          "execution_count": 282
        }
      ]
    },
    {
      "cell_type": "code",
      "metadata": {
        "id": "2dtnKTpS0gzT",
        "colab_type": "code",
        "colab": {}
      },
      "source": [
        ""
      ],
      "execution_count": null,
      "outputs": []
    }
  ]
}