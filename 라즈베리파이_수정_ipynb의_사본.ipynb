{
  "nbformat": 4,
  "nbformat_minor": 0,
  "metadata": {
    "colab": {
      "name": "라즈베리파이_수정.ipynb의 사본",
      "provenance": [],
      "collapsed_sections": [],
      "mount_file_id": "1lz4LpzC-omReM8eiWP8IpYW2NSK0GkrX",
      "authorship_tag": "ABX9TyOn11HuAcx5fZA6bIQUyBi4",
      "include_colab_link": true
    },
    "kernelspec": {
      "name": "python3",
      "display_name": "Python 3"
    }
  },
  "cells": [
    {
      "cell_type": "markdown",
      "metadata": {
        "id": "view-in-github",
        "colab_type": "text"
      },
      "source": [
        "<a href=\"https://colab.research.google.com/github/yoo9519-AIdev/Learning/blob/master/%EB%9D%BC%EC%A6%88%EB%B2%A0%EB%A6%AC%ED%8C%8C%EC%9D%B4_%EC%88%98%EC%A0%95_ipynb%EC%9D%98_%EC%82%AC%EB%B3%B8.ipynb\" target=\"_parent\"><img src=\"https://colab.research.google.com/assets/colab-badge.svg\" alt=\"Open In Colab\"/></a>"
      ]
    },
    {
      "cell_type": "markdown",
      "metadata": {
        "id": "bL0SCl0UaV3k"
      },
      "source": [
        "# 라즈베리파이 코드입력방법(램1g / 메모리 60g)\n",
        "1. yolov5로 차량 및 신호등 가중치를 학습시켜준 뒤 cvlib의 object_detection 코드 tuning  \n",
        "(yoo9519_object_detection 리파짓 활용)\n",
        "2. opencv 업데이트 후 라즈베리파이에 직접 코드입력(darknet clone)\n",
        "3. 라즈베리파이 램 확장(최소 4g)\n",
        "  \n",
        "1번이 안되면 yolov3로 다시 학습시켜줘서 가중치를 구해준 뒤 적용해보기"
      ]
    },
    {
      "cell_type": "markdown",
      "metadata": {
        "id": "jVEKPjMma9t5"
      },
      "source": [
        "### 방법 1"
      ]
    },
    {
      "cell_type": "code",
      "metadata": {
        "id": "ghgBu_lW-7zz",
        "outputId": "423551bb-9e50-42c6-a8a9-65f388282e02",
        "colab": {
          "base_uri": "https://localhost:8080/",
          "height": 777
        }
      },
      "source": [
        "!git clone https://github.com/ultralytics/yolov3.git\n",
        "!git clone https://github.com/ultralytics/yolov5.git\n",
        "!git clone https://github.com/arunponnusamy/cvlib.git\n",
        "!pip install cvlib\n",
        "!pip install opencv-python"
      ],
      "execution_count": null,
      "outputs": [
        {
          "output_type": "stream",
          "text": [
            "Cloning into 'yolov3'...\n",
            "remote: Enumerating objects: 3, done.\u001b[K\n",
            "remote: Counting objects: 100% (3/3), done.\u001b[K\n",
            "remote: Compressing objects: 100% (3/3), done.\u001b[K\n",
            "remote: Total 9440 (delta 0), reused 2 (delta 0), pack-reused 9437\u001b[K\n",
            "Receiving objects: 100% (9440/9440), 7.82 MiB | 24.12 MiB/s, done.\n",
            "Resolving deltas: 100% (6466/6466), done.\n",
            "Cloning into 'yolov5'...\n",
            "remote: Enumerating objects: 2578, done.\u001b[K\n",
            "remote: Total 2578 (delta 0), reused 0 (delta 0), pack-reused 2578\u001b[K\n",
            "Receiving objects: 100% (2578/2578), 5.37 MiB | 26.08 MiB/s, done.\n",
            "Resolving deltas: 100% (1699/1699), done.\n",
            "Cloning into 'cvlib'...\n",
            "remote: Enumerating objects: 15, done.\u001b[K\n",
            "remote: Counting objects: 100% (15/15), done.\u001b[K\n",
            "remote: Compressing objects: 100% (14/14), done.\u001b[K\n",
            "remote: Total 372 (delta 6), reused 0 (delta 0), pack-reused 357\u001b[K\n",
            "Receiving objects: 100% (372/372), 12.56 MiB | 31.15 MiB/s, done.\n",
            "Resolving deltas: 100% (197/197), done.\n",
            "Collecting cvlib\n",
            "\u001b[?25l  Downloading https://files.pythonhosted.org/packages/96/56/f57aa012b3fb8b22f46cc9016a7198d7571b82d21c8a257dfca8d387c99b/cvlib-0.2.5.tar.gz (10.0MB)\n",
            "\u001b[K     |████████████████████████████████| 10.1MB 2.6MB/s \n",
            "\u001b[?25hRequirement already satisfied: numpy in /usr/local/lib/python3.6/dist-packages (from cvlib) (1.18.5)\n",
            "Collecting progressbar\n",
            "  Downloading https://files.pythonhosted.org/packages/a3/a6/b8e451f6cff1c99b4747a2f7235aa904d2d49e8e1464e0b798272aa84358/progressbar-2.5.tar.gz\n",
            "Requirement already satisfied: requests in /usr/local/lib/python3.6/dist-packages (from cvlib) (2.23.0)\n",
            "Requirement already satisfied: pillow in /usr/local/lib/python3.6/dist-packages (from cvlib) (7.0.0)\n",
            "Requirement already satisfied: imageio in /usr/local/lib/python3.6/dist-packages (from cvlib) (2.4.1)\n",
            "Requirement already satisfied: imutils in /usr/local/lib/python3.6/dist-packages (from cvlib) (0.5.3)\n",
            "Requirement already satisfied: chardet<4,>=3.0.2 in /usr/local/lib/python3.6/dist-packages (from requests->cvlib) (3.0.4)\n",
            "Requirement already satisfied: idna<3,>=2.5 in /usr/local/lib/python3.6/dist-packages (from requests->cvlib) (2.10)\n",
            "Requirement already satisfied: urllib3!=1.25.0,!=1.25.1,<1.26,>=1.21.1 in /usr/local/lib/python3.6/dist-packages (from requests->cvlib) (1.24.3)\n",
            "Requirement already satisfied: certifi>=2017.4.17 in /usr/local/lib/python3.6/dist-packages (from requests->cvlib) (2020.6.20)\n",
            "Building wheels for collected packages: cvlib, progressbar\n",
            "  Building wheel for cvlib (setup.py) ... \u001b[?25l\u001b[?25hdone\n",
            "  Created wheel for cvlib: filename=cvlib-0.2.5-cp36-none-any.whl size=10044206 sha256=fb32be152489fea922fea563cf777a9d51643f4b447f07fbd0fdb010a440dd77\n",
            "  Stored in directory: /root/.cache/pip/wheels/6a/cb/43/ba188c823836640d8f22ee1f6ff792a0c83a8b66eabf52b219\n",
            "  Building wheel for progressbar (setup.py) ... \u001b[?25l\u001b[?25hdone\n",
            "  Created wheel for progressbar: filename=progressbar-2.5-cp36-none-any.whl size=12076 sha256=cbc6ce25a3fbb33283a1b5be4da652787c647d8686ca1c002e71ee8f2656cda0\n",
            "  Stored in directory: /root/.cache/pip/wheels/c0/e9/6b/ea01090205e285175842339aa3b491adeb4015206cda272ff0\n",
            "Successfully built cvlib progressbar\n",
            "Installing collected packages: progressbar, cvlib\n",
            "Successfully installed cvlib-0.2.5 progressbar-2.5\n",
            "Requirement already satisfied: opencv-python in /usr/local/lib/python3.6/dist-packages (4.1.2.30)\n",
            "Requirement already satisfied: numpy>=1.11.3 in /usr/local/lib/python3.6/dist-packages (from opencv-python) (1.18.5)\n"
          ],
          "name": "stdout"
        }
      ]
    },
    {
      "cell_type": "markdown",
      "metadata": {
        "id": "i5nNJGGjjE9M"
      },
      "source": [
        "필요모듈호출"
      ]
    },
    {
      "cell_type": "code",
      "metadata": {
        "id": "hMWkwyxqipNG"
      },
      "source": [
        "import cv2\n",
        "import cvlib as cv\n",
        "from cvlib.object_detection import draw_bbox"
      ],
      "execution_count": null,
      "outputs": []
    },
    {
      "cell_type": "markdown",
      "metadata": {
        "id": "rWb1mZnLjGq2"
      },
      "source": [
        "랴즈베리파이에 웹캠연결 기본세팅 후  \n",
        "cvlib의 detect_common_objects 함수 tuning\n",
        "- model / weights / path / git  \n",
        "  \n",
        "동작 전 detect_common_object의 object_detection.py 함수 적용해서 돌릴 것(구글드라이브 공유폴더에 있음)"
      ]
    },
    {
      "cell_type": "code",
      "metadata": {
        "id": "WtANOdyL_MIh",
        "outputId": "98d46164-752d-4fd9-cdd6-6132f9e6f7c8",
        "colab": {
          "base_uri": "https://localhost:8080/",
          "height": 32
        }
      },
      "source": [
        "webcam = cv2.VideoCapture(0) # 라즈베리파이에 설치되어있는 웹캠 인식 = (0)\n",
        "\n",
        "if not webcam.isOpened():\n",
        "    print(\"could not open webcam\")\n",
        "    # exit()\n",
        "\n",
        "while webcam.isOpened():\n",
        "    status, frame = webcam.read()\n",
        "\n",
        "    if not status:\n",
        "        break\n",
        "\n",
        "    bbox, label, conf = cv.detect_common_objects(frame) # Tuning\n",
        "    print(bbox, label, conf)\n",
        "\n",
        "    out = draw_bbox(frame, bbox, label, conf, write_conf=True)\n",
        "\n",
        "    cv2.imshow(\"Real-time object detection\", out)\n",
        "\n",
        "    if cv2.waitKey(1) & OxFF == ord('q'):\n",
        "        break\n",
        "\n",
        "webcam.release()\n",
        "cv2.destroyAllWindows()"
      ],
      "execution_count": null,
      "outputs": [
        {
          "output_type": "stream",
          "text": [
            "could not open webcam\n"
          ],
          "name": "stdout"
        }
      ]
    }
  ]
}