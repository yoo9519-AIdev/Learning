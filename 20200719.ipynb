{
  "nbformat": 4,
  "nbformat_minor": 0,
  "metadata": {
    "kernelspec": {
      "display_name": "Python 3.6.10 64-bit ('nlp': conda)",
      "language": "python",
      "name": "python361064bitnlpconda9bdf83a4355d4b1c9baaaeafb84ea1b2"
    },
    "language_info": {
      "codemirror_mode": {
        "name": "ipython",
        "version": 3
      },
      "file_extension": ".py",
      "mimetype": "text/x-python",
      "name": "python",
      "nbconvert_exporter": "python",
      "pygments_lexer": "ipython3",
      "version": "3.6.10"
    },
    "colab": {
      "name": "20200719.ipynb",
      "provenance": []
    }
  },
  "cells": [
    {
      "cell_type": "markdown",
      "metadata": {
        "id": "EoBfbJtBngXX",
        "colab_type": "text"
      },
      "source": [
        "### bow 토큰화"
      ]
    },
    {
      "cell_type": "code",
      "metadata": {
        "id": "RFqipiidngXZ",
        "colab_type": "code",
        "colab": {}
      },
      "source": [
        "from konlpy.tag import Mecab"
      ],
      "execution_count": null,
      "outputs": []
    },
    {
      "cell_type": "code",
      "metadata": {
        "id": "GLHOv_gdngXg",
        "colab_type": "code",
        "colab": {}
      },
      "source": [
        "mecab = Mecab()"
      ],
      "execution_count": null,
      "outputs": []
    },
    {
      "cell_type": "code",
      "metadata": {
        "id": "zxNZJ0dTngXn",
        "colab_type": "code",
        "colab": {}
      },
      "source": [
        "docs = ['오늘 동물원에서 원숭이를 봤어',\n",
        "       '오늘 동물원에서 코끼리를 봤어',\n",
        "       '동물원에서 원숭이에게 바나나를 줬어']"
      ],
      "execution_count": null,
      "outputs": []
    },
    {
      "cell_type": "markdown",
      "metadata": {
        "id": "E7J9JuwRngXr",
        "colab_type": "text"
      },
      "source": [
        "1. 띄어쓰기 단위로 토큰화(split 이용)"
      ]
    },
    {
      "cell_type": "code",
      "metadata": {
        "id": "Ky8ZapWDngXs",
        "colab_type": "code",
        "colab": {},
        "outputId": "ea66265a-35f2-4a5b-cb19-e0cf39180ce0"
      },
      "source": [
        "doc_ls = [doc.split() for doc in docs]\n",
        "doc_ls"
      ],
      "execution_count": null,
      "outputs": [
        {
          "output_type": "execute_result",
          "data": {
            "text/plain": [
              "[['오늘', '동물원에서', '원숭이를', '봤어'],\n",
              " ['오늘', '동물원에서', '코끼리를', '봤어'],\n",
              " ['동물원에서', '원숭이에게', '바나나를', '줬어']]"
            ]
          },
          "metadata": {
            "tags": []
          },
          "execution_count": 30
        }
      ]
    },
    {
      "cell_type": "markdown",
      "metadata": {
        "id": "uf_tlbLingXz",
        "colab_type": "text"
      },
      "source": [
        "2. 각 고유 토큰에 index를 지정"
      ]
    },
    {
      "cell_type": "code",
      "metadata": {
        "id": "VcAyOFNmngXz",
        "colab_type": "code",
        "colab": {}
      },
      "source": [
        "from collections import defaultdict"
      ],
      "execution_count": null,
      "outputs": []
    },
    {
      "cell_type": "code",
      "metadata": {
        "id": "AJ3kaG9gngX2",
        "colab_type": "code",
        "colab": {}
      },
      "source": [
        "word2id = defaultdict(lambda: len(word2id))"
      ],
      "execution_count": null,
      "outputs": []
    },
    {
      "cell_type": "code",
      "metadata": {
        "id": "rQAbk4O8ngX3",
        "colab_type": "code",
        "colab": {},
        "outputId": "f0c00745-7732-42ec-de85-f5c353a3beeb"
      },
      "source": [
        "[word2id[token] for doc in doc_ls for token in doc]\n",
        "word2id"
      ],
      "execution_count": null,
      "outputs": [
        {
          "output_type": "execute_result",
          "data": {
            "text/plain": [
              "defaultdict(<function __main__.<lambda>()>,\n",
              "            {'오늘': 0,\n",
              "             '동물원에서': 1,\n",
              "             '원숭이를': 2,\n",
              "             '봤어': 3,\n",
              "             '코끼리를': 4,\n",
              "             '원숭이에게': 5,\n",
              "             '바나나를': 6,\n",
              "             '줬어': 7})"
            ]
          },
          "metadata": {
            "tags": []
          },
          "execution_count": 33
        }
      ]
    },
    {
      "cell_type": "markdown",
      "metadata": {
        "id": "W6PKqPT9ngX5",
        "colab_type": "text"
      },
      "source": [
        "3. BoW 생성"
      ]
    },
    {
      "cell_type": "code",
      "metadata": {
        "id": "kIV4htvlngX6",
        "colab_type": "code",
        "colab": {}
      },
      "source": [
        "import numpy as np"
      ],
      "execution_count": null,
      "outputs": []
    },
    {
      "cell_type": "code",
      "metadata": {
        "id": "1d3LAPp-ngX7",
        "colab_type": "code",
        "colab": {},
        "outputId": "ee34ed3f-d111-4ef0-87cb-6c5e39fd56f5"
      },
      "source": [
        "doc_ls"
      ],
      "execution_count": null,
      "outputs": [
        {
          "output_type": "execute_result",
          "data": {
            "text/plain": [
              "[['오늘', '동물원에서', '원숭이를', '봤어'],\n",
              " ['오늘', '동물원에서', '코끼리를', '봤어'],\n",
              " ['동물원에서', '원숭이에게', '바나나를', '줬어']]"
            ]
          },
          "metadata": {
            "tags": []
          },
          "execution_count": 45
        }
      ]
    },
    {
      "cell_type": "code",
      "metadata": {
        "id": "tJOYbafpngX9",
        "colab_type": "code",
        "colab": {},
        "outputId": "c820997d-bba7-46a4-d920-88dd09c1a90f"
      },
      "source": [
        "word2id"
      ],
      "execution_count": null,
      "outputs": [
        {
          "output_type": "execute_result",
          "data": {
            "text/plain": [
              "defaultdict(<function __main__.<lambda>()>,\n",
              "            {'오늘': 0,\n",
              "             '동물원에서': 1,\n",
              "             '원숭이를': 2,\n",
              "             '봤어': 3,\n",
              "             '코끼리를': 4,\n",
              "             '원숭이에게': 5,\n",
              "             '바나나를': 6,\n",
              "             '줬어': 7})"
            ]
          },
          "metadata": {
            "tags": []
          },
          "execution_count": 46
        }
      ]
    },
    {
      "cell_type": "code",
      "metadata": {
        "id": "sfTP8DJCngX_",
        "colab_type": "code",
        "colab": {},
        "outputId": "b9dd9b28-8216-4ffc-dbec-2018278ebda1"
      },
      "source": [
        "bow_ls = []\n",
        "\n",
        "for i, doc in enumerate(doc_ls):\n",
        "    bow = np.zeros(len(word2id), dtype=int)\n",
        "    for token in doc:\n",
        "        bow[word2id[token]] += 1\n",
        "    bow_ls.append(bow.tolist())\n",
        "bow_ls"
      ],
      "execution_count": null,
      "outputs": [
        {
          "output_type": "execute_result",
          "data": {
            "text/plain": [
              "[[1, 1, 1, 1, 0, 0, 0, 0], [1, 1, 0, 1, 1, 0, 0, 0], [0, 1, 0, 0, 0, 1, 1, 1]]"
            ]
          },
          "metadata": {
            "tags": []
          },
          "execution_count": 44
        }
      ]
    },
    {
      "cell_type": "code",
      "metadata": {
        "id": "6WhCTcFHngYB",
        "colab_type": "code",
        "colab": {}
      },
      "source": [
        "from IPython.core import display as ICD\n",
        "import pandas as pd"
      ],
      "execution_count": null,
      "outputs": []
    },
    {
      "cell_type": "code",
      "metadata": {
        "id": "Gs4A_Ho1ngYD",
        "colab_type": "code",
        "colab": {},
        "outputId": "780f63d9-7c62-46f7-957e-eb123594eb8e"
      },
      "source": [
        "sorted_vocab = sorted((value, key) for key, value in word2id.items())\n",
        "vocab = [v[1] for v in sorted_vocab]\n",
        "\n",
        "for i in range(len(docs)):\n",
        "    print(\"문서{} : {}\".format(i, docs[i]))\n",
        "    ICD.display(pd.DataFrame([bow_ls[i]], columns=vocab))\n",
        "    print() # \\n\\n 안넣고 그냥 print로 뽑아도 되네?"
      ],
      "execution_count": null,
      "outputs": [
        {
          "output_type": "stream",
          "text": [
            "문서0 : 오늘 동물원에서 원숭이를 봤어\n"
          ],
          "name": "stdout"
        },
        {
          "output_type": "display_data",
          "data": {
            "text/html": [
              "<div>\n",
              "<style scoped>\n",
              "    .dataframe tbody tr th:only-of-type {\n",
              "        vertical-align: middle;\n",
              "    }\n",
              "\n",
              "    .dataframe tbody tr th {\n",
              "        vertical-align: top;\n",
              "    }\n",
              "\n",
              "    .dataframe thead th {\n",
              "        text-align: right;\n",
              "    }\n",
              "</style>\n",
              "<table border=\"1\" class=\"dataframe\">\n",
              "  <thead>\n",
              "    <tr style=\"text-align: right;\">\n",
              "      <th></th>\n",
              "      <th>오늘</th>\n",
              "      <th>동물원에서</th>\n",
              "      <th>원숭이를</th>\n",
              "      <th>봤어</th>\n",
              "      <th>코끼리를</th>\n",
              "      <th>원숭이에게</th>\n",
              "      <th>바나나를</th>\n",
              "      <th>줬어</th>\n",
              "    </tr>\n",
              "  </thead>\n",
              "  <tbody>\n",
              "    <tr>\n",
              "      <th>0</th>\n",
              "      <td>1</td>\n",
              "      <td>1</td>\n",
              "      <td>1</td>\n",
              "      <td>1</td>\n",
              "      <td>0</td>\n",
              "      <td>0</td>\n",
              "      <td>0</td>\n",
              "      <td>0</td>\n",
              "    </tr>\n",
              "  </tbody>\n",
              "</table>\n",
              "</div>"
            ],
            "text/plain": [
              "   오늘  동물원에서  원숭이를  봤어  코끼리를  원숭이에게  바나나를  줬어\n",
              "0   1      1     1   1     0      0     0   0"
            ]
          },
          "metadata": {
            "tags": []
          }
        },
        {
          "output_type": "stream",
          "text": [
            "\n",
            "문서1 : 오늘 동물원에서 코끼리를 봤어\n"
          ],
          "name": "stdout"
        },
        {
          "output_type": "display_data",
          "data": {
            "text/html": [
              "<div>\n",
              "<style scoped>\n",
              "    .dataframe tbody tr th:only-of-type {\n",
              "        vertical-align: middle;\n",
              "    }\n",
              "\n",
              "    .dataframe tbody tr th {\n",
              "        vertical-align: top;\n",
              "    }\n",
              "\n",
              "    .dataframe thead th {\n",
              "        text-align: right;\n",
              "    }\n",
              "</style>\n",
              "<table border=\"1\" class=\"dataframe\">\n",
              "  <thead>\n",
              "    <tr style=\"text-align: right;\">\n",
              "      <th></th>\n",
              "      <th>오늘</th>\n",
              "      <th>동물원에서</th>\n",
              "      <th>원숭이를</th>\n",
              "      <th>봤어</th>\n",
              "      <th>코끼리를</th>\n",
              "      <th>원숭이에게</th>\n",
              "      <th>바나나를</th>\n",
              "      <th>줬어</th>\n",
              "    </tr>\n",
              "  </thead>\n",
              "  <tbody>\n",
              "    <tr>\n",
              "      <th>0</th>\n",
              "      <td>1</td>\n",
              "      <td>1</td>\n",
              "      <td>0</td>\n",
              "      <td>1</td>\n",
              "      <td>1</td>\n",
              "      <td>0</td>\n",
              "      <td>0</td>\n",
              "      <td>0</td>\n",
              "    </tr>\n",
              "  </tbody>\n",
              "</table>\n",
              "</div>"
            ],
            "text/plain": [
              "   오늘  동물원에서  원숭이를  봤어  코끼리를  원숭이에게  바나나를  줬어\n",
              "0   1      1     0   1     1      0     0   0"
            ]
          },
          "metadata": {
            "tags": []
          }
        },
        {
          "output_type": "stream",
          "text": [
            "\n",
            "문서2 : 동물원에서 원숭이에게 바나나를 줬어\n"
          ],
          "name": "stdout"
        },
        {
          "output_type": "display_data",
          "data": {
            "text/html": [
              "<div>\n",
              "<style scoped>\n",
              "    .dataframe tbody tr th:only-of-type {\n",
              "        vertical-align: middle;\n",
              "    }\n",
              "\n",
              "    .dataframe tbody tr th {\n",
              "        vertical-align: top;\n",
              "    }\n",
              "\n",
              "    .dataframe thead th {\n",
              "        text-align: right;\n",
              "    }\n",
              "</style>\n",
              "<table border=\"1\" class=\"dataframe\">\n",
              "  <thead>\n",
              "    <tr style=\"text-align: right;\">\n",
              "      <th></th>\n",
              "      <th>오늘</th>\n",
              "      <th>동물원에서</th>\n",
              "      <th>원숭이를</th>\n",
              "      <th>봤어</th>\n",
              "      <th>코끼리를</th>\n",
              "      <th>원숭이에게</th>\n",
              "      <th>바나나를</th>\n",
              "      <th>줬어</th>\n",
              "    </tr>\n",
              "  </thead>\n",
              "  <tbody>\n",
              "    <tr>\n",
              "      <th>0</th>\n",
              "      <td>0</td>\n",
              "      <td>1</td>\n",
              "      <td>0</td>\n",
              "      <td>0</td>\n",
              "      <td>0</td>\n",
              "      <td>1</td>\n",
              "      <td>1</td>\n",
              "      <td>1</td>\n",
              "    </tr>\n",
              "  </tbody>\n",
              "</table>\n",
              "</div>"
            ],
            "text/plain": [
              "   오늘  동물원에서  원숭이를  봤어  코끼리를  원숭이에게  바나나를  줬어\n",
              "0   0      1     0   0     0      1     1   1"
            ]
          },
          "metadata": {
            "tags": []
          }
        },
        {
          "output_type": "stream",
          "text": [
            "\n"
          ],
          "name": "stdout"
        }
      ]
    },
    {
      "cell_type": "markdown",
      "metadata": {
        "id": "qFJ6UqvAngYE",
        "colab_type": "text"
      },
      "source": [
        "### sklearn 활용 --> sklearn을 주로 사용하자"
      ]
    },
    {
      "cell_type": "code",
      "metadata": {
        "id": "iYgkJznungYF",
        "colab_type": "code",
        "colab": {},
        "outputId": "e78afa74-1c7b-4179-9cdf-a433fa709ce4"
      },
      "source": [
        "docs = ['오늘 동물원에서 원숭이를 봤어',\n",
        "       '오늘 동물원에서 코끼리를 봤어',\n",
        "       '동물원에서 원숭이에게 바나나를 줬어']\n",
        "docs"
      ],
      "execution_count": null,
      "outputs": [
        {
          "output_type": "execute_result",
          "data": {
            "text/plain": [
              "['오늘 동물원에서 원숭이를 봤어', '오늘 동물원에서 코끼리를 봤어', '동물원에서 원숭이에게 바나나를 줬어']"
            ]
          },
          "metadata": {
            "tags": []
          },
          "execution_count": 68
        }
      ]
    },
    {
      "cell_type": "code",
      "metadata": {
        "id": "Cvcun3zCngYG",
        "colab_type": "code",
        "colab": {}
      },
      "source": [
        "from sklearn.feature_extraction.text import CountVectorizer"
      ],
      "execution_count": null,
      "outputs": []
    },
    {
      "cell_type": "code",
      "metadata": {
        "id": "vpY45glBngYI",
        "colab_type": "code",
        "colab": {}
      },
      "source": [
        "count_vect = CountVectorizer()"
      ],
      "execution_count": null,
      "outputs": []
    },
    {
      "cell_type": "code",
      "metadata": {
        "id": "D21Twe8AngYJ",
        "colab_type": "code",
        "colab": {}
      },
      "source": [
        "BoW = count_vect.fit_transform(docs)"
      ],
      "execution_count": null,
      "outputs": []
    },
    {
      "cell_type": "code",
      "metadata": {
        "id": "7vc440uyngYL",
        "colab_type": "code",
        "colab": {},
        "outputId": "075392ae-6764-4d72-cbf7-45b9b9e07f78"
      },
      "source": [
        "BoW.toarray()[0] # toarray함수 알아보기"
      ],
      "execution_count": null,
      "outputs": [
        {
          "output_type": "execute_result",
          "data": {
            "text/plain": [
              "array([1, 0, 1, 1, 1, 0, 0, 0])"
            ]
          },
          "metadata": {
            "tags": []
          },
          "execution_count": 72
        }
      ]
    },
    {
      "cell_type": "code",
      "metadata": {
        "id": "tgTH47V9ngYM",
        "colab_type": "code",
        "colab": {}
      },
      "source": [
        "from IPython.core import display as ICD"
      ],
      "execution_count": null,
      "outputs": []
    },
    {
      "cell_type": "code",
      "metadata": {
        "id": "H5yqHCv-ngYO",
        "colab_type": "code",
        "colab": {},
        "outputId": "d93cd8f7-8b06-4442-e3fa-d6d590494368"
      },
      "source": [
        "vocab = count_vect.get_feature_names()\n",
        "for i in range(len(docs)):\n",
        "    print(\"문서{} : {}\".format(i, docs[i]))\n",
        "    ICD.display(pd.DataFrame([BoW.toarray()[i]], columns=vocab))\n",
        "    print()"
      ],
      "execution_count": null,
      "outputs": [
        {
          "output_type": "stream",
          "text": [
            "문서0 : 오늘 동물원에서 원숭이를 봤어\n"
          ],
          "name": "stdout"
        },
        {
          "output_type": "display_data",
          "data": {
            "text/html": [
              "<div>\n",
              "<style scoped>\n",
              "    .dataframe tbody tr th:only-of-type {\n",
              "        vertical-align: middle;\n",
              "    }\n",
              "\n",
              "    .dataframe tbody tr th {\n",
              "        vertical-align: top;\n",
              "    }\n",
              "\n",
              "    .dataframe thead th {\n",
              "        text-align: right;\n",
              "    }\n",
              "</style>\n",
              "<table border=\"1\" class=\"dataframe\">\n",
              "  <thead>\n",
              "    <tr style=\"text-align: right;\">\n",
              "      <th></th>\n",
              "      <th>동물원에서</th>\n",
              "      <th>바나나를</th>\n",
              "      <th>봤어</th>\n",
              "      <th>오늘</th>\n",
              "      <th>원숭이를</th>\n",
              "      <th>원숭이에게</th>\n",
              "      <th>줬어</th>\n",
              "      <th>코끼리를</th>\n",
              "    </tr>\n",
              "  </thead>\n",
              "  <tbody>\n",
              "    <tr>\n",
              "      <th>0</th>\n",
              "      <td>1</td>\n",
              "      <td>0</td>\n",
              "      <td>1</td>\n",
              "      <td>1</td>\n",
              "      <td>1</td>\n",
              "      <td>0</td>\n",
              "      <td>0</td>\n",
              "      <td>0</td>\n",
              "    </tr>\n",
              "  </tbody>\n",
              "</table>\n",
              "</div>"
            ],
            "text/plain": [
              "   동물원에서  바나나를  봤어  오늘  원숭이를  원숭이에게  줬어  코끼리를\n",
              "0      1     0   1   1     1      0   0     0"
            ]
          },
          "metadata": {
            "tags": []
          }
        },
        {
          "output_type": "stream",
          "text": [
            "\n",
            "문서1 : 오늘 동물원에서 코끼리를 봤어\n"
          ],
          "name": "stdout"
        },
        {
          "output_type": "display_data",
          "data": {
            "text/html": [
              "<div>\n",
              "<style scoped>\n",
              "    .dataframe tbody tr th:only-of-type {\n",
              "        vertical-align: middle;\n",
              "    }\n",
              "\n",
              "    .dataframe tbody tr th {\n",
              "        vertical-align: top;\n",
              "    }\n",
              "\n",
              "    .dataframe thead th {\n",
              "        text-align: right;\n",
              "    }\n",
              "</style>\n",
              "<table border=\"1\" class=\"dataframe\">\n",
              "  <thead>\n",
              "    <tr style=\"text-align: right;\">\n",
              "      <th></th>\n",
              "      <th>동물원에서</th>\n",
              "      <th>바나나를</th>\n",
              "      <th>봤어</th>\n",
              "      <th>오늘</th>\n",
              "      <th>원숭이를</th>\n",
              "      <th>원숭이에게</th>\n",
              "      <th>줬어</th>\n",
              "      <th>코끼리를</th>\n",
              "    </tr>\n",
              "  </thead>\n",
              "  <tbody>\n",
              "    <tr>\n",
              "      <th>0</th>\n",
              "      <td>1</td>\n",
              "      <td>0</td>\n",
              "      <td>1</td>\n",
              "      <td>1</td>\n",
              "      <td>0</td>\n",
              "      <td>0</td>\n",
              "      <td>0</td>\n",
              "      <td>1</td>\n",
              "    </tr>\n",
              "  </tbody>\n",
              "</table>\n",
              "</div>"
            ],
            "text/plain": [
              "   동물원에서  바나나를  봤어  오늘  원숭이를  원숭이에게  줬어  코끼리를\n",
              "0      1     0   1   1     0      0   0     1"
            ]
          },
          "metadata": {
            "tags": []
          }
        },
        {
          "output_type": "stream",
          "text": [
            "\n",
            "문서2 : 동물원에서 원숭이에게 바나나를 줬어\n"
          ],
          "name": "stdout"
        },
        {
          "output_type": "display_data",
          "data": {
            "text/html": [
              "<div>\n",
              "<style scoped>\n",
              "    .dataframe tbody tr th:only-of-type {\n",
              "        vertical-align: middle;\n",
              "    }\n",
              "\n",
              "    .dataframe tbody tr th {\n",
              "        vertical-align: top;\n",
              "    }\n",
              "\n",
              "    .dataframe thead th {\n",
              "        text-align: right;\n",
              "    }\n",
              "</style>\n",
              "<table border=\"1\" class=\"dataframe\">\n",
              "  <thead>\n",
              "    <tr style=\"text-align: right;\">\n",
              "      <th></th>\n",
              "      <th>동물원에서</th>\n",
              "      <th>바나나를</th>\n",
              "      <th>봤어</th>\n",
              "      <th>오늘</th>\n",
              "      <th>원숭이를</th>\n",
              "      <th>원숭이에게</th>\n",
              "      <th>줬어</th>\n",
              "      <th>코끼리를</th>\n",
              "    </tr>\n",
              "  </thead>\n",
              "  <tbody>\n",
              "    <tr>\n",
              "      <th>0</th>\n",
              "      <td>1</td>\n",
              "      <td>1</td>\n",
              "      <td>0</td>\n",
              "      <td>0</td>\n",
              "      <td>0</td>\n",
              "      <td>1</td>\n",
              "      <td>1</td>\n",
              "      <td>0</td>\n",
              "    </tr>\n",
              "  </tbody>\n",
              "</table>\n",
              "</div>"
            ],
            "text/plain": [
              "   동물원에서  바나나를  봤어  오늘  원숭이를  원숭이에게  줬어  코끼리를\n",
              "0      1     1   0   0     0      1   1     0"
            ]
          },
          "metadata": {
            "tags": []
          }
        },
        {
          "output_type": "stream",
          "text": [
            "\n"
          ],
          "name": "stdout"
        }
      ]
    },
    {
      "cell_type": "markdown",
      "metadata": {
        "id": "Lf96jtXongYP",
        "colab_type": "text"
      },
      "source": [
        "### gensim 활용"
      ]
    },
    {
      "cell_type": "code",
      "metadata": {
        "id": "GiTzUEWZngYP",
        "colab_type": "code",
        "colab": {},
        "outputId": "1d293480-e468-426d-8a04-3bf2bc28f194"
      },
      "source": [
        "docs = ['오늘 동물원에서 원숭이를 봤어',\n",
        "       '오늘 동물원에서 코끼리를 봤어',\n",
        "       '동물원에서 원숭이에게 바나나를 줬어']\n",
        "docs"
      ],
      "execution_count": null,
      "outputs": [
        {
          "output_type": "execute_result",
          "data": {
            "text/plain": [
              "['오늘 동물원에서 원숭이를 봤어', '오늘 동물원에서 코끼리를 봤어', '동물원에서 원숭이에게 바나나를 줬어']"
            ]
          },
          "metadata": {
            "tags": []
          },
          "execution_count": 78
        }
      ]
    },
    {
      "cell_type": "code",
      "metadata": {
        "id": "Iz4WI-ESngYR",
        "colab_type": "code",
        "colab": {}
      },
      "source": [
        "import gensim\n",
        "import numpy as np\n",
        "from gensim import corpora"
      ],
      "execution_count": null,
      "outputs": []
    },
    {
      "cell_type": "code",
      "metadata": {
        "id": "7z26M_o-ngYS",
        "colab_type": "code",
        "colab": {},
        "outputId": "86aa3109-5a0f-45e6-ff45-f791a81fdfe2"
      },
      "source": [
        "doc_ls = [doc.split() for doc in docs]\n",
        "doc_ls"
      ],
      "execution_count": null,
      "outputs": [
        {
          "output_type": "execute_result",
          "data": {
            "text/plain": [
              "[['오늘', '동물원에서', '원숭이를', '봤어'],\n",
              " ['오늘', '동물원에서', '코끼리를', '봤어'],\n",
              " ['동물원에서', '원숭이에게', '바나나를', '줬어']]"
            ]
          },
          "metadata": {
            "tags": []
          },
          "execution_count": 82
        }
      ]
    },
    {
      "cell_type": "code",
      "metadata": {
        "id": "gRYeVtaJngYT",
        "colab_type": "code",
        "colab": {},
        "outputId": "26b9c92f-8159-42f7-fb96-3805b339188d"
      },
      "source": [
        "id2word = corpora.Dictionary(doc_ls)\n",
        "id2word"
      ],
      "execution_count": null,
      "outputs": [
        {
          "output_type": "execute_result",
          "data": {
            "text/plain": [
              "<gensim.corpora.dictionary.Dictionary at 0x7ff7f8ffbe48>"
            ]
          },
          "metadata": {
            "tags": []
          },
          "execution_count": 83
        }
      ]
    },
    {
      "cell_type": "code",
      "metadata": {
        "id": "-xRTL_DsngYU",
        "colab_type": "code",
        "colab": {},
        "outputId": "2d17f616-113f-4ce4-8e74-5df6a8bf29c0"
      },
      "source": [
        "BoW = [id2word.doc2bow(doc) for doc in doc_ls]\n",
        "BoW"
      ],
      "execution_count": null,
      "outputs": [
        {
          "output_type": "execute_result",
          "data": {
            "text/plain": [
              "[[(0, 1), (1, 1), (2, 1), (3, 1)],\n",
              " [(0, 1), (1, 1), (2, 1), (4, 1)],\n",
              " [(0, 1), (5, 1), (6, 1), (7, 1)]]"
            ]
          },
          "metadata": {
            "tags": []
          },
          "execution_count": 86
        }
      ]
    },
    {
      "cell_type": "code",
      "metadata": {
        "id": "Zmo6frbvngYW",
        "colab_type": "code",
        "colab": {}
      },
      "source": [
        "from gensim.matutils import sparse2full\n",
        "from IPython.core import display as ICD"
      ],
      "execution_count": null,
      "outputs": []
    },
    {
      "cell_type": "code",
      "metadata": {
        "id": "CTg5Z-ABngYX",
        "colab_type": "code",
        "colab": {},
        "outputId": "19e82dd0-bf1f-4798-dd34-9598e0a36c2a"
      },
      "source": [
        "vocab = [id2word[i] for i in id2word.keys()]\n",
        "for i in range(len(docs)):\n",
        "    print(\"문서{} : {}\".format(i, docs[i]))\n",
        "    ICD.display(pd.DataFrame([sparse2full(BoW[i], len(vocab))], columns=vocab))\n",
        "    print()"
      ],
      "execution_count": null,
      "outputs": [
        {
          "output_type": "stream",
          "text": [
            "문서0 : 오늘 동물원에서 원숭이를 봤어\n"
          ],
          "name": "stdout"
        },
        {
          "output_type": "display_data",
          "data": {
            "text/html": [
              "<div>\n",
              "<style scoped>\n",
              "    .dataframe tbody tr th:only-of-type {\n",
              "        vertical-align: middle;\n",
              "    }\n",
              "\n",
              "    .dataframe tbody tr th {\n",
              "        vertical-align: top;\n",
              "    }\n",
              "\n",
              "    .dataframe thead th {\n",
              "        text-align: right;\n",
              "    }\n",
              "</style>\n",
              "<table border=\"1\" class=\"dataframe\">\n",
              "  <thead>\n",
              "    <tr style=\"text-align: right;\">\n",
              "      <th></th>\n",
              "      <th>동물원에서</th>\n",
              "      <th>봤어</th>\n",
              "      <th>오늘</th>\n",
              "      <th>원숭이를</th>\n",
              "      <th>코끼리를</th>\n",
              "      <th>바나나를</th>\n",
              "      <th>원숭이에게</th>\n",
              "      <th>줬어</th>\n",
              "    </tr>\n",
              "  </thead>\n",
              "  <tbody>\n",
              "    <tr>\n",
              "      <th>0</th>\n",
              "      <td>1.0</td>\n",
              "      <td>1.0</td>\n",
              "      <td>1.0</td>\n",
              "      <td>1.0</td>\n",
              "      <td>0.0</td>\n",
              "      <td>0.0</td>\n",
              "      <td>0.0</td>\n",
              "      <td>0.0</td>\n",
              "    </tr>\n",
              "  </tbody>\n",
              "</table>\n",
              "</div>"
            ],
            "text/plain": [
              "   동물원에서   봤어   오늘  원숭이를  코끼리를  바나나를  원숭이에게   줬어\n",
              "0    1.0  1.0  1.0   1.0   0.0   0.0    0.0  0.0"
            ]
          },
          "metadata": {
            "tags": []
          }
        },
        {
          "output_type": "stream",
          "text": [
            "\n",
            "문서1 : 오늘 동물원에서 코끼리를 봤어\n"
          ],
          "name": "stdout"
        },
        {
          "output_type": "display_data",
          "data": {
            "text/html": [
              "<div>\n",
              "<style scoped>\n",
              "    .dataframe tbody tr th:only-of-type {\n",
              "        vertical-align: middle;\n",
              "    }\n",
              "\n",
              "    .dataframe tbody tr th {\n",
              "        vertical-align: top;\n",
              "    }\n",
              "\n",
              "    .dataframe thead th {\n",
              "        text-align: right;\n",
              "    }\n",
              "</style>\n",
              "<table border=\"1\" class=\"dataframe\">\n",
              "  <thead>\n",
              "    <tr style=\"text-align: right;\">\n",
              "      <th></th>\n",
              "      <th>동물원에서</th>\n",
              "      <th>봤어</th>\n",
              "      <th>오늘</th>\n",
              "      <th>원숭이를</th>\n",
              "      <th>코끼리를</th>\n",
              "      <th>바나나를</th>\n",
              "      <th>원숭이에게</th>\n",
              "      <th>줬어</th>\n",
              "    </tr>\n",
              "  </thead>\n",
              "  <tbody>\n",
              "    <tr>\n",
              "      <th>0</th>\n",
              "      <td>1.0</td>\n",
              "      <td>1.0</td>\n",
              "      <td>1.0</td>\n",
              "      <td>0.0</td>\n",
              "      <td>1.0</td>\n",
              "      <td>0.0</td>\n",
              "      <td>0.0</td>\n",
              "      <td>0.0</td>\n",
              "    </tr>\n",
              "  </tbody>\n",
              "</table>\n",
              "</div>"
            ],
            "text/plain": [
              "   동물원에서   봤어   오늘  원숭이를  코끼리를  바나나를  원숭이에게   줬어\n",
              "0    1.0  1.0  1.0   0.0   1.0   0.0    0.0  0.0"
            ]
          },
          "metadata": {
            "tags": []
          }
        },
        {
          "output_type": "stream",
          "text": [
            "\n",
            "문서2 : 동물원에서 원숭이에게 바나나를 줬어\n"
          ],
          "name": "stdout"
        },
        {
          "output_type": "display_data",
          "data": {
            "text/html": [
              "<div>\n",
              "<style scoped>\n",
              "    .dataframe tbody tr th:only-of-type {\n",
              "        vertical-align: middle;\n",
              "    }\n",
              "\n",
              "    .dataframe tbody tr th {\n",
              "        vertical-align: top;\n",
              "    }\n",
              "\n",
              "    .dataframe thead th {\n",
              "        text-align: right;\n",
              "    }\n",
              "</style>\n",
              "<table border=\"1\" class=\"dataframe\">\n",
              "  <thead>\n",
              "    <tr style=\"text-align: right;\">\n",
              "      <th></th>\n",
              "      <th>동물원에서</th>\n",
              "      <th>봤어</th>\n",
              "      <th>오늘</th>\n",
              "      <th>원숭이를</th>\n",
              "      <th>코끼리를</th>\n",
              "      <th>바나나를</th>\n",
              "      <th>원숭이에게</th>\n",
              "      <th>줬어</th>\n",
              "    </tr>\n",
              "  </thead>\n",
              "  <tbody>\n",
              "    <tr>\n",
              "      <th>0</th>\n",
              "      <td>1.0</td>\n",
              "      <td>0.0</td>\n",
              "      <td>0.0</td>\n",
              "      <td>0.0</td>\n",
              "      <td>0.0</td>\n",
              "      <td>1.0</td>\n",
              "      <td>1.0</td>\n",
              "      <td>1.0</td>\n",
              "    </tr>\n",
              "  </tbody>\n",
              "</table>\n",
              "</div>"
            ],
            "text/plain": [
              "   동물원에서   봤어   오늘  원숭이를  코끼리를  바나나를  원숭이에게   줬어\n",
              "0    1.0  0.0  0.0   0.0   0.0   1.0    1.0  1.0"
            ]
          },
          "metadata": {
            "tags": []
          }
        },
        {
          "output_type": "stream",
          "text": [
            "\n"
          ],
          "name": "stdout"
        }
      ]
    },
    {
      "cell_type": "markdown",
      "metadata": {
        "id": "FJociYz-ngYY",
        "colab_type": "text"
      },
      "source": [
        "2. TDM(Term-Document Matrix)"
      ]
    },
    {
      "cell_type": "markdown",
      "metadata": {
        "id": "L7VOEVdpngYa",
        "colab_type": "text"
      },
      "source": [
        "### 직접구현"
      ]
    },
    {
      "cell_type": "code",
      "metadata": {
        "id": "7La8uG-EngYb",
        "colab_type": "code",
        "colab": {},
        "outputId": "b19adf81-e629-41d8-e0c6-58434a425842"
      },
      "source": [
        "docs = ['오늘 동물원에서 원숭이를 봤어',\n",
        "       '오늘 동물원에서 코끼리를 봤어',\n",
        "       '동물원에서 원숭이에게 바나나를 줬어']\n",
        "docs"
      ],
      "execution_count": null,
      "outputs": [
        {
          "output_type": "execute_result",
          "data": {
            "text/plain": [
              "['오늘 동물원에서 원숭이를 봤어', '오늘 동물원에서 코끼리를 봤어', '동물원에서 원숭이에게 바나나를 줬어']"
            ]
          },
          "metadata": {
            "tags": []
          },
          "execution_count": 90
        }
      ]
    },
    {
      "cell_type": "code",
      "metadata": {
        "id": "52Fvaz-IngYc",
        "colab_type": "code",
        "colab": {},
        "outputId": "e507b093-0e3f-4536-ed28-99d97d129079"
      },
      "source": [
        "doc_ls = [doc.split() for doc in docs]\n",
        "doc_ls"
      ],
      "execution_count": null,
      "outputs": [
        {
          "output_type": "execute_result",
          "data": {
            "text/plain": [
              "[['오늘', '동물원에서', '원숭이를', '봤어'],\n",
              " ['오늘', '동물원에서', '코끼리를', '봤어'],\n",
              " ['동물원에서', '원숭이에게', '바나나를', '줬어']]"
            ]
          },
          "metadata": {
            "tags": []
          },
          "execution_count": 91
        }
      ]
    },
    {
      "cell_type": "markdown",
      "metadata": {
        "id": "Ewd_jpn7ngYd",
        "colab_type": "text"
      },
      "source": [
        "2-2. 띄어쓰기로 토큰화 후 각 고유 토큰에 index를 지정"
      ]
    },
    {
      "cell_type": "code",
      "metadata": {
        "id": "-JEZUSjZngYe",
        "colab_type": "code",
        "colab": {}
      },
      "source": [
        "from collections import defaultdict"
      ],
      "execution_count": null,
      "outputs": []
    },
    {
      "cell_type": "code",
      "metadata": {
        "id": "Mtt0p06ungYf",
        "colab_type": "code",
        "colab": {},
        "outputId": "881be280-ef9d-4748-cdad-f7162724fe03"
      },
      "source": [
        "word2id = defaultdict(lambda : len(word2id))\n",
        "[word2id[token] for doc in doc_ls for token in doc]\n",
        "word2id"
      ],
      "execution_count": null,
      "outputs": [
        {
          "output_type": "execute_result",
          "data": {
            "text/plain": [
              "defaultdict(<function __main__.<lambda>()>,\n",
              "            {'오늘': 0,\n",
              "             '동물원에서': 1,\n",
              "             '원숭이를': 2,\n",
              "             '봤어': 3,\n",
              "             '코끼리를': 4,\n",
              "             '원숭이에게': 5,\n",
              "             '바나나를': 6,\n",
              "             '줬어': 7})"
            ]
          },
          "metadata": {
            "tags": []
          },
          "execution_count": 93
        }
      ]
    },
    {
      "cell_type": "markdown",
      "metadata": {
        "id": "Zq9TIbjbngYg",
        "colab_type": "text"
      },
      "source": [
        "#### TDM 생성"
      ]
    },
    {
      "cell_type": "code",
      "metadata": {
        "id": "fM3ClaLmngYg",
        "colab_type": "code",
        "colab": {}
      },
      "source": [
        "import numpy as np"
      ],
      "execution_count": null,
      "outputs": []
    },
    {
      "cell_type": "code",
      "metadata": {
        "id": "z1hrx3zUngYh",
        "colab_type": "code",
        "colab": {},
        "outputId": "337b3a09-ffd9-47e5-dbaa-0bfdfe8e3de8"
      },
      "source": [
        "doc_ls"
      ],
      "execution_count": null,
      "outputs": [
        {
          "output_type": "execute_result",
          "data": {
            "text/plain": [
              "[['오늘', '동물원에서', '원숭이를', '봤어'],\n",
              " ['오늘', '동물원에서', '코끼리를', '봤어'],\n",
              " ['동물원에서', '원숭이에게', '바나나를', '줬어']]"
            ]
          },
          "metadata": {
            "tags": []
          },
          "execution_count": 97
        }
      ]
    },
    {
      "cell_type": "code",
      "metadata": {
        "id": "LpE_IehBngYi",
        "colab_type": "code",
        "colab": {},
        "outputId": "756fc6fe-1f11-4ff4-f52a-32b670371c96"
      },
      "source": [
        "TDM = np.zeros((len(word2id), len(doc_ls)), dtype=int)\n",
        "for i, doc in enumerate(doc_ls):\n",
        "    for token in doc:\n",
        "        TDM[word2id[token], i] += 1 # 해당 토큰의 위치(columns)\n",
        "TDM"
      ],
      "execution_count": null,
      "outputs": [
        {
          "output_type": "execute_result",
          "data": {
            "text/plain": [
              "array([[1, 1, 0],\n",
              "       [1, 1, 1],\n",
              "       [1, 0, 0],\n",
              "       [1, 1, 0],\n",
              "       [0, 1, 0],\n",
              "       [0, 0, 1],\n",
              "       [0, 0, 1],\n",
              "       [0, 0, 1]])"
            ]
          },
          "metadata": {
            "tags": []
          },
          "execution_count": 101
        }
      ]
    },
    {
      "cell_type": "markdown",
      "metadata": {
        "id": "5a_DsbZ5ngYk",
        "colab_type": "text"
      },
      "source": [
        "### sklearn 활용"
      ]
    },
    {
      "cell_type": "code",
      "metadata": {
        "id": "8ROCYfrwngYk",
        "colab_type": "code",
        "colab": {},
        "outputId": "0ec4066e-0c2b-447f-f305-0ee51f0a087f"
      },
      "source": [
        "docs = ['오늘 동물원에서 원숭이를 봤어',\n",
        "       '오늘 동물원에서 코끼리를 봤어',\n",
        "       '동물원에서 원숭이에게 바나나를 줬어']\n",
        "docs"
      ],
      "execution_count": null,
      "outputs": [
        {
          "output_type": "execute_result",
          "data": {
            "text/plain": [
              "['오늘 동물원에서 원숭이를 봤어', '오늘 동물원에서 코끼리를 봤어', '동물원에서 원숭이에게 바나나를 줬어']"
            ]
          },
          "metadata": {
            "tags": []
          },
          "execution_count": 102
        }
      ]
    },
    {
      "cell_type": "code",
      "metadata": {
        "id": "aHnulhLTngYm",
        "colab_type": "code",
        "colab": {}
      },
      "source": [
        "from sklearn.feature_extraction.text import CountVectorizer"
      ],
      "execution_count": null,
      "outputs": []
    },
    {
      "cell_type": "code",
      "metadata": {
        "id": "nrOtFFLSngYn",
        "colab_type": "code",
        "colab": {},
        "outputId": "fd2658d9-807b-44be-8827-81f6f8cc03b6"
      },
      "source": [
        "count_vect = CountVectorizer()\n",
        "DTM = count_vect.fit_transform(docs)\n",
        "DTM.toarray()"
      ],
      "execution_count": null,
      "outputs": [
        {
          "output_type": "execute_result",
          "data": {
            "text/plain": [
              "array([[1, 0, 1, 1, 1, 0, 0, 0],\n",
              "       [1, 0, 1, 1, 0, 0, 0, 1],\n",
              "       [1, 1, 0, 0, 0, 1, 1, 0]])"
            ]
          },
          "metadata": {
            "tags": []
          },
          "execution_count": 104
        }
      ]
    },
    {
      "cell_type": "code",
      "metadata": {
        "id": "_tbhrlvMngYo",
        "colab_type": "code",
        "colab": {},
        "outputId": "1a90d7e1-8d03-47b4-8eea-ad1061207b08"
      },
      "source": [
        "import pandas as pd\n",
        "\n",
        "doc_names = ['문서'+str(i) for i in range(len(doc_ls))]\n",
        "vocab = count_vect.get_feature_names()\n",
        "df_TDM = pd.DataFrame(DTM.toarray().T, columns=doc_names) #.T는 어떤 의미?\n",
        "df_TDM['단어'] = vocab\n",
        "df_TDM.set_index('단어')"
      ],
      "execution_count": null,
      "outputs": [
        {
          "output_type": "execute_result",
          "data": {
            "text/html": [
              "<div>\n",
              "<style scoped>\n",
              "    .dataframe tbody tr th:only-of-type {\n",
              "        vertical-align: middle;\n",
              "    }\n",
              "\n",
              "    .dataframe tbody tr th {\n",
              "        vertical-align: top;\n",
              "    }\n",
              "\n",
              "    .dataframe thead th {\n",
              "        text-align: right;\n",
              "    }\n",
              "</style>\n",
              "<table border=\"1\" class=\"dataframe\">\n",
              "  <thead>\n",
              "    <tr style=\"text-align: right;\">\n",
              "      <th></th>\n",
              "      <th>문서0</th>\n",
              "      <th>문서1</th>\n",
              "      <th>문서2</th>\n",
              "    </tr>\n",
              "    <tr>\n",
              "      <th>단어</th>\n",
              "      <th></th>\n",
              "      <th></th>\n",
              "      <th></th>\n",
              "    </tr>\n",
              "  </thead>\n",
              "  <tbody>\n",
              "    <tr>\n",
              "      <th>동물원에서</th>\n",
              "      <td>1</td>\n",
              "      <td>1</td>\n",
              "      <td>1</td>\n",
              "    </tr>\n",
              "    <tr>\n",
              "      <th>바나나를</th>\n",
              "      <td>0</td>\n",
              "      <td>0</td>\n",
              "      <td>1</td>\n",
              "    </tr>\n",
              "    <tr>\n",
              "      <th>봤어</th>\n",
              "      <td>1</td>\n",
              "      <td>1</td>\n",
              "      <td>0</td>\n",
              "    </tr>\n",
              "    <tr>\n",
              "      <th>오늘</th>\n",
              "      <td>1</td>\n",
              "      <td>1</td>\n",
              "      <td>0</td>\n",
              "    </tr>\n",
              "    <tr>\n",
              "      <th>원숭이를</th>\n",
              "      <td>1</td>\n",
              "      <td>0</td>\n",
              "      <td>0</td>\n",
              "    </tr>\n",
              "    <tr>\n",
              "      <th>원숭이에게</th>\n",
              "      <td>0</td>\n",
              "      <td>0</td>\n",
              "      <td>1</td>\n",
              "    </tr>\n",
              "    <tr>\n",
              "      <th>줬어</th>\n",
              "      <td>0</td>\n",
              "      <td>0</td>\n",
              "      <td>1</td>\n",
              "    </tr>\n",
              "    <tr>\n",
              "      <th>코끼리를</th>\n",
              "      <td>0</td>\n",
              "      <td>1</td>\n",
              "      <td>0</td>\n",
              "    </tr>\n",
              "  </tbody>\n",
              "</table>\n",
              "</div>"
            ],
            "text/plain": [
              "       문서0  문서1  문서2\n",
              "단어                  \n",
              "동물원에서    1    1    1\n",
              "바나나를     0    0    1\n",
              "봤어       1    1    0\n",
              "오늘       1    1    0\n",
              "원숭이를     1    0    0\n",
              "원숭이에게    0    0    1\n",
              "줬어       0    0    1\n",
              "코끼리를     0    1    0"
            ]
          },
          "metadata": {
            "tags": []
          },
          "execution_count": 107
        }
      ]
    },
    {
      "cell_type": "code",
      "metadata": {
        "id": "HNu8-HVAngYr",
        "colab_type": "code",
        "colab": {}
      },
      "source": [
        ""
      ],
      "execution_count": null,
      "outputs": []
    }
  ]
}