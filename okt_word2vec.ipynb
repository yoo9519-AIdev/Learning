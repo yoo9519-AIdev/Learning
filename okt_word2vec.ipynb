{
  "nbformat": 4,
  "nbformat_minor": 0,
  "metadata": {
    "kernelspec": {
      "display_name": "Python 3",
      "language": "python",
      "name": "python3"
    },
    "language_info": {
      "codemirror_mode": {
        "name": "ipython",
        "version": 3
      },
      "file_extension": ".py",
      "mimetype": "text/x-python",
      "name": "python",
      "nbconvert_exporter": "python",
      "pygments_lexer": "ipython3",
      "version": "3.8.3"
    },
    "colab": {
      "name": "okt_word2vec.ipynb",
      "provenance": [],
      "include_colab_link": true
    }
  },
  "cells": [
    {
      "cell_type": "markdown",
      "metadata": {
        "id": "view-in-github",
        "colab_type": "text"
      },
      "source": [
        "<a href=\"https://colab.research.google.com/github/yoo9519-AIdev/Learning/blob/master/okt_word2vec.ipynb\" target=\"_parent\"><img src=\"https://colab.research.google.com/assets/colab-badge.svg\" alt=\"Open In Colab\"/></a>"
      ]
    },
    {
      "cell_type": "code",
      "metadata": {
        "id": "16VmsJQjtoOy",
        "colab_type": "code",
        "colab": {}
      },
      "source": [
        "import csv\n",
        "from konlpy.tag import Okt\n",
        "from gensim.models import word2vec"
      ],
      "execution_count": null,
      "outputs": []
    },
    {
      "cell_type": "code",
      "metadata": {
        "id": "84NTWNIHtoO5",
        "colab_type": "code",
        "colab": {}
      },
      "source": [
        "f = open('ratings_train.txt','r',encoding='utf-8')\n",
        "rdr = csv.reader(f, delimiter='\\t')\n",
        "rdw = list(rdr)\n",
        "f.close()"
      ],
      "execution_count": null,
      "outputs": []
    },
    {
      "cell_type": "code",
      "metadata": {
        "id": "KIX23t5ftoPB",
        "colab_type": "code",
        "colab": {}
      },
      "source": [
        "okt = Okt()"
      ],
      "execution_count": null,
      "outputs": []
    },
    {
      "cell_type": "code",
      "metadata": {
        "id": "bdq62D4ytoPG",
        "colab_type": "code",
        "colab": {}
      },
      "source": [
        "result = []\n",
        "for line in rdw:\n",
        "    malist = okt.pos(line[1],norm=True, stem=True)\n",
        "    r = []\n",
        "    for word in malist:\n",
        "        if not word[1] in ['Josa','Eomi','Punctuation']:\n",
        "            r.append(word[0])\n",
        "    rl = (' '.join(r)).strip()\n",
        "    result.append(rl)"
      ],
      "execution_count": null,
      "outputs": []
    },
    {
      "cell_type": "code",
      "metadata": {
        "id": "yee9Y2IStoPK",
        "colab_type": "code",
        "colab": {}
      },
      "source": [
        "with open('naver_movie.okt','w',encoding='utf-8') as fp:\n",
        "    fp.write('\\n'.join(result))"
      ],
      "execution_count": null,
      "outputs": []
    },
    {
      "cell_type": "code",
      "metadata": {
        "id": "1o94oS0htoPN",
        "colab_type": "code",
        "colab": {}
      },
      "source": [
        "wData = word2vec.LineSentence('naver_movie.okt')"
      ],
      "execution_count": null,
      "outputs": []
    },
    {
      "cell_type": "code",
      "metadata": {
        "id": "4xqvUXPetoPP",
        "colab_type": "code",
        "colab": {}
      },
      "source": [
        "wModel = word2vec.Word2Vec(wData, size=200, window=10, hs=1, min_count=2,sg=1)\n",
        "wModel.save('NaverMovie_okt_wo_jep.model')"
      ],
      "execution_count": null,
      "outputs": []
    },
    {
      "cell_type": "code",
      "metadata": {
        "id": "V16oglrctoPR",
        "colab_type": "code",
        "colab": {},
        "outputId": "f554ccdd-c74b-4d2d-9618-80f33ab626d3"
      },
      "source": [
        "model = word2vec.Word2Vec.load('NaverMovie_okt_wo_jep.model')\n",
        "print(model.most_similar(positive=['재미']))"
      ],
      "execution_count": null,
      "outputs": [
        {
          "output_type": "stream",
          "text": [
            "[('없슴', 0.6083025932312012), ('나용', 0.5860949754714966), ('지렁이', 0.578545093536377), ('ㅠㅡㅜ', 0.5734343528747559), ('칙스', 0.5649487376213074), ('잼', 0.5583363771438599), ('애매', 0.5579890012741089), ('섹씬', 0.5574002265930176), ('오랬', 0.5563044548034668), ('푸시', 0.5529873371124268)]\n"
          ],
          "name": "stdout"
        },
        {
          "output_type": "stream",
          "text": [
            "<ipython-input-18-761853ebffc4>:2: DeprecationWarning: Call to deprecated `most_similar` (Method will be removed in 4.0.0, use self.wv.most_similar() instead).\n",
            "  print(model.most_similar(positive=['재미']))\n"
          ],
          "name": "stderr"
        }
      ]
    },
    {
      "cell_type": "code",
      "metadata": {
        "id": "DR2t43R2toPV",
        "colab_type": "code",
        "colab": {},
        "outputId": "8544b5df-9ffb-46a7-fe63-58d5ba130020"
      },
      "source": [
        "print(model.most_similar(positive=['최고']))"
      ],
      "execution_count": null,
      "outputs": [
        {
          "output_type": "stream",
          "text": [
            "[('최고다', 0.7103190422058105), ('꼽을', 0.6964830160140991), ('꼽는', 0.6681153774261475), ('으뜸', 0.6545313596725464), ('단연', 0.6468274593353271), ('손꼽다', 0.6287389993667603), ('정치드라마', 0.628429651260376), ('하이스쿨', 0.6280812621116638), ('러브라이브', 0.6198347806930542), ('손에꼽는', 0.6185516715049744)]\n"
          ],
          "name": "stdout"
        },
        {
          "output_type": "stream",
          "text": [
            "<ipython-input-19-4a2bd6f98709>:1: DeprecationWarning: Call to deprecated `most_similar` (Method will be removed in 4.0.0, use self.wv.most_similar() instead).\n",
            "  print(model.most_similar(positive=['최고']))\n"
          ],
          "name": "stderr"
        }
      ]
    },
    {
      "cell_type": "code",
      "metadata": {
        "id": "mrTJGmUItoPX",
        "colab_type": "code",
        "colab": {}
      },
      "source": [
        ""
      ],
      "execution_count": null,
      "outputs": []
    }
  ]
}