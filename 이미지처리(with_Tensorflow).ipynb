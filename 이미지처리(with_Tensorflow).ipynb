{
  "nbformat": 4,
  "nbformat_minor": 0,
  "metadata": {
    "colab": {
      "name": "이미지처리(with_Tensorflow).ipynb",
      "provenance": [],
      "collapsed_sections": [],
      "machine_shape": "hm",
      "mount_file_id": "16ukjpIx6nLzkzz8t5rHV3TDp5L0XsBwa",
      "authorship_tag": "ABX9TyMXlPhMnHqf5iW7DCmJq0U4",
      "include_colab_link": true
    },
    "kernelspec": {
      "name": "python3",
      "display_name": "Python 3"
    }
  },
  "cells": [
    {
      "cell_type": "markdown",
      "metadata": {
        "id": "view-in-github",
        "colab_type": "text"
      },
      "source": [
        "<a href=\"https://colab.research.google.com/github/yoo9519-AIdev/Learning/blob/master/%EC%9D%B4%EB%AF%B8%EC%A7%80%EC%B2%98%EB%A6%AC(with_Tensorflow).ipynb\" target=\"_parent\"><img src=\"https://colab.research.google.com/assets/colab-badge.svg\" alt=\"Open In Colab\"/></a>"
      ]
    },
    {
      "cell_type": "markdown",
      "metadata": {
        "id": "re-R1GIKxVWB",
        "colab_type": "text"
      },
      "source": [
        "# CNN과 특성 개념  \n",
        " - 핵심 특징을 올바르게 추출\n",
        " - 다층 신경망과 다층 합성곱 신경망은 각 층별로 저수준 특성을 연결하여, 고수준 특성을 만듦.\n",
        " - CNN은 입력 이미지에서 feature map을 만든다.\n",
        " - CNN이 이미지 관련 작업을 잘 수행하는 이유는 다음과 같은 2개의 아이디어 때문이다.\n",
        "  - 희소 연결 : 특성 맵에 있는 하나의 원소는 작은 픽셀 패치 하나에만 연결된다.\n",
        "  - 파라미터 공유 : 동일한 가중치가 입력 이미지의 모든 패치에 사용된다.  \n",
        "  즉, 이 두 아이디어의 결과로 네트워크의 가중치(파라미터) 개수가 극적으로 감수하고, 중요 특징을 잡아내는 능력이 향상된다."
      ]
    },
    {
      "cell_type": "markdown",
      "metadata": {
        "id": "AYYeoJAXw5wg",
        "colab_type": "text"
      },
      "source": [
        "## 1D 이산 합성곱 수행\n",
        "이산 합성곱은 CNN의 기본 연산이다. 텐서플로우 같은 패키지의 실제 합성곱 연산은 훨씬 효율적으로 구성되어 있다."
      ]
    },
    {
      "cell_type": "code",
      "metadata": {
        "id": "mWu_5avcyFqD",
        "colab_type": "code",
        "colab": {}
      },
      "source": [
        "import numpy as np\n",
        "def conv1d(x, w, p=0, s=1):\n",
        "    w_rot = np.array(w[::-1])\n",
        "    x_padded = np.array(x)\n",
        "    if p > 0:\n",
        "        zero_pad = np.zeros(shape=p)\n",
        "        x_padded = np.concatenate([zero_pad,\n",
        "                                   x_padded,\n",
        "                                   zero_pad])\n",
        "    res = []\n",
        "    for i in range(0, int(len(x)/s), s):\n",
        "        res.append(np.sum(x_padded[i:i+w_rot.shape[0]] * w_rot))\n",
        "        \n",
        "    return np.array(res)"
      ],
      "execution_count": null,
      "outputs": []
    },
    {
      "cell_type": "code",
      "metadata": {
        "id": "YAt9-a7y_S-r",
        "colab_type": "code",
        "colab": {
          "base_uri": "https://localhost:8080/",
          "height": 32
        },
        "outputId": "dcc673ba-dfae-4553-aee9-cb5de66c9186"
      },
      "source": [
        "x = [1, 3, 2, 4, 5, 6, 1, 3]\n",
        "w = [1, 0, 3, 1, 2]\n",
        "\n",
        "print(\"Conv1d 구현 :\", conv1d(x, w, p=2, s=1))"
      ],
      "execution_count": null,
      "outputs": [
        {
          "output_type": "stream",
          "text": [
            "Conv1d 구현 : [ 5. 14. 16. 26. 24. 34. 19. 22.]\n"
          ],
          "name": "stdout"
        }
      ]
    },
    {
      "cell_type": "code",
      "metadata": {
        "id": "dSFcd6aCEAjs",
        "colab_type": "code",
        "colab": {
          "base_uri": "https://localhost:8080/",
          "height": 32
        },
        "outputId": "fbc749c1-fca2-434a-ee12-b757e5757e17"
      },
      "source": [
        "print(\"numpy 결과 :\", np.convolve(x, w, mode='same'))"
      ],
      "execution_count": null,
      "outputs": [
        {
          "output_type": "stream",
          "text": [
            "numpy 결과 : [ 5 14 16 26 24 34 19 22]\n"
          ],
          "name": "stdout"
        }
      ]
    },
    {
      "cell_type": "markdown",
      "metadata": {
        "id": "ObeUQMfm9_mC",
        "colab_type": "text"
      },
      "source": [
        "## 2D 합성곱 출력 크기 계산  \n",
        "합성곱 출력 크기는 입력 벡터 위를 필터 w가 이동하는 전체 횟수로 결정된다. "
      ]
    },
    {
      "cell_type": "code",
      "metadata": {
        "id": "bGxbpaWW77Vs",
        "colab_type": "code",
        "colab": {}
      },
      "source": [
        "import numpy as np\n",
        "import scipy.signal"
      ],
      "execution_count": null,
      "outputs": []
    },
    {
      "cell_type": "code",
      "metadata": {
        "id": "FwhGxDCB9-4y",
        "colab_type": "code",
        "colab": {}
      },
      "source": [
        "def conv2d(X, W, p=(0, 0), s=(1, 1)):\n",
        "    W_rot = np.array(W)[::-1, ::-1]\n",
        "    X_orig = np.array(X)\n",
        "    n1 = X_orig.shape[0] + 2*p[0]\n",
        "    n2 = X_orig.shape[1] + 2*p[1]\n",
        "    X_padded = np.zeros(shape=(n1, n2))\n",
        "    X_padded[p[0]:p[0] + X_orig.shape[0],\n",
        "             p[1]:p[1] + X_orig.shape[1]] = X_orig\n",
        "\n",
        "    res_ = []\n",
        "    for i in range(0, int((X_padded.shape[0] - W_rot.shape[0]) /s[0]) + 1, s[0]):\n",
        "        res_.append([])\n",
        "        for j in range(0, int((X_padded.shape[1] - W_rot.shape[1]) / s[1]) + 1, s[1]):\n",
        "            X_sub = X_padded[i:i+W_rot.shape[0],\n",
        "                             j:j+W_rot.shape[1]]\n",
        "            res_[-1].append(np.sum(X_sub * W_rot))\n",
        "    \n",
        "    return (np.array(res_))"
      ],
      "execution_count": null,
      "outputs": []
    },
    {
      "cell_type": "code",
      "metadata": {
        "id": "8tQNW7V2JbIi",
        "colab_type": "code",
        "colab": {
          "base_uri": "https://localhost:8080/",
          "height": 98
        },
        "outputId": "4f6c79e9-255c-47f7-b996-28d0ed411572"
      },
      "source": [
        "X = [[1, 3, 2, 4], [5, 6, 1, 3], [1, 2, 0, 2], [3, 4, 3, 2]]\n",
        "W = [[1, 0, 3], [1, 2, 1], [0, 1, 1]]\n",
        "\n",
        "print(\"Conv2D 구현:\\n\", conv2d(X, W, p=(1,1), s=(1, 1)))"
      ],
      "execution_count": null,
      "outputs": [
        {
          "output_type": "stream",
          "text": [
            "Conv2D 구현:\n",
            " [[11. 25. 32. 13.]\n",
            " [19. 25. 24. 13.]\n",
            " [13. 28. 25. 17.]\n",
            " [11. 17. 14.  9.]]\n"
          ],
          "name": "stdout"
        }
      ]
    },
    {
      "cell_type": "code",
      "metadata": {
        "id": "LUaVF-BALQyb",
        "colab_type": "code",
        "colab": {
          "base_uri": "https://localhost:8080/",
          "height": 98
        },
        "outputId": "974c58ad-7516-4341-ae9a-fc6b4f83299d"
      },
      "source": [
        "print(\"사이파이 결과:\\n\", scipy.signal.convolve2d(X, W, mode='same'))"
      ],
      "execution_count": null,
      "outputs": [
        {
          "output_type": "stream",
          "text": [
            "사이파이 결과:\n",
            " [[11 25 32 13]\n",
            " [19 25 24 13]\n",
            " [13 28 25 17]\n",
            " [11 17 14  9]]\n"
          ],
          "name": "stdout"
        }
      ]
    },
    {
      "cell_type": "markdown",
      "metadata": {
        "id": "e6rY_0sMOEcL",
        "colab_type": "text"
      },
      "source": [
        "## Tensorflow를 활용한 심층 합성곱 신경망 구현"
      ]
    },
    {
      "cell_type": "code",
      "metadata": {
        "id": "AZ6HYrua75nz",
        "colab_type": "code",
        "colab": {}
      },
      "source": [
        "import tensorflow as tf\n",
        "import matplotlib.pyplot as plt\n",
        "import numpy as np"
      ],
      "execution_count": 1,
      "outputs": []
    },
    {
      "cell_type": "code",
      "metadata": {
        "id": "EiXooyjdPa-X",
        "colab_type": "code",
        "colab": {
          "base_uri": "https://localhost:8080/",
          "height": 65
        },
        "outputId": "39c5d588-8ce2-4c7e-c998-474b32d0a4e5"
      },
      "source": [
        "(X_train, y_train), (X_test, y_test) = tf.keras.datasets.mnist.load_data()\n",
        "X_train.shape, y_train.shape"
      ],
      "execution_count": 2,
      "outputs": [
        {
          "output_type": "stream",
          "text": [
            "Downloading data from https://storage.googleapis.com/tensorflow/tf-keras-datasets/mnist.npz\n",
            "11493376/11490434 [==============================] - 0s 0us/step\n"
          ],
          "name": "stdout"
        },
        {
          "output_type": "execute_result",
          "data": {
            "text/plain": [
              "((60000, 28, 28), (60000,))"
            ]
          },
          "metadata": {
            "tags": []
          },
          "execution_count": 2
        }
      ]
    },
    {
      "cell_type": "code",
      "metadata": {
        "id": "WaF_yDoR9bPK",
        "colab_type": "code",
        "colab": {}
      },
      "source": [
        "from tensorflow.keras import layers"
      ],
      "execution_count": 3,
      "outputs": []
    },
    {
      "cell_type": "code",
      "metadata": {
        "id": "6NasK2SMNLhm",
        "colab_type": "code",
        "colab": {}
      },
      "source": [
        "model = tf.keras.Sequential([\n",
        "                             layers.Conv2D(64, (3,3), activation='relu'),\n",
        "                             layers.MaxPooling2D((2,2)),\n",
        "                             layers.Conv2D(128, (3,3), activation='relu'),\n",
        "                             layers.MaxPooling2D((2,2)),\n",
        "                             layers.Conv2D(256, (3,3), activation='relu'),\n",
        "                             layers.MaxPooling2D((2,2)),\n",
        "                             layers.Flatten(),\n",
        "                             layers.Dense(32, activation='relu'),\n",
        "                             layers.Dense(10, activation='softmax')\n",
        "])"
      ],
      "execution_count": 4,
      "outputs": []
    },
    {
      "cell_type": "code",
      "metadata": {
        "id": "gzwqw98SOKzJ",
        "colab_type": "code",
        "colab": {
          "base_uri": "https://localhost:8080/",
          "height": 32
        },
        "outputId": "79d9a3e9-9148-46cf-8eee-a0e8ef21b756"
      },
      "source": [
        "X_train.shape, y_train.shape"
      ],
      "execution_count": 5,
      "outputs": [
        {
          "output_type": "execute_result",
          "data": {
            "text/plain": [
              "((60000, 28, 28), (60000,))"
            ]
          },
          "metadata": {
            "tags": []
          },
          "execution_count": 5
        }
      ]
    },
    {
      "cell_type": "code",
      "metadata": {
        "id": "Gj_XMoZQOPBv",
        "colab_type": "code",
        "colab": {}
      },
      "source": [
        "X_train_, X_test_ = X_train[..., tf.newaxis], X_test[..., tf.newaxis]"
      ],
      "execution_count": 6,
      "outputs": []
    },
    {
      "cell_type": "code",
      "metadata": {
        "id": "nJZs40oCOg0o",
        "colab_type": "code",
        "colab": {
          "base_uri": "https://localhost:8080/",
          "height": 32
        },
        "outputId": "79ad6dc0-b502-4f5e-aa0f-aeb2350affc4"
      },
      "source": [
        "X_train_.shape"
      ],
      "execution_count": 7,
      "outputs": [
        {
          "output_type": "execute_result",
          "data": {
            "text/plain": [
              "(60000, 28, 28, 1)"
            ]
          },
          "metadata": {
            "tags": []
          },
          "execution_count": 7
        }
      ]
    },
    {
      "cell_type": "code",
      "metadata": {
        "id": "eBJT_Cs-Ohvr",
        "colab_type": "code",
        "colab": {}
      },
      "source": [
        "model.compile(optimizer='adam',\n",
        "              loss='sparse_categorical_crossentropy',\n",
        "              metrics='accuracy')"
      ],
      "execution_count": 8,
      "outputs": []
    },
    {
      "cell_type": "code",
      "metadata": {
        "id": "c-_19Iv5O0Ll",
        "colab_type": "code",
        "colab": {}
      },
      "source": [
        "X_train_, X_test_ = X_train_/255, X_test_/255"
      ],
      "execution_count": 9,
      "outputs": []
    },
    {
      "cell_type": "code",
      "metadata": {
        "id": "QR3wF2ycO-Ac",
        "colab_type": "code",
        "colab": {
          "base_uri": "https://localhost:8080/",
          "height": 131
        },
        "outputId": "c1d870be-def4-448d-e68e-b6c474cf6932"
      },
      "source": [
        "model.fit(X_train_, y_train, epochs=3, validation_split=0.2)"
      ],
      "execution_count": 10,
      "outputs": [
        {
          "output_type": "stream",
          "text": [
            "Epoch 1/3\n",
            "1500/1500 [==============================] - 82s 55ms/step - loss: 0.1986 - accuracy: 0.9388 - val_loss: 0.0734 - val_accuracy: 0.9791\n",
            "Epoch 2/3\n",
            "1500/1500 [==============================] - 80s 53ms/step - loss: 0.0645 - accuracy: 0.9805 - val_loss: 0.0594 - val_accuracy: 0.9829\n",
            "Epoch 3/3\n",
            "1500/1500 [==============================] - 81s 54ms/step - loss: 0.0437 - accuracy: 0.9865 - val_loss: 0.0761 - val_accuracy: 0.9778\n"
          ],
          "name": "stdout"
        },
        {
          "output_type": "execute_result",
          "data": {
            "text/plain": [
              "<tensorflow.python.keras.callbacks.History at 0x7f2237e34748>"
            ]
          },
          "metadata": {
            "tags": []
          },
          "execution_count": 10
        }
      ]
    },
    {
      "cell_type": "code",
      "metadata": {
        "id": "zkuobXEJPF_w",
        "colab_type": "code",
        "colab": {
          "base_uri": "https://localhost:8080/",
          "height": 444
        },
        "outputId": "08494587-45d7-4e3a-fd89-4a3c5bf89e64"
      },
      "source": [
        "model.summary()"
      ],
      "execution_count": 11,
      "outputs": [
        {
          "output_type": "stream",
          "text": [
            "Model: \"sequential\"\n",
            "_________________________________________________________________\n",
            "Layer (type)                 Output Shape              Param #   \n",
            "=================================================================\n",
            "conv2d (Conv2D)              (32, 26, 26, 64)          640       \n",
            "_________________________________________________________________\n",
            "max_pooling2d (MaxPooling2D) (32, 13, 13, 64)          0         \n",
            "_________________________________________________________________\n",
            "conv2d_1 (Conv2D)            (32, 11, 11, 128)         73856     \n",
            "_________________________________________________________________\n",
            "max_pooling2d_1 (MaxPooling2 (32, 5, 5, 128)           0         \n",
            "_________________________________________________________________\n",
            "conv2d_2 (Conv2D)            (32, 3, 3, 256)           295168    \n",
            "_________________________________________________________________\n",
            "max_pooling2d_2 (MaxPooling2 (32, 1, 1, 256)           0         \n",
            "_________________________________________________________________\n",
            "flatten (Flatten)            (32, 256)                 0         \n",
            "_________________________________________________________________\n",
            "dense (Dense)                (32, 32)                  8224      \n",
            "_________________________________________________________________\n",
            "dense_1 (Dense)              (32, 10)                  330       \n",
            "=================================================================\n",
            "Total params: 378,218\n",
            "Trainable params: 378,218\n",
            "Non-trainable params: 0\n",
            "_________________________________________________________________\n"
          ],
          "name": "stdout"
        }
      ]
    },
    {
      "cell_type": "code",
      "metadata": {
        "id": "6wLhdKw7SwoF",
        "colab_type": "code",
        "colab": {
          "base_uri": "https://localhost:8080/",
          "height": 32
        },
        "outputId": "a76e618e-42cd-48c7-fb77-2a611bfa0df1"
      },
      "source": [
        "model.weights[2].shape"
      ],
      "execution_count": 18,
      "outputs": [
        {
          "output_type": "execute_result",
          "data": {
            "text/plain": [
              "TensorShape([3, 3, 64, 128])"
            ]
          },
          "metadata": {
            "tags": []
          },
          "execution_count": 18
        }
      ]
    },
    {
      "cell_type": "code",
      "metadata": {
        "id": "U5-4fBnTS3j-",
        "colab_type": "code",
        "colab": {}
      },
      "source": [
        ""
      ],
      "execution_count": null,
      "outputs": []
    }
  ]
}